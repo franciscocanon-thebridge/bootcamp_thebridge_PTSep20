{
 "cells": [
  {
   "cell_type": "markdown",
   "metadata": {},
   "source": [
    "# Modelos de predicción ARIMA"
   ]
  },
  {
   "cell_type": "markdown",
   "metadata": {},
   "source": [
    "### Modelos AR y MA\n",
    "\n",
    "En las series temporales, los modelos de autorregresión (AR) y medias móviles (MA) proporcionan una simple descripción de un proceso en dos factores: uno para la autoregresión y el otro para la media móvil. La parte AR implica la regresión de la variable en sus propios valores retrasados. La idea es que el valor del período de tiempo anterior pueda ayudarnos a predecir el valor del período de tiempo actual. La parte MA implica modelar el término de error como una combinación lineal de términos de error que ocurren al mismo paso de tiempo y en varios momentos en el pasado.\n",
    "\n",
    "### Modelos autorregresivos\n",
    "\n",
    "El modelo autorregresivo (AR) se da cuando se puede predecir el valor actual de una serie temporal a partir del uso de valores anteriores de la misma serie. Es una regresión usando la propia serie, pero desfasada un periodo, llamado retraso. El valor actual es un promedio ponderado de sus valores pasados. Tanto el ``t-1`` como el ``t-2`` son retrasos (lags) de la serie temporal ``y``. El término de error (ruido) se representa como ``e``. Los valores ``a1`` y ``a2`` son los coeficientes del modelo.\n",
    "\n",
    "Dependiendo de los retrasos que queramos tener en cuenta, podemos definir diferentes modelos:\n",
    "\n",
    "\n",
    "Modelo AR(1): $y_{t}$ = $a_{1}$$y_{t-1}$ + $e_{t}$\n",
    "\n",
    "Modelo AR(2): $y_{t}$ = $a_{1}$$y_{t-1}$ + $a_{2}$$y_{t-2}$ + $e_{t}$\n",
    "\n",
    "En estos ejemplos, los valores 1 y 2 se corresponden con los retrasos que se tienen en cuenta, que se asocian a la variable ``p``, que nos indicará el orden del modelo AR.\n",
    "\n",
    "\n",
    "### Modelos de media móvil\n",
    "\n",
    "La media móvil (MA) es un procedimiento donde el valor actual de una serie temporal (``y``) se define como una combinación lineal de errores pasados. El término de error (ruido) se representa como ``e``. Tanto el ``t-1`` como el ``t-2`` son retrasos del tiempo en los errores.\n",
    "\n",
    "Modelo MA(1): $y_{t}$ = $m_{1}$$e_{t-1}$ + $e_{t}$\n",
    "\n",
    "Modleo MA(2): $y_{t}$ = $m_{1}$$e_{t-1}$ + $m_{2}$$e_{t-2}$ + $e_{t}$\n",
    "\n",
    "En estos ejemplos, los valores 1 y 2 se corresponden con los retrasos que se tienen en cuenta en los errores, que se asocian a la variable ``q``.\n",
    "\n",
    "\n",
    "### Modelos ARMA\n",
    "\n",
    "Si combinamos los modelos AR y MA, podemos crear un modelo ARMA, donde la predicción de la serie temporal se hace en base a los valores y errores del pasado.\n",
    "\n",
    "Modelo ARMA(1,1): $y_{t}$ = $a_{1}$$y_{t-1}$ + $m_{1}$$e_{t-1}$\n",
    "\n",
    "Para un modelo ARMA(p, q), la variable ``p`` se corresponde con los retrasos del modelo AR, y la variable ``q`` con los del MA."
   ]
  },
  {
   "cell_type": "markdown",
   "metadata": {},
   "source": [
    "## Métricas de predicción\n",
    "\n",
    "Dado que estos modelos son modelos de regresión, podemos utilizar las mismas métricas. En este caso, las más utilziadas son:"
   ]
  },
  {
   "cell_type": "markdown",
   "metadata": {},
   "source": [
    "- [R squared](http://scikit-learn.org/stable/modules/model_evaluation.html#r2-score-the-coefficient-of-determination): coeficiente de determinación (en econometría, esto puede interpretarse como el porcentaje de varianza explicado por el modelo), $(-\\infty, 1]$\n",
    "\n",
    "$R^2 = 1 - \\frac{SS_{res}}{SS_{tot}}$ \n",
    "\n",
    "```python\n",
    "sklearn.metrics.r2_score\n",
    "```\n",
    "---\n",
    "- [Error Absoluto Medio (Mean Absolute Error, MAE)](http://scikit-learn.org/stable/modules/model_evaluation.html#mean-absolute-error): esta es una métrica interpretable porque tiene la misma unidad de medición que la serie inicial, $[0, +\\infty)$\n",
    "\n",
    "$MAE = \\frac{\\sum\\limits_{i=1}^{n} |y_i - \\hat{y}_i|}{n}$\n",
    "\n",
    "```python\n",
    "sklearn.metrics.mean_absolute_error\n",
    "```\n",
    "---\n",
    "- [Median Absolute Error, MedAE](http://scikit-learn.org/stable/modules/model_evaluation.html#median-absolute-error): de nuevo, se trata de una medida interpretable, pero que es particularmente interesante por su robustez frente a outliers, $[0, +\\infty)$\n",
    "\n",
    "$MedAE = median(|y_1 - \\hat{y}_1|, ... , |y_n - \\hat{y}_n|)$\n",
    "\n",
    "```python\n",
    "sklearn.metrics.median_absolute_error\n",
    "```\n",
    "---\n",
    "- [Error Cuadrático Medio (Mean Squared Error, MSE)](http://scikit-learn.org/stable/modules/model_evaluation.html#mean-squared-error): es el más usado de las métricas dado que impone una gran penalización a los mayores errores y viceversa, $[0, +\\infty)$\n",
    "\n",
    "$MSE = \\frac{1}{n}\\sum\\limits_{i=1}^{n} (y_i - \\hat{y}_i)^2$\n",
    "\n",
    "```python\n",
    "sklearn.metrics.mean_squared_error\n",
    "```\n",
    "---\n",
    "- [Mean Squared Logarithmic Error](http://scikit-learn.org/stable/modules/model_evaluation.html#mean-squared-logarithmic-error): prácticamente, es lo mismo que el MSE, salvo que aplicamos una transformación logarítmica. Como resultado, le asignamos mayor importancia a los pequeños errores. Se suele utilizar cuando la serie temporal presenta cierta tendencia exponencial, $[0, +\\infty)$\n",
    "\n",
    "$MSLE = \\frac{1}{n}\\sum\\limits_{i=1}^{n} (log(1+y_i) - log(1+\\hat{y}_i))^2$\n",
    "\n",
    "```python\n",
    "sklearn.metrics.mean_squared_log_error\n",
    "```\n",
    "---\n",
    "- Error Porcentual Absoluto Medio (Mean Absolute Percentage Error, MAPE): básicamente, es lo mimso que el MAE, solo que se calcula de forma porcentual, lo caul le hace especialmente conveniente para explicar la calidad del modelo, $[0, +\\infty)$\n",
    "\n",
    "$MAPE = \\frac{100}{n}\\sum\\limits_{i=1}^{n} \\frac{|y_i - \\hat{y}_i|}{y_i}$ \n",
    "\n",
    "```python\n",
    "def mean_absolute_percentage_error(y_true, y_pred): \n",
    "    return np.mean(np.abs((y_true - y_pred) / y_true)) * 100\n",
    "```"
   ]
  },
  {
   "cell_type": "markdown",
   "metadata": {},
   "source": [
    "### Analítica\n",
    "\n",
    "Una vez ya hemos definido cada modelo y cómo los vamos a medir, podemos pasar a la parte analítica. PAra ello, nos basaremos en los datos de ventas de Johnson&Johnson.\n",
    "\n",
    "En este punto, es recomendable que instales la librería ``pmdarima``, que es una librería que incluye funcionalidades muy interesantes para calcular los modelos ARIMA:"
   ]
  },
  {
   "cell_type": "code",
   "execution_count": 3,
   "metadata": {},
   "outputs": [],
   "source": [
    "# librerías\n",
    "from statsmodels.tsa.stattools import pacf\n",
    "from statsmodels.tsa.stattools import acf\n",
    "from statsmodels.graphics.tsaplots import plot_pacf\n",
    "from statsmodels.graphics.tsaplots import plot_acf\n",
    "from statsmodels.tsa.stattools import adfuller\n",
    "\n",
    "# pip install pmdarima\n",
    "from pmdarima.arima import auto_arima\n",
    "from pmdarima.arima import ARIMA\n",
    "\n",
    "import matplotlib.pyplot as plt\n",
    "import pandas as pd\n",
    "import numpy as np\n",
    "from sklearn.metrics import mean_squared_error\n",
    "\n",
    "import warnings\n",
    "warnings.filterwarnings('ignore')"
   ]
  },
  {
   "cell_type": "code",
   "execution_count": 4,
   "metadata": {},
   "outputs": [
    {
     "name": "stdout",
     "output_type": "stream",
     "text": [
      "84\n"
     ]
    },
    {
     "data": {
      "text/html": [
       "<div>\n",
       "<style scoped>\n",
       "    .dataframe tbody tr th:only-of-type {\n",
       "        vertical-align: middle;\n",
       "    }\n",
       "\n",
       "    .dataframe tbody tr th {\n",
       "        vertical-align: top;\n",
       "    }\n",
       "\n",
       "    .dataframe thead th {\n",
       "        text-align: right;\n",
       "    }\n",
       "</style>\n",
       "<table border=\"1\" class=\"dataframe\">\n",
       "  <thead>\n",
       "    <tr style=\"text-align: right;\">\n",
       "      <th></th>\n",
       "      <th>data</th>\n",
       "    </tr>\n",
       "    <tr>\n",
       "      <th>date</th>\n",
       "      <th></th>\n",
       "    </tr>\n",
       "  </thead>\n",
       "  <tbody>\n",
       "    <tr>\n",
       "      <th>1979-10-01</th>\n",
       "      <td>9.99</td>\n",
       "    </tr>\n",
       "    <tr>\n",
       "      <th>1980-01-01</th>\n",
       "      <td>16.20</td>\n",
       "    </tr>\n",
       "    <tr>\n",
       "      <th>1980-04-01</th>\n",
       "      <td>14.67</td>\n",
       "    </tr>\n",
       "    <tr>\n",
       "      <th>1980-07-02</th>\n",
       "      <td>16.02</td>\n",
       "    </tr>\n",
       "    <tr>\n",
       "      <th>1980-10-01</th>\n",
       "      <td>11.61</td>\n",
       "    </tr>\n",
       "  </tbody>\n",
       "</table>\n",
       "</div>"
      ],
      "text/plain": [
       "             data\n",
       "date             \n",
       "1979-10-01   9.99\n",
       "1980-01-01  16.20\n",
       "1980-04-01  14.67\n",
       "1980-07-02  16.02\n",
       "1980-10-01  11.61"
      ]
     },
     "execution_count": 4,
     "metadata": {},
     "output_type": "execute_result"
    }
   ],
   "source": [
    "data = pd.read_csv('data/jj.csv', index_col=0)\n",
    "print(len(data))\n",
    "data.tail()"
   ]
  },
  {
   "cell_type": "code",
   "execution_count": 5,
   "metadata": {},
   "outputs": [
    {
     "data": {
      "image/png": "[encoded data removed]",
      "text/plain": [
       "<Figure size 1080x432 with 1 Axes>"
      ]
     },
     "metadata": {
      "needs_background": "light"
     },
     "output_type": "display_data"
    }
   ],
   "source": [
    "data['data'].plot(figsize=(15,6));"
   ]
  },
  {
   "cell_type": "markdown",
   "metadata": {},
   "source": [
    "Como se aprecia en la gráfica, se presentan diferentes estadísticos a lo largo del tiempo.\n",
    "\n",
    "A cntinuación, representaremos sus gráficas de autocorrelación, donde veremos que tenemos muy complicado determinar el orden p y q, de cara al modelo ARIMA."
   ]
  },
  {
   "cell_type": "code",
   "execution_count": 6,
   "metadata": {},
   "outputs": [
    {
     "data": {
      "image/png": "[encoded data removed]",
      "text/plain": [
       "<Figure size 432x288 with 1 Axes>"
      ]
     },
     "metadata": {
      "needs_background": "light"
     },
     "output_type": "display_data"
    }
   ],
   "source": [
    "plot_acf(data['data']);"
   ]
  },
  {
   "cell_type": "markdown",
   "metadata": {},
   "source": [
    "Dividimos en train y test. No podemos utilizar el modo basado en ``train_test_split``, ya que nos desordenaría los datos."
   ]
  },
  {
   "cell_type": "code",
   "execution_count": 8,
   "metadata": {},
   "outputs": [
    {
     "data": {
      "text/plain": [
       "array([ 0.71,  0.63,  0.85,  0.44,  0.61,  0.69,  0.92,  0.55,  0.72,\n",
       "        0.77,  0.92,  0.6 ,  0.83,  0.8 ,  1.  ,  0.77,  0.92,  1.  ,\n",
       "        1.24,  1.  ,  1.16,  1.3 ,  1.45,  1.25,  1.26,  1.38,  1.86,\n",
       "        1.56,  1.53,  1.59,  1.83,  1.86,  1.53,  2.07,  2.34,  2.25,\n",
       "        2.16,  2.43,  2.7 ,  2.25,  2.79,  3.42,  3.69,  3.6 ,  3.6 ,\n",
       "        4.32,  4.32,  4.05,  4.86,  5.04,  5.04,  4.41,  5.58,  5.85,\n",
       "        6.57,  5.31,  6.03,  6.39,  6.93,  5.85,  6.93,  7.74,  7.83,\n",
       "        6.12,  7.74,  8.91,  8.28,  6.84,  9.54, 10.26])"
      ]
     },
     "execution_count": 8,
     "metadata": {},
     "output_type": "execute_result"
    }
   ],
   "source": [
    "X = data['data'].values\n",
    "train = X[:70]\n",
    "test = X[70:]\n",
    "train"
   ]
  },
  {
   "cell_type": "markdown",
   "metadata": {},
   "source": [
    "## Autorregresión\n",
    "\n",
    "Tendremos que encontrar el orden de autorregresión que mejor encaje con nuestros datos, para lo cual varairemos los parámetros hasta encontrar los que mejor se ajusten:"
   ]
  },
  {
   "cell_type": "code",
   "execution_count": 9,
   "metadata": {},
   "outputs": [],
   "source": [
    "model_ar = ARIMA(order=(1, 0, 0))\n",
    "model_ar_fit = model_ar.fit(train)"
   ]
  },
  {
   "cell_type": "code",
   "execution_count": 10,
   "metadata": {},
   "outputs": [
    {
     "name": "stdout",
     "output_type": "stream",
     "text": [
      "mean_squared_error: 13.698850972237235\n",
      "root mean_squared_error: 3.7011958840673693\n"
     ]
    }
   ],
   "source": [
    "predictions = model_ar_fit.predict(14)\n",
    "print(\"mean_squared_error:\", mean_squared_error(test, predictions))\n",
    "print(\"root mean_squared_error:\", np.sqrt(mean_squared_error(test, predictions)))"
   ]
  },
  {
   "cell_type": "code",
   "execution_count": 11,
   "metadata": {},
   "outputs": [
    {
     "data": {
      "image/png": "[encoded data removed]",
      "text/plain": [
       "<Figure size 432x288 with 1 Axes>"
      ]
     },
     "metadata": {
      "needs_background": "light"
     },
     "output_type": "display_data"
    }
   ],
   "source": [
    "plt.plot(test)\n",
    "plt.plot(predictions,color='red');"
   ]
  },
  {
   "cell_type": "markdown",
   "metadata": {},
   "source": [
    "No parece que de buen resultado el AR(1,0,0). Probemos diferentes lags, a ver cuál sería el mejor"
   ]
  },
  {
   "cell_type": "code",
   "execution_count": 12,
   "metadata": {},
   "outputs": [
    {
     "data": {
      "image/png": "[encoded data removed]",
      "text/plain": [
       "<Figure size 432x288 with 1 Axes>"
      ]
     },
     "metadata": {
      "needs_background": "light"
     },
     "output_type": "display_data"
    }
   ],
   "source": [
    "lags = []\n",
    "mse = []\n",
    "for lag in range(1, 15):\n",
    "    try:\n",
    "        model_ar = ARIMA(order=(lag, 0, 0))\n",
    "        model_ar_fit = model_ar.fit(train)\n",
    "        predictions = model_ar_fit.predict(14)\n",
    "        lags.append(lag)\n",
    "        mse.append(mean_squared_error(test, predictions))\n",
    "        \n",
    "    except:\n",
    "        continue\n",
    "    \n",
    "plt.plot(lags, mse);"
   ]
  },
  {
   "cell_type": "code",
   "execution_count": 14,
   "metadata": {},
   "outputs": [
    {
     "data": {
      "image/png": "[encoded data removed]",
      "text/plain": [
       "<Figure size 432x288 with 1 Axes>"
      ]
     },
     "metadata": {
      "needs_background": "light"
     },
     "output_type": "display_data"
    }
   ],
   "source": [
    "plot_acf(train);"
   ]
  },
  {
   "cell_type": "markdown",
   "metadata": {},
   "source": [
    "Un parámetro p=1, p=2 o p=5 parece que da buen resultado, pero aun asi es muy alto el error."
   ]
  },
  {
   "cell_type": "markdown",
   "metadata": {},
   "source": [
    "## Medias móviles\n",
    "\n",
    "En este caso tendremos en cuenta los errores. El problema es que si tenemos muchos errores al principio, los iremos arrastrando durante las predicciones."
   ]
  },
  {
   "cell_type": "code",
   "execution_count": 15,
   "metadata": {},
   "outputs": [
    {
     "data": {
      "text/plain": [
       "ARIMA(order=(0, 0, 1))"
      ]
     },
     "execution_count": 15,
     "metadata": {},
     "output_type": "execute_result"
    }
   ],
   "source": [
    "model_ma = ARIMA(order=(0, 0, 1))\n",
    "model_ma.fit(train)"
   ]
  },
  {
   "cell_type": "code",
   "execution_count": 16,
   "metadata": {},
   "outputs": [
    {
     "name": "stdout",
     "output_type": "stream",
     "text": [
      "mean_squared_error: 87.15679101447661\n"
     ]
    }
   ],
   "source": [
    "predictions = model_ma.predict(14)\n",
    "print(\"mean_squared_error:\", mean_squared_error(test, predictions))"
   ]
  },
  {
   "cell_type": "code",
   "execution_count": 17,
   "metadata": {},
   "outputs": [
    {
     "data": {
      "image/png": "[encoded data removed]",
      "text/plain": [
       "<Figure size 432x288 with 1 Axes>"
      ]
     },
     "metadata": {
      "needs_background": "light"
     },
     "output_type": "display_data"
    }
   ],
   "source": [
    "plt.plot(test)\n",
    "plt.plot(predictions,color='red');"
   ]
  },
  {
   "cell_type": "markdown",
   "metadata": {},
   "source": [
    "No está dando buen resultado. Probaremos entonces varios lags"
   ]
  },
  {
   "cell_type": "code",
   "execution_count": 18,
   "metadata": {},
   "outputs": [
    {
     "data": {
      "image/png": "[encoded data removed]",
      "text/plain": [
       "<Figure size 432x288 with 1 Axes>"
      ]
     },
     "metadata": {
      "needs_background": "light"
     },
     "output_type": "display_data"
    }
   ],
   "source": [
    "lags = []\n",
    "mse = []\n",
    "for lag in range(1, 20):\n",
    "    try:\n",
    "        model_ma = ARIMA(order=(0, 0, lag))\n",
    "        model_ma_fit = model_ma.fit(train)\n",
    "        predictions = model_ma_fit.predict(14)\n",
    "        lags.append(lag)\n",
    "        mse.append(mean_squared_error(test, predictions))\n",
    "    except:\n",
    "        continue\n",
    "    \n",
    "plt.plot(lags, mse);"
   ]
  },
  {
   "cell_type": "markdown",
   "metadata": {},
   "source": [
    "Parece que según vamos aumentando el parámetro `q` del modelo Moving Average, va disminuyendo el error, pero aun así es bastante grande."
   ]
  },
  {
   "cell_type": "markdown",
   "metadata": {},
   "source": [
    "## ARIMA\n",
    "En el modelo ARIMA no solo influyen los parámetros `p` y `q`, sino que también tendremos en cuenta `d`, parámetro con el que diferenciaremos la serie y conseguiremos que sea estacionaria.\n",
    "\n",
    "Ahora bien, ¿cuál es la mejor combinación de parámetros? Tendremos que realizar varias pruebas. Para comparar los modelos se suele utilizar el AIC.\n",
    "\n",
    "### AIC\n",
    "\n",
    "Akaike’s Information Criterion (Criterio de Información de Akaike):\n",
    "\n",
    "![imagen](./img/aic.png)\n",
    "\n",
    "donde $k$ es el número de parámetros del modelo estadístico, y $L$ es el máximo valor de la función de verosimilitud para el modelo estimado. La función de verosimilitud permite realizar inferencias a partir de un conjunto de observaciones.\n",
    "\n",
    "Se utiliza para seleccionar el mejor modelo, que será el que tiene menor AIC. El AIC depende mucho de cada dato, y es una medida de comparación entre modelos, no de presentación de resultados. Un AIC bajo no quiere decir que el modelo sea muy bueno. Por tanto, AIC no nos dice nada sobre la calidad del modelo en términos absolutos.\n"
   ]
  },
  {
   "cell_type": "markdown",
   "metadata": {},
   "source": [
    "#### ¿Cómo conseguir los mejores p, d, q?\n",
    "\n",
    "Pues probando y quedándonos con el que mejor métrica nos devuelva, que en este caso será el AIC. Para ello, generaremos las posibles combinaciones de parámetros:"
   ]
  },
  {
   "cell_type": "code",
   "execution_count": 23,
   "metadata": {},
   "outputs": [
    {
     "data": {
      "text/plain": [
       "[(0, 0, 0), (0, 0, 1), (0, 0, 2)]"
      ]
     },
     "execution_count": 23,
     "metadata": {},
     "output_type": "execute_result"
    }
   ],
   "source": [
    "import itertools\n",
    "p=d=q=range(0,5)\n",
    "pdq = list(itertools.product(p, d, q))\n",
    "pdq[:3]"
   ]
  },
  {
   "cell_type": "code",
   "execution_count": 24,
   "metadata": {},
   "outputs": [],
   "source": [
    "results = []\n",
    "for param in pdq:\n",
    "    try:\n",
    "        model_arima = ARIMA(order=param)\n",
    "        model_arima_fit = model_arima.fit(train)\n",
    "        results.append((param,model_arima_fit.aic()))\n",
    "    except:\n",
    "        continue\n",
    "    "
   ]
  },
  {
   "cell_type": "code",
   "execution_count": 25,
   "metadata": {},
   "outputs": [
    {
     "data": {
      "text/html": [
       "<div>\n",
       "<style scoped>\n",
       "    .dataframe tbody tr th:only-of-type {\n",
       "        vertical-align: middle;\n",
       "    }\n",
       "\n",
       "    .dataframe tbody tr th {\n",
       "        vertical-align: top;\n",
       "    }\n",
       "\n",
       "    .dataframe thead th {\n",
       "        text-align: right;\n",
       "    }\n",
       "</style>\n",
       "<table border=\"1\" class=\"dataframe\">\n",
       "  <thead>\n",
       "    <tr style=\"text-align: right;\">\n",
       "      <th></th>\n",
       "      <th>ARIMA params</th>\n",
       "      <th>AIC</th>\n",
       "    </tr>\n",
       "  </thead>\n",
       "  <tbody>\n",
       "    <tr>\n",
       "      <th>87</th>\n",
       "      <td>(3, 2, 2)</td>\n",
       "      <td>37.062046</td>\n",
       "    </tr>\n",
       "    <tr>\n",
       "      <th>111</th>\n",
       "      <td>(4, 2, 1)</td>\n",
       "      <td>38.185617</td>\n",
       "    </tr>\n",
       "    <tr>\n",
       "      <th>88</th>\n",
       "      <td>(3, 2, 3)</td>\n",
       "      <td>38.423633</td>\n",
       "    </tr>\n",
       "    <tr>\n",
       "      <th>112</th>\n",
       "      <td>(4, 2, 2)</td>\n",
       "      <td>38.749495</td>\n",
       "    </tr>\n",
       "    <tr>\n",
       "      <th>89</th>\n",
       "      <td>(3, 2, 4)</td>\n",
       "      <td>40.354054</td>\n",
       "    </tr>\n",
       "  </tbody>\n",
       "</table>\n",
       "</div>"
      ],
      "text/plain": [
       "    ARIMA params        AIC\n",
       "87     (3, 2, 2)  37.062046\n",
       "111    (4, 2, 1)  38.185617\n",
       "88     (3, 2, 3)  38.423633\n",
       "112    (4, 2, 2)  38.749495\n",
       "89     (3, 2, 4)  40.354054"
      ]
     },
     "execution_count": 25,
     "metadata": {},
     "output_type": "execute_result"
    }
   ],
   "source": [
    "resultados_df = pd.DataFrame(results, columns=['ARIMA params', 'AIC']).sort_values('AIC')\n",
    "resultados_df.head()"
   ]
  },
  {
   "cell_type": "markdown",
   "metadata": {},
   "source": [
    "Ya tenemos la mejor combinación de parámetros para el ARIMA. Probemos el modelo"
   ]
  },
  {
   "cell_type": "code",
   "execution_count": 26,
   "metadata": {},
   "outputs": [
    {
     "data": {
      "text/html": [
       "<table class=\"simpletable\">\n",
       "<caption>SARIMAX Results</caption>\n",
       "<tr>\n",
       "  <th>Dep. Variable:</th>           <td>y</td>        <th>  No. Observations:  </th>   <td>70</td>   \n",
       "</tr>\n",
       "<tr>\n",
       "  <th>Model:</th>           <td>SARIMAX(3, 2, 2)</td> <th>  Log Likelihood     </th> <td>-11.531</td>\n",
       "</tr>\n",
       "<tr>\n",
       "  <th>Date:</th>            <td>Sat, 06 Mar 2021</td> <th>  AIC                </th> <td>37.062</td> \n",
       "</tr>\n",
       "<tr>\n",
       "  <th>Time:</th>                <td>05:26:55</td>     <th>  BIC                </th> <td>52.599</td> \n",
       "</tr>\n",
       "<tr>\n",
       "  <th>Sample:</th>                  <td>0</td>        <th>  HQIC               </th> <td>43.218</td> \n",
       "</tr>\n",
       "<tr>\n",
       "  <th></th>                       <td> - 70</td>      <th>                     </th>    <td> </td>   \n",
       "</tr>\n",
       "<tr>\n",
       "  <th>Covariance Type:</th>        <td>opg</td>       <th>                     </th>    <td> </td>   \n",
       "</tr>\n",
       "</table>\n",
       "<table class=\"simpletable\">\n",
       "<tr>\n",
       "      <td></td>         <th>coef</th>     <th>std err</th>      <th>z</th>      <th>P>|z|</th>  <th>[0.025</th>    <th>0.975]</th>  \n",
       "</tr>\n",
       "<tr>\n",
       "  <th>intercept</th> <td>    0.0174</td> <td>    0.002</td> <td>    7.101</td> <td> 0.000</td> <td>    0.013</td> <td>    0.022</td>\n",
       "</tr>\n",
       "<tr>\n",
       "  <th>ar.L1</th>     <td>   -1.1106</td> <td>    0.053</td> <td>  -20.804</td> <td> 0.000</td> <td>   -1.215</td> <td>   -1.006</td>\n",
       "</tr>\n",
       "<tr>\n",
       "  <th>ar.L2</th>     <td>   -1.0931</td> <td>    0.050</td> <td>  -21.776</td> <td> 0.000</td> <td>   -1.191</td> <td>   -0.995</td>\n",
       "</tr>\n",
       "<tr>\n",
       "  <th>ar.L3</th>     <td>   -0.9539</td> <td>    0.041</td> <td>  -23.069</td> <td> 0.000</td> <td>   -1.035</td> <td>   -0.873</td>\n",
       "</tr>\n",
       "<tr>\n",
       "  <th>ma.L1</th>     <td>   -0.5173</td> <td>    0.151</td> <td>   -3.434</td> <td> 0.001</td> <td>   -0.813</td> <td>   -0.222</td>\n",
       "</tr>\n",
       "<tr>\n",
       "  <th>ma.L2</th>     <td>   -0.4445</td> <td>    0.133</td> <td>   -3.335</td> <td> 0.001</td> <td>   -0.706</td> <td>   -0.183</td>\n",
       "</tr>\n",
       "<tr>\n",
       "  <th>sigma2</th>    <td>    0.0688</td> <td>    0.011</td> <td>    6.178</td> <td> 0.000</td> <td>    0.047</td> <td>    0.091</td>\n",
       "</tr>\n",
       "</table>\n",
       "<table class=\"simpletable\">\n",
       "<tr>\n",
       "  <th>Ljung-Box (Q):</th>          <td>32.58</td> <th>  Jarque-Bera (JB):  </th> <td>8.43</td>\n",
       "</tr>\n",
       "<tr>\n",
       "  <th>Prob(Q):</th>                <td>0.79</td>  <th>  Prob(JB):          </th> <td>0.01</td>\n",
       "</tr>\n",
       "<tr>\n",
       "  <th>Heteroskedasticity (H):</th> <td>24.87</td> <th>  Skew:              </th> <td>0.54</td>\n",
       "</tr>\n",
       "<tr>\n",
       "  <th>Prob(H) (two-sided):</th>    <td>0.00</td>  <th>  Kurtosis:          </th> <td>4.34</td>\n",
       "</tr>\n",
       "</table><br/><br/>Warnings:<br/>[1] Covariance matrix calculated using the outer product of gradients (complex-step)."
      ],
      "text/plain": [
       "<class 'statsmodels.iolib.summary.Summary'>\n",
       "\"\"\"\n",
       "                               SARIMAX Results                                \n",
       "==============================================================================\n",
       "Dep. Variable:                      y   No. Observations:                   70\n",
       "Model:               SARIMAX(3, 2, 2)   Log Likelihood                 -11.531\n",
       "Date:                Sat, 06 Mar 2021   AIC                             37.062\n",
       "Time:                        05:26:55   BIC                             52.599\n",
       "Sample:                             0   HQIC                            43.218\n",
       "                                 - 70                                         \n",
       "Covariance Type:                  opg                                         \n",
       "==============================================================================\n",
       "                 coef    std err          z      P>|z|      [0.025      0.975]\n",
       "------------------------------------------------------------------------------\n",
       "intercept      0.0174      0.002      7.101      0.000       0.013       0.022\n",
       "ar.L1         -1.1106      0.053    -20.804      0.000      -1.215      -1.006\n",
       "ar.L2         -1.0931      0.050    -21.776      0.000      -1.191      -0.995\n",
       "ar.L3         -0.9539      0.041    -23.069      0.000      -1.035      -0.873\n",
       "ma.L1         -0.5173      0.151     -3.434      0.001      -0.813      -0.222\n",
       "ma.L2         -0.4445      0.133     -3.335      0.001      -0.706      -0.183\n",
       "sigma2         0.0688      0.011      6.178      0.000       0.047       0.091\n",
       "===================================================================================\n",
       "Ljung-Box (Q):                       32.58   Jarque-Bera (JB):                 8.43\n",
       "Prob(Q):                              0.79   Prob(JB):                         0.01\n",
       "Heteroskedasticity (H):              24.87   Skew:                             0.54\n",
       "Prob(H) (two-sided):                  0.00   Kurtosis:                         4.34\n",
       "===================================================================================\n",
       "\n",
       "Warnings:\n",
       "[1] Covariance matrix calculated using the outer product of gradients (complex-step).\n",
       "\"\"\""
      ]
     },
     "execution_count": 26,
     "metadata": {},
     "output_type": "execute_result"
    }
   ],
   "source": [
    "best_model = ARIMA(order=(3,2,2))\n",
    "best_model.fit(train)\n",
    "best_model.summary()"
   ]
  },
  {
   "cell_type": "code",
   "execution_count": 27,
   "metadata": {},
   "outputs": [
    {
     "name": "stdout",
     "output_type": "stream",
     "text": [
      "mean_squared_error: 3.9422958216423436\n",
      "root mean_squared_error: 1.9855215490249265\n"
     ]
    }
   ],
   "source": [
    "predictions = best_model.predict(14)\n",
    "print(\"mean_squared_error:\", mean_squared_error(test, predictions))\n",
    "print(\"root mean_squared_error:\", np.sqrt(mean_squared_error(test, predictions)))"
   ]
  },
  {
   "cell_type": "code",
   "execution_count": 28,
   "metadata": {},
   "outputs": [
    {
     "data": {
      "image/png": "[encoded data removed]",
      "text/plain": [
       "<Figure size 432x288 with 1 Axes>"
      ]
     },
     "metadata": {
      "needs_background": "light"
     },
     "output_type": "display_data"
    }
   ],
   "source": [
    "plt.plot(test)\n",
    "plt.plot(predictions,color='red');"
   ]
  },
  {
   "cell_type": "markdown",
   "metadata": {},
   "source": [
    "### Auto ARIMA\n",
    "\n",
    "Acabamos de buscar la mejor combinación de parámetros con nuestra lógica, al igual que hicimos en su día con el ``for`` para sacar el mejor número de vecinos en un KNN. Sin embargo, así como vimos que había métodos para automatizar ese proceso, también los hay para el ARIMA: la función ``auto_arima`` que nos hemos importado de la nueva librería ``pmdarima``"
   ]
  },
  {
   "cell_type": "code",
   "execution_count": 29,
   "metadata": {},
   "outputs": [
    {
     "name": "stdout",
     "output_type": "stream",
     "text": [
      "Performing stepwise search to minimize aic\n",
      " ARIMA(2,2,2)(0,0,0)[0]             : AIC=83.049, Time=0.10 sec\n",
      " ARIMA(0,2,0)(0,0,0)[0]             : AIC=196.672, Time=0.01 sec\n",
      " ARIMA(1,2,0)(0,0,0)[0]             : AIC=180.443, Time=0.01 sec\n",
      " ARIMA(0,2,1)(0,0,0)[0]             : AIC=140.942, Time=0.04 sec\n",
      " ARIMA(1,2,2)(0,0,0)[0]             : AIC=137.570, Time=0.15 sec\n",
      " ARIMA(2,2,1)(0,0,0)[0]             : AIC=113.935, Time=0.08 sec\n",
      " ARIMA(3,2,2)(0,0,0)[0]             : AIC=42.673, Time=0.18 sec\n",
      " ARIMA(3,2,1)(0,0,0)[0]             : AIC=47.310, Time=0.13 sec\n",
      " ARIMA(4,2,2)(0,0,0)[0]             : AIC=44.623, Time=0.35 sec\n",
      " ARIMA(3,2,3)(0,0,0)[0]             : AIC=44.530, Time=0.18 sec\n",
      " ARIMA(2,2,3)(0,0,0)[0]             : AIC=82.336, Time=0.16 sec\n",
      " ARIMA(4,2,1)(0,0,0)[0]             : AIC=44.000, Time=0.35 sec\n",
      " ARIMA(4,2,3)(0,0,0)[0]             : AIC=45.524, Time=0.38 sec\n",
      " ARIMA(3,2,2)(0,0,0)[0] intercept   : AIC=37.062, Time=0.33 sec\n",
      " ARIMA(2,2,2)(0,0,0)[0] intercept   : AIC=83.502, Time=0.23 sec\n",
      " ARIMA(3,2,1)(0,0,0)[0] intercept   : AIC=inf, Time=0.30 sec\n",
      " ARIMA(4,2,2)(0,0,0)[0] intercept   : AIC=38.749, Time=0.44 sec\n",
      " ARIMA(3,2,3)(0,0,0)[0] intercept   : AIC=38.424, Time=0.38 sec\n",
      " ARIMA(2,2,1)(0,0,0)[0] intercept   : AIC=inf, Time=0.38 sec\n",
      " ARIMA(2,2,3)(0,0,0)[0] intercept   : AIC=77.242, Time=0.36 sec\n",
      " ARIMA(4,2,1)(0,0,0)[0] intercept   : AIC=38.186, Time=0.46 sec\n",
      " ARIMA(4,2,3)(0,0,0)[0] intercept   : AIC=inf, Time=0.49 sec\n",
      "\n",
      "Best model:  ARIMA(3,2,2)(0,0,0)[0] intercept\n",
      "Total fit time: 5.492 seconds\n",
      "37.062046083850085\n"
     ]
    }
   ],
   "source": [
    "model = auto_arima(train,\n",
    "                  max_p=5,\n",
    "                  max_q=5,\n",
    "                  max_d=3,\n",
    "                  seasonality=False,\n",
    "                  trace=True,\n",
    "                  stepwise=True)\n",
    "print(model.aic())"
   ]
  },
  {
   "cell_type": "code",
   "execution_count": 30,
   "metadata": {},
   "outputs": [
    {
     "name": "stdout",
     "output_type": "stream",
     "text": [
      "                               SARIMAX Results                                \n",
      "==============================================================================\n",
      "Dep. Variable:                      y   No. Observations:                   70\n",
      "Model:               SARIMAX(3, 2, 2)   Log Likelihood                 -11.531\n",
      "Date:                Sat, 06 Mar 2021   AIC                             37.062\n",
      "Time:                        05:28:43   BIC                             52.599\n",
      "Sample:                             0   HQIC                            43.218\n",
      "                                 - 70                                         \n",
      "Covariance Type:                  opg                                         \n",
      "==============================================================================\n",
      "                 coef    std err          z      P>|z|      [0.025      0.975]\n",
      "------------------------------------------------------------------------------\n",
      "intercept      0.0174      0.002      7.101      0.000       0.013       0.022\n",
      "ar.L1         -1.1106      0.053    -20.804      0.000      -1.215      -1.006\n",
      "ar.L2         -1.0931      0.050    -21.776      0.000      -1.191      -0.995\n",
      "ar.L3         -0.9539      0.041    -23.069      0.000      -1.035      -0.873\n",
      "ma.L1         -0.5173      0.151     -3.434      0.001      -0.813      -0.222\n",
      "ma.L2         -0.4445      0.133     -3.335      0.001      -0.706      -0.183\n",
      "sigma2         0.0688      0.011      6.178      0.000       0.047       0.091\n",
      "===================================================================================\n",
      "Ljung-Box (Q):                       32.58   Jarque-Bera (JB):                 8.43\n",
      "Prob(Q):                              0.79   Prob(JB):                         0.01\n",
      "Heteroskedasticity (H):              24.87   Skew:                             0.54\n",
      "Prob(H) (two-sided):                  0.00   Kurtosis:                         4.34\n",
      "===================================================================================\n",
      "\n",
      "Warnings:\n",
      "[1] Covariance matrix calculated using the outer product of gradients (complex-step).\n"
     ]
    }
   ],
   "source": [
    "model = ARIMA(order=(3,2,2))\n",
    "model.fit(train)\n",
    "print(model.summary())"
   ]
  },
  {
   "cell_type": "code",
   "execution_count": 31,
   "metadata": {},
   "outputs": [
    {
     "name": "stdout",
     "output_type": "stream",
     "text": [
      "mean_squared_error: 3.9422958216423436\n",
      "root mean_squared_error: 1.9855215490249265\n"
     ]
    }
   ],
   "source": [
    "predictions = model.predict(14)\n",
    "print(\"mean_squared_error:\", mean_squared_error(test, predictions))\n",
    "print(\"root mean_squared_error:\", np.sqrt(mean_squared_error(test, predictions)))"
   ]
  },
  {
   "cell_type": "markdown",
   "metadata": {},
   "source": [
    "## ARIMAX\n",
    "La X viene de exogenous. Significa que le podemos añadir una variable externa con la que entrenar el modelo.\n",
    "\n",
    "Vamos a probar con los datos de la bolsa. Primero, un ``auto_arima`` con los datos a cierre. Y después, un auto_arima acompañado de los datos de apertura de bolsa, a ver cuánto ayudan a predecir el cierre."
   ]
  },
  {
   "cell_type": "code",
   "execution_count": 32,
   "metadata": {},
   "outputs": [
    {
     "name": "stdout",
     "output_type": "stream",
     "text": [
      "1259\n"
     ]
    },
    {
     "data": {
      "text/html": [
       "<div>\n",
       "<style scoped>\n",
       "    .dataframe tbody tr th:only-of-type {\n",
       "        vertical-align: middle;\n",
       "    }\n",
       "\n",
       "    .dataframe tbody tr th {\n",
       "        vertical-align: top;\n",
       "    }\n",
       "\n",
       "    .dataframe thead th {\n",
       "        text-align: right;\n",
       "    }\n",
       "</style>\n",
       "<table border=\"1\" class=\"dataframe\">\n",
       "  <thead>\n",
       "    <tr style=\"text-align: right;\">\n",
       "      <th></th>\n",
       "      <th>Open</th>\n",
       "      <th>High</th>\n",
       "      <th>Low</th>\n",
       "      <th>Close</th>\n",
       "      <th>Adj Close</th>\n",
       "      <th>Volume</th>\n",
       "    </tr>\n",
       "    <tr>\n",
       "      <th>Date</th>\n",
       "      <th></th>\n",
       "      <th></th>\n",
       "      <th></th>\n",
       "      <th></th>\n",
       "      <th></th>\n",
       "      <th></th>\n",
       "    </tr>\n",
       "  </thead>\n",
       "  <tbody>\n",
       "    <tr>\n",
       "      <th>2014-12-08</th>\n",
       "      <td>76.180000</td>\n",
       "      <td>77.250000</td>\n",
       "      <td>75.400002</td>\n",
       "      <td>76.519997</td>\n",
       "      <td>76.519997</td>\n",
       "      <td>25733900</td>\n",
       "    </tr>\n",
       "    <tr>\n",
       "      <th>2014-12-09</th>\n",
       "      <td>75.199997</td>\n",
       "      <td>76.930000</td>\n",
       "      <td>74.779999</td>\n",
       "      <td>76.839996</td>\n",
       "      <td>76.839996</td>\n",
       "      <td>25358600</td>\n",
       "    </tr>\n",
       "    <tr>\n",
       "      <th>2014-12-10</th>\n",
       "      <td>76.650002</td>\n",
       "      <td>77.550003</td>\n",
       "      <td>76.070000</td>\n",
       "      <td>76.180000</td>\n",
       "      <td>76.180000</td>\n",
       "      <td>32210500</td>\n",
       "    </tr>\n",
       "    <tr>\n",
       "      <th>2014-12-11</th>\n",
       "      <td>76.519997</td>\n",
       "      <td>78.519997</td>\n",
       "      <td>76.480003</td>\n",
       "      <td>77.730003</td>\n",
       "      <td>77.730003</td>\n",
       "      <td>33462100</td>\n",
       "    </tr>\n",
       "    <tr>\n",
       "      <th>2014-12-12</th>\n",
       "      <td>77.160004</td>\n",
       "      <td>78.879997</td>\n",
       "      <td>77.019997</td>\n",
       "      <td>77.830002</td>\n",
       "      <td>77.830002</td>\n",
       "      <td>28091600</td>\n",
       "    </tr>\n",
       "    <tr>\n",
       "      <th>2014-12-15</th>\n",
       "      <td>78.459999</td>\n",
       "      <td>78.580002</td>\n",
       "      <td>76.559998</td>\n",
       "      <td>76.989998</td>\n",
       "      <td>76.989998</td>\n",
       "      <td>29396500</td>\n",
       "    </tr>\n",
       "    <tr>\n",
       "      <th>2014-12-16</th>\n",
       "      <td>76.190002</td>\n",
       "      <td>77.389999</td>\n",
       "      <td>74.589996</td>\n",
       "      <td>74.690002</td>\n",
       "      <td>74.690002</td>\n",
       "      <td>31554600</td>\n",
       "    </tr>\n",
       "    <tr>\n",
       "      <th>2014-12-17</th>\n",
       "      <td>75.010002</td>\n",
       "      <td>76.410004</td>\n",
       "      <td>74.900002</td>\n",
       "      <td>76.110001</td>\n",
       "      <td>76.110001</td>\n",
       "      <td>29203900</td>\n",
       "    </tr>\n",
       "    <tr>\n",
       "      <th>2014-12-18</th>\n",
       "      <td>76.889999</td>\n",
       "      <td>78.400002</td>\n",
       "      <td>76.510002</td>\n",
       "      <td>78.400002</td>\n",
       "      <td>78.400002</td>\n",
       "      <td>34222100</td>\n",
       "    </tr>\n",
       "    <tr>\n",
       "      <th>2014-12-19</th>\n",
       "      <td>78.750000</td>\n",
       "      <td>80.000000</td>\n",
       "      <td>78.330002</td>\n",
       "      <td>79.879997</td>\n",
       "      <td>79.879997</td>\n",
       "      <td>43335000</td>\n",
       "    </tr>\n",
       "    <tr>\n",
       "      <th>2014-12-22</th>\n",
       "      <td>80.080002</td>\n",
       "      <td>81.889999</td>\n",
       "      <td>80.000000</td>\n",
       "      <td>81.449997</td>\n",
       "      <td>81.449997</td>\n",
       "      <td>31395800</td>\n",
       "    </tr>\n",
       "    <tr>\n",
       "      <th>2014-12-23</th>\n",
       "      <td>82.019997</td>\n",
       "      <td>82.169998</td>\n",
       "      <td>80.400002</td>\n",
       "      <td>80.610001</td>\n",
       "      <td>80.610001</td>\n",
       "      <td>19865800</td>\n",
       "    </tr>\n",
       "    <tr>\n",
       "      <th>2014-12-24</th>\n",
       "      <td>81.029999</td>\n",
       "      <td>81.430000</td>\n",
       "      <td>80.750000</td>\n",
       "      <td>80.769997</td>\n",
       "      <td>80.769997</td>\n",
       "      <td>7685500</td>\n",
       "    </tr>\n",
       "    <tr>\n",
       "      <th>2014-12-26</th>\n",
       "      <td>81.019997</td>\n",
       "      <td>81.279999</td>\n",
       "      <td>80.510002</td>\n",
       "      <td>80.779999</td>\n",
       "      <td>80.779999</td>\n",
       "      <td>10647400</td>\n",
       "    </tr>\n",
       "    <tr>\n",
       "      <th>2014-12-29</th>\n",
       "      <td>80.489998</td>\n",
       "      <td>80.959999</td>\n",
       "      <td>79.709999</td>\n",
       "      <td>80.019997</td>\n",
       "      <td>80.019997</td>\n",
       "      <td>14134700</td>\n",
       "    </tr>\n",
       "    <tr>\n",
       "      <th>2014-12-30</th>\n",
       "      <td>79.849998</td>\n",
       "      <td>80.589996</td>\n",
       "      <td>79.099998</td>\n",
       "      <td>79.220001</td>\n",
       "      <td>79.220001</td>\n",
       "      <td>14370800</td>\n",
       "    </tr>\n",
       "    <tr>\n",
       "      <th>2014-12-31</th>\n",
       "      <td>79.540001</td>\n",
       "      <td>79.800003</td>\n",
       "      <td>77.860001</td>\n",
       "      <td>78.019997</td>\n",
       "      <td>78.019997</td>\n",
       "      <td>19935400</td>\n",
       "    </tr>\n",
       "    <tr>\n",
       "      <th>2015-01-02</th>\n",
       "      <td>78.580002</td>\n",
       "      <td>78.930000</td>\n",
       "      <td>77.699997</td>\n",
       "      <td>78.449997</td>\n",
       "      <td>78.449997</td>\n",
       "      <td>18177500</td>\n",
       "    </tr>\n",
       "    <tr>\n",
       "      <th>2015-01-05</th>\n",
       "      <td>77.980003</td>\n",
       "      <td>79.250000</td>\n",
       "      <td>76.860001</td>\n",
       "      <td>77.190002</td>\n",
       "      <td>77.190002</td>\n",
       "      <td>26452200</td>\n",
       "    </tr>\n",
       "    <tr>\n",
       "      <th>2015-01-06</th>\n",
       "      <td>77.230003</td>\n",
       "      <td>77.589996</td>\n",
       "      <td>75.360001</td>\n",
       "      <td>76.150002</td>\n",
       "      <td>76.150002</td>\n",
       "      <td>27399300</td>\n",
       "    </tr>\n",
       "  </tbody>\n",
       "</table>\n",
       "</div>"
      ],
      "text/plain": [
       "                 Open       High        Low      Close  Adj Close    Volume\n",
       "Date                                                                       \n",
       "2014-12-08  76.180000  77.250000  75.400002  76.519997  76.519997  25733900\n",
       "2014-12-09  75.199997  76.930000  74.779999  76.839996  76.839996  25358600\n",
       "2014-12-10  76.650002  77.550003  76.070000  76.180000  76.180000  32210500\n",
       "2014-12-11  76.519997  78.519997  76.480003  77.730003  77.730003  33462100\n",
       "2014-12-12  77.160004  78.879997  77.019997  77.830002  77.830002  28091600\n",
       "2014-12-15  78.459999  78.580002  76.559998  76.989998  76.989998  29396500\n",
       "2014-12-16  76.190002  77.389999  74.589996  74.690002  74.690002  31554600\n",
       "2014-12-17  75.010002  76.410004  74.900002  76.110001  76.110001  29203900\n",
       "2014-12-18  76.889999  78.400002  76.510002  78.400002  78.400002  34222100\n",
       "2014-12-19  78.750000  80.000000  78.330002  79.879997  79.879997  43335000\n",
       "2014-12-22  80.080002  81.889999  80.000000  81.449997  81.449997  31395800\n",
       "2014-12-23  82.019997  82.169998  80.400002  80.610001  80.610001  19865800\n",
       "2014-12-24  81.029999  81.430000  80.750000  80.769997  80.769997   7685500\n",
       "2014-12-26  81.019997  81.279999  80.510002  80.779999  80.779999  10647400\n",
       "2014-12-29  80.489998  80.959999  79.709999  80.019997  80.019997  14134700\n",
       "2014-12-30  79.849998  80.589996  79.099998  79.220001  79.220001  14370800\n",
       "2014-12-31  79.540001  79.800003  77.860001  78.019997  78.019997  19935400\n",
       "2015-01-02  78.580002  78.930000  77.699997  78.449997  78.449997  18177500\n",
       "2015-01-05  77.980003  79.250000  76.860001  77.190002  77.190002  26452200\n",
       "2015-01-06  77.230003  77.589996  75.360001  76.150002  76.150002  27399300"
      ]
     },
     "execution_count": 32,
     "metadata": {},
     "output_type": "execute_result"
    }
   ],
   "source": [
    "stock_df = pd.read_csv('data/FB.csv', header=0, index_col=0)\n",
    "print(len(stock_df))\n",
    "stock_df.head(20)"
   ]
  },
  {
   "cell_type": "code",
   "execution_count": 33,
   "metadata": {},
   "outputs": [
    {
     "data": {
      "image/png": "[encoded data removed]",
      "text/plain": [
       "<Figure size 1080x432 with 1 Axes>"
      ]
     },
     "metadata": {
      "needs_background": "light"
     },
     "output_type": "display_data"
    }
   ],
   "source": [
    "stock_df['Close'].plot(figsize=(15,6));"
   ]
  },
  {
   "cell_type": "markdown",
   "metadata": {},
   "source": [
    "Veremos primero un ejemplo sin variable exógena:"
   ]
  },
  {
   "cell_type": "code",
   "execution_count": 34,
   "metadata": {},
   "outputs": [],
   "source": [
    "train = stock_df['Close'][:1240].values\n",
    "test = stock_df['Close'][1240:].values"
   ]
  },
  {
   "cell_type": "markdown",
   "metadata": {},
   "source": [
    "Vamos a probar varios modelos ARIMA, a ver cuál sería la mejor combinación de hiperparámetros."
   ]
  },
  {
   "cell_type": "code",
   "execution_count": 35,
   "metadata": {},
   "outputs": [
    {
     "name": "stdout",
     "output_type": "stream",
     "text": [
      "Performing stepwise search to minimize aic\n",
      " ARIMA(1,1,1)(0,0,0)[0] intercept   : AIC=5973.080, Time=0.61 sec\n",
      " ARIMA(0,1,0)(0,0,0)[0] intercept   : AIC=5975.597, Time=0.10 sec\n",
      " ARIMA(1,1,0)(0,0,0)[0] intercept   : AIC=5977.174, Time=0.14 sec\n",
      " ARIMA(0,1,1)(0,0,0)[0] intercept   : AIC=5977.161, Time=0.18 sec\n",
      " ARIMA(0,1,0)(0,0,0)[0]             : AIC=5975.049, Time=0.03 sec\n",
      " ARIMA(2,1,1)(0,0,0)[0] intercept   : AIC=5974.760, Time=0.85 sec\n",
      " ARIMA(1,1,2)(0,0,0)[0] intercept   : AIC=inf, Time=1.58 sec\n",
      " ARIMA(0,1,2)(0,0,0)[0] intercept   : AIC=5978.841, Time=0.25 sec\n",
      " ARIMA(2,1,0)(0,0,0)[0] intercept   : AIC=5978.892, Time=0.17 sec\n",
      " ARIMA(2,1,2)(0,0,0)[0] intercept   : AIC=inf, Time=1.82 sec\n",
      " ARIMA(1,1,1)(0,0,0)[0]             : AIC=5973.656, Time=0.34 sec\n",
      "\n",
      "Best model:  ARIMA(1,1,1)(0,0,0)[0] intercept\n",
      "Total fit time: 6.084 seconds\n",
      "5973.07958068662\n"
     ]
    }
   ],
   "source": [
    "stepwise_model = auto_arima(train,\n",
    "                            start_p=1,\n",
    "                            start_q=1,\n",
    "                            max_d=3,\n",
    "                            max_p=5,\n",
    "                            max_q=5,\n",
    "                            stationary=False,\n",
    "                            trace=True,\n",
    "                           stepwise=True)\n",
    "print(stepwise_model.aic())\n"
   ]
  },
  {
   "cell_type": "markdown",
   "metadata": {},
   "source": [
    "Ya lo tenemos, ahora montaremos el modelo con esos hiperparámetros y vemos que AIC tiene."
   ]
  },
  {
   "cell_type": "code",
   "execution_count": 36,
   "metadata": {},
   "outputs": [
    {
     "name": "stdout",
     "output_type": "stream",
     "text": [
      "                               SARIMAX Results                                \n",
      "==============================================================================\n",
      "Dep. Variable:                      y   No. Observations:                 1240\n",
      "Model:               SARIMAX(1, 1, 1)   Log Likelihood               -2982.540\n",
      "Date:                Sat, 06 Mar 2021   AIC                           5973.080\n",
      "Time:                        05:29:52   BIC                           5993.568\n",
      "Sample:                             0   HQIC                          5980.785\n",
      "                               - 1240                                         \n",
      "Covariance Type:                  opg                                         \n",
      "==============================================================================\n",
      "                 coef    std err          z      P>|z|      [0.025      0.975]\n",
      "------------------------------------------------------------------------------\n",
      "intercept      0.0125      0.012      1.066      0.287      -0.010       0.035\n",
      "ar.L1          0.8642      0.086     10.020      0.000       0.695       1.033\n",
      "ma.L1         -0.9007      0.075    -11.985      0.000      -1.048      -0.753\n",
      "sigma2         7.2176      0.082     88.327      0.000       7.057       7.378\n",
      "===================================================================================\n",
      "Ljung-Box (Q):                       37.02   Jarque-Bera (JB):            113667.91\n",
      "Prob(Q):                              0.60   Prob(JB):                         0.00\n",
      "Heteroskedasticity (H):               4.82   Skew:                            -2.83\n",
      "Prob(H) (two-sided):                  0.00   Kurtosis:                        49.58\n",
      "===================================================================================\n",
      "\n",
      "Warnings:\n",
      "[1] Covariance matrix calculated using the outer product of gradients (complex-step).\n"
     ]
    }
   ],
   "source": [
    "model = ARIMA(order=(1,1,1))\n",
    "model.fit(train)\n",
    "print(model.summary())"
   ]
  },
  {
   "cell_type": "code",
   "execution_count": 37,
   "metadata": {},
   "outputs": [
    {
     "name": "stdout",
     "output_type": "stream",
     "text": [
      "mean_squared_error: 45.026333984336645\n",
      "root mean_squared_error: 6.71016646472624\n"
     ]
    }
   ],
   "source": [
    "predictions = model.predict(19)\n",
    "print(\"mean_squared_error:\", mean_squared_error(test, predictions))\n",
    "print(\"root mean_squared_error:\", np.sqrt(mean_squared_error(test, predictions)))"
   ]
  },
  {
   "cell_type": "markdown",
   "metadata": {},
   "source": [
    "Vamos ahora a compararlo con el mismo modelo, pero en este caso le añadimos una variable exógena al entrenamiento:"
   ]
  },
  {
   "cell_type": "code",
   "execution_count": 38,
   "metadata": {},
   "outputs": [
    {
     "name": "stdout",
     "output_type": "stream",
     "text": [
      "                               SARIMAX Results                                \n",
      "==============================================================================\n",
      "Dep. Variable:                      y   No. Observations:                 1240\n",
      "Model:               SARIMAX(1, 1, 1)   Log Likelihood               -2601.451\n",
      "Date:                Sat, 06 Mar 2021   AIC                           5212.901\n",
      "Time:                        05:30:03   BIC                           5238.511\n",
      "Sample:                             0   HQIC                          5222.533\n",
      "                               - 1240                                         \n",
      "Covariance Type:                  opg                                         \n",
      "==============================================================================\n",
      "                 coef    std err          z      P>|z|      [0.025      0.975]\n",
      "------------------------------------------------------------------------------\n",
      "intercept      0.0003      0.000      1.031      0.303      -0.000       0.001\n",
      "x1             0.9972      0.003    386.756      0.000       0.992       1.002\n",
      "ar.L1         -0.1288      0.024     -5.445      0.000      -0.175      -0.082\n",
      "ma.L1         -0.9998      0.042    -23.839      0.000      -1.082      -0.918\n",
      "sigma2         3.8826      0.183     21.268      0.000       3.525       4.240\n",
      "===================================================================================\n",
      "Ljung-Box (Q):                       67.86   Jarque-Bera (JB):               530.53\n",
      "Prob(Q):                              0.00   Prob(JB):                         0.00\n",
      "Heteroskedasticity (H):               3.87   Skew:                            -0.45\n",
      "Prob(H) (two-sided):                  0.00   Kurtosis:                         6.08\n",
      "===================================================================================\n",
      "\n",
      "Warnings:\n",
      "[1] Covariance matrix calculated using the outer product of gradients (complex-step).\n"
     ]
    }
   ],
   "source": [
    "model = ARIMA(order=(1,1,1))\n",
    "model.fit(train,\n",
    "         exogenous=stock_df['Open'][:1240].values.reshape(-1,1))\n",
    "print(model.summary())"
   ]
  },
  {
   "cell_type": "markdown",
   "metadata": {},
   "source": [
    "Como podemos comprobar, se reduce bastante el AIC."
   ]
  },
  {
   "cell_type": "markdown",
   "metadata": {},
   "source": [
    "Probemos a entrenar el ``auto_arima`` con la variable exógena (parámetro ``exogenous``):"
   ]
  },
  {
   "cell_type": "code",
   "execution_count": 39,
   "metadata": {},
   "outputs": [
    {
     "name": "stdout",
     "output_type": "stream",
     "text": [
      "Performing stepwise search to minimize aic\n",
      " ARIMA(2,0,2)(0,0,0)[0] intercept   : AIC=5209.411, Time=1.83 sec\n",
      " ARIMA(0,0,0)(0,0,0)[0] intercept   : AIC=5226.894, Time=0.29 sec\n",
      " ARIMA(1,0,0)(0,0,0)[0] intercept   : AIC=5207.698, Time=0.11 sec\n",
      " ARIMA(0,0,1)(0,0,0)[0] intercept   : AIC=5206.018, Time=0.69 sec\n",
      " ARIMA(0,0,0)(0,0,0)[0]             : AIC=5225.469, Time=0.51 sec\n",
      " ARIMA(1,0,1)(0,0,0)[0] intercept   : AIC=5206.237, Time=0.37 sec\n",
      " ARIMA(0,0,2)(0,0,0)[0] intercept   : AIC=5206.773, Time=0.92 sec\n",
      " ARIMA(1,0,2)(0,0,0)[0] intercept   : AIC=5208.632, Time=2.11 sec\n",
      " ARIMA(0,0,1)(0,0,0)[0]             : AIC=5204.065, Time=0.27 sec\n",
      " ARIMA(1,0,1)(0,0,0)[0]             : AIC=5204.309, Time=0.75 sec\n",
      " ARIMA(0,0,2)(0,0,0)[0]             : AIC=5204.812, Time=0.45 sec\n",
      " ARIMA(1,0,0)(0,0,0)[0]             : AIC=5205.764, Time=0.07 sec\n",
      " ARIMA(1,0,2)(0,0,0)[0]             : AIC=5206.973, Time=0.84 sec\n",
      "\n",
      "Best model:  ARIMA(0,0,1)(0,0,0)[0]          \n",
      "Total fit time: 9.237 seconds\n",
      "                               SARIMAX Results                                \n",
      "==============================================================================\n",
      "Dep. Variable:                      y   No. Observations:                 1240\n",
      "Model:               SARIMAX(0, 0, 1)   Log Likelihood               -2599.032\n",
      "Date:                Sat, 06 Mar 2021   AIC                           5204.065\n",
      "Time:                        05:30:50   BIC                           5219.433\n",
      "Sample:                             0   HQIC                          5209.845\n",
      "                               - 1240                                         \n",
      "Covariance Type:                  opg                                         \n",
      "==============================================================================\n",
      "                 coef    std err          z      P>|z|      [0.025      0.975]\n",
      "------------------------------------------------------------------------------\n",
      "x1             1.0002      0.000   3275.078      0.000       1.000       1.001\n",
      "ma.L1         -0.1428      0.024     -5.883      0.000      -0.190      -0.095\n",
      "sigma2         3.8765      0.100     38.747      0.000       3.680       4.073\n",
      "===================================================================================\n",
      "Ljung-Box (Q):                       66.27   Jarque-Bera (JB):               521.30\n",
      "Prob(Q):                              0.01   Prob(JB):                         0.00\n",
      "Heteroskedasticity (H):               3.86   Skew:                            -0.43\n",
      "Prob(H) (two-sided):                  0.00   Kurtosis:                         6.06\n",
      "===================================================================================\n",
      "\n",
      "Warnings:\n",
      "[1] Covariance matrix calculated using the outer product of gradients (complex-step).\n"
     ]
    }
   ],
   "source": [
    "model = auto_arima(train,\n",
    "                  max_p=5,\n",
    "                  max_q=5,\n",
    "                  max_d=3,\n",
    "                  stationary=False,\n",
    "                  trace=True,\n",
    "                  stepwise=True,\n",
    "                  exogenous = stock_df['Open'][:1240].values.reshape(-1,1))\n",
    "\n",
    "print(model.summary())"
   ]
  },
  {
   "cell_type": "markdown",
   "metadata": {},
   "source": [
    "Ya que lo hemos visto con una, probemos a utilizar diferentes variables exógenas:\n",
    "\n",
    "NOTA: para este apartado se utiliza el valor 'Low', aunque en la vida real no lo tendríamos para realizar la predicción."
   ]
  },
  {
   "cell_type": "code",
   "execution_count": 43,
   "metadata": {},
   "outputs": [
    {
     "data": {
      "text/plain": [
       "array([[ 76.18    ,  75.400002],\n",
       "       [ 75.199997,  74.779999],\n",
       "       [ 76.650002,  76.07    ],\n",
       "       ...,\n",
       "       [194.029999, 191.350006],\n",
       "       [191.910004, 189.470001],\n",
       "       [190.      , 189.699997]])"
      ]
     },
     "execution_count": 43,
     "metadata": {},
     "output_type": "execute_result"
    }
   ],
   "source": [
    "stock_df[['Open', 'Low']][:1240].values"
   ]
  },
  {
   "cell_type": "code",
   "execution_count": 44,
   "metadata": {},
   "outputs": [
    {
     "data": {
      "text/plain": [
       "array([[ 76.18    ],\n",
       "       [ 75.199997],\n",
       "       [ 76.650002],\n",
       "       ...,\n",
       "       [194.029999],\n",
       "       [191.910004],\n",
       "       [190.      ]])"
      ]
     },
     "execution_count": 44,
     "metadata": {},
     "output_type": "execute_result"
    }
   ],
   "source": [
    "stock_df['Open'][:1240].values.reshape(-1,1)"
   ]
  },
  {
   "cell_type": "code",
   "execution_count": 45,
   "metadata": {},
   "outputs": [
    {
     "name": "stdout",
     "output_type": "stream",
     "text": [
      "Performing stepwise search to minimize aic\n",
      " ARIMA(2,1,2)(0,0,0)[0] intercept   : AIC=4077.184, Time=2.57 sec\n",
      " ARIMA(0,1,0)(0,0,0)[0] intercept   : AIC=4733.379, Time=0.12 sec\n",
      " ARIMA(1,1,0)(0,0,0)[0] intercept   : AIC=4453.973, Time=0.27 sec\n",
      " ARIMA(0,1,1)(0,0,0)[0] intercept   : AIC=4086.215, Time=0.60 sec\n",
      " ARIMA(0,1,0)(0,0,0)[0]             : AIC=4731.700, Time=0.35 sec\n",
      " ARIMA(1,1,2)(0,0,0)[0] intercept   : AIC=4090.146, Time=1.20 sec\n",
      " ARIMA(2,1,1)(0,0,0)[0] intercept   : AIC=4077.060, Time=0.97 sec\n",
      " ARIMA(1,1,1)(0,0,0)[0] intercept   : AIC=4082.122, Time=1.31 sec\n",
      " ARIMA(2,1,0)(0,0,0)[0] intercept   : AIC=4265.464, Time=0.37 sec\n",
      " ARIMA(3,1,1)(0,0,0)[0] intercept   : AIC=4075.150, Time=1.78 sec\n",
      " ARIMA(3,1,0)(0,0,0)[0] intercept   : AIC=4201.107, Time=0.50 sec\n",
      " ARIMA(4,1,1)(0,0,0)[0] intercept   : AIC=4076.431, Time=1.94 sec\n",
      " ARIMA(3,1,2)(0,0,0)[0] intercept   : AIC=4076.730, Time=2.30 sec\n",
      " ARIMA(4,1,0)(0,0,0)[0] intercept   : AIC=4177.095, Time=0.64 sec\n",
      " ARIMA(4,1,2)(0,0,0)[0] intercept   : AIC=4076.804, Time=2.89 sec\n",
      " ARIMA(3,1,1)(0,0,0)[0]             : AIC=4076.068, Time=0.88 sec\n",
      "\n",
      "Best model:  ARIMA(3,1,1)(0,0,0)[0] intercept\n",
      "Total fit time: 18.704 seconds\n",
      "                               SARIMAX Results                                \n",
      "==============================================================================\n",
      "Dep. Variable:                      y   No. Observations:                 1240\n",
      "Model:               SARIMAX(3, 1, 1)   Log Likelihood               -2029.575\n",
      "Date:                Sat, 06 Mar 2021   AIC                           4075.150\n",
      "Time:                        05:31:50   BIC                           4116.126\n",
      "Sample:                             0   HQIC                          4090.561\n",
      "                               - 1240                                         \n",
      "Covariance Type:                  opg                                         \n",
      "==============================================================================\n",
      "                 coef    std err          z      P>|z|      [0.025      0.975]\n",
      "------------------------------------------------------------------------------\n",
      "intercept      0.0057      0.004      1.487      0.137      -0.002       0.013\n",
      "x1            -0.0764      0.016     -4.665      0.000      -0.109      -0.044\n",
      "x2             1.0289      0.015     68.846      0.000       1.000       1.058\n",
      "ar.L1         -0.0817      0.028     -2.927      0.003      -0.136      -0.027\n",
      "ar.L2         -0.0629      0.027     -2.299      0.021      -0.116      -0.009\n",
      "ar.L3          0.0645      0.026      2.458      0.014       0.013       0.116\n",
      "ma.L1         -0.9098      0.014    -62.759      0.000      -0.938      -0.881\n",
      "sigma2         1.5476      0.049     31.821      0.000       1.452       1.643\n",
      "===================================================================================\n",
      "Ljung-Box (Q):                       46.51   Jarque-Bera (JB):              1155.78\n",
      "Prob(Q):                              0.22   Prob(JB):                         0.00\n",
      "Heteroskedasticity (H):               2.62   Skew:                             1.26\n",
      "Prob(H) (two-sided):                  0.00   Kurtosis:                         7.00\n",
      "===================================================================================\n",
      "\n",
      "Warnings:\n",
      "[1] Covariance matrix calculated using the outer product of gradients (complex-step).\n",
      "4075.149998636708\n"
     ]
    }
   ],
   "source": [
    "model = auto_arima(train,\n",
    "                  max_p=5,\n",
    "                  max_q=5,\n",
    "                  max_d=3,\n",
    "                  stationary=False,\n",
    "                  trace=True,\n",
    "                  stepwise=True,\n",
    "                  exogenous = stock_df[['Open', 'Low']][:1240].values)\n",
    "\n",
    "print(model.summary())\n",
    "\n",
    "print(model.aic())"
   ]
  },
  {
   "cell_type": "markdown",
   "metadata": {},
   "source": [
    "## SARIMA\n",
    "\n",
    "En el caso de presentar estacionalidad, es decir, que cuentan con un patrón que se repite a lo largo del tiempo; los datos pueden tratarse con un modelo SARIMA:"
   ]
  },
  {
   "cell_type": "code",
   "execution_count": 46,
   "metadata": {},
   "outputs": [
    {
     "name": "stdout",
     "output_type": "stream",
     "text": [
      "204\n"
     ]
    },
    {
     "data": {
      "text/html": [
       "<div>\n",
       "<style scoped>\n",
       "    .dataframe tbody tr th:only-of-type {\n",
       "        vertical-align: middle;\n",
       "    }\n",
       "\n",
       "    .dataframe tbody tr th {\n",
       "        vertical-align: top;\n",
       "    }\n",
       "\n",
       "    .dataframe thead th {\n",
       "        text-align: right;\n",
       "    }\n",
       "</style>\n",
       "<table border=\"1\" class=\"dataframe\">\n",
       "  <thead>\n",
       "    <tr style=\"text-align: right;\">\n",
       "      <th></th>\n",
       "      <th>value</th>\n",
       "    </tr>\n",
       "    <tr>\n",
       "      <th>date</th>\n",
       "      <th></th>\n",
       "    </tr>\n",
       "  </thead>\n",
       "  <tbody>\n",
       "    <tr>\n",
       "      <th>1991-07-01</th>\n",
       "      <td>3.526591</td>\n",
       "    </tr>\n",
       "    <tr>\n",
       "      <th>1991-08-01</th>\n",
       "      <td>3.180891</td>\n",
       "    </tr>\n",
       "    <tr>\n",
       "      <th>1991-09-01</th>\n",
       "      <td>3.252221</td>\n",
       "    </tr>\n",
       "    <tr>\n",
       "      <th>1991-10-01</th>\n",
       "      <td>3.611003</td>\n",
       "    </tr>\n",
       "    <tr>\n",
       "      <th>1991-11-01</th>\n",
       "      <td>3.565869</td>\n",
       "    </tr>\n",
       "  </tbody>\n",
       "</table>\n",
       "</div>"
      ],
      "text/plain": [
       "               value\n",
       "date                \n",
       "1991-07-01  3.526591\n",
       "1991-08-01  3.180891\n",
       "1991-09-01  3.252221\n",
       "1991-10-01  3.611003\n",
       "1991-11-01  3.565869"
      ]
     },
     "execution_count": 46,
     "metadata": {},
     "output_type": "execute_result"
    }
   ],
   "source": [
    "df = pd.read_csv('data/a10.csv', parse_dates=['date'], index_col='date')\n",
    "print(len(df))\n",
    "df.head()"
   ]
  },
  {
   "cell_type": "code",
   "execution_count": 47,
   "metadata": {},
   "outputs": [
    {
     "data": {
      "image/png": "[encoded data removed]",
      "text/plain": [
       "<Figure size 1080x432 with 1 Axes>"
      ]
     },
     "metadata": {
      "needs_background": "light"
     },
     "output_type": "display_data"
    }
   ],
   "source": [
    "df['value'].plot(figsize=(15,6));"
   ]
  },
  {
   "cell_type": "code",
   "execution_count": 48,
   "metadata": {},
   "outputs": [
    {
     "data": {
      "image/png": "[encoded data removed]",
      "text/plain": [
       "<Figure size 432x432 with 4 Axes>"
      ]
     },
     "metadata": {
      "needs_background": "light"
     },
     "output_type": "display_data"
    }
   ],
   "source": [
    "from statsmodels.tsa.seasonal import seasonal_decompose\n",
    "\n",
    "result_add = seasonal_decompose(df[['value' ]], model='additive', extrapolate_trend='freq')\n",
    "\n",
    "# Plot\n",
    "plt.rcParams.update({'figure.figsize': (6,6)})\n",
    "result_add.plot();"
   ]
  },
  {
   "cell_type": "code",
   "execution_count": 49,
   "metadata": {},
   "outputs": [],
   "source": [
    "X = df[['value']]\n",
    "train = X[:-20]\n",
    "test = X[-20:]"
   ]
  },
  {
   "cell_type": "code",
   "execution_count": 50,
   "metadata": {},
   "outputs": [
    {
     "data": {
      "image/png": "[encoded data removed]",
      "text/plain": [
       "<Figure size 432x432 with 1 Axes>"
      ]
     },
     "metadata": {
      "needs_background": "light"
     },
     "output_type": "display_data"
    }
   ],
   "source": [
    "plot_acf(train);"
   ]
  },
  {
   "cell_type": "markdown",
   "metadata": {},
   "source": [
    "Probemos el auto arima sin indicarle que hay componente de seasonality:"
   ]
  },
  {
   "cell_type": "code",
   "execution_count": 52,
   "metadata": {},
   "outputs": [
    {
     "name": "stdout",
     "output_type": "stream",
     "text": [
      "Performing stepwise search to minimize aic\n",
      " ARIMA(1,1,1)(0,0,0)[0] intercept   : AIC=698.391, Time=0.13 sec\n",
      " ARIMA(0,1,0)(0,0,0)[0] intercept   : AIC=764.142, Time=0.01 sec\n",
      " ARIMA(1,1,0)(0,0,0)[0] intercept   : AIC=739.394, Time=0.03 sec\n",
      " ARIMA(0,1,1)(0,0,0)[0] intercept   : AIC=708.405, Time=0.09 sec\n",
      " ARIMA(0,1,0)(0,0,0)[0]             : AIC=762.612, Time=0.01 sec\n",
      " ARIMA(2,1,1)(0,0,0)[0] intercept   : AIC=700.332, Time=0.18 sec\n",
      " ARIMA(1,1,2)(0,0,0)[0] intercept   : AIC=700.362, Time=0.19 sec\n",
      " ARIMA(0,1,2)(0,0,0)[0] intercept   : AIC=699.998, Time=0.11 sec\n",
      " ARIMA(2,1,0)(0,0,0)[0] intercept   : AIC=736.404, Time=0.05 sec\n",
      " ARIMA(2,1,2)(0,0,0)[0] intercept   : AIC=695.600, Time=0.31 sec\n",
      " ARIMA(3,1,2)(0,0,0)[0] intercept   : AIC=697.194, Time=0.41 sec\n",
      " ARIMA(2,1,3)(0,0,0)[0] intercept   : AIC=697.299, Time=0.45 sec\n",
      " ARIMA(1,1,3)(0,0,0)[0] intercept   : AIC=700.821, Time=0.33 sec\n",
      " ARIMA(3,1,1)(0,0,0)[0] intercept   : AIC=699.306, Time=0.27 sec\n",
      " ARIMA(3,1,3)(0,0,0)[0] intercept   : AIC=689.901, Time=0.66 sec\n",
      " ARIMA(4,1,3)(0,0,0)[0] intercept   : AIC=675.431, Time=0.81 sec\n",
      " ARIMA(4,1,2)(0,0,0)[0] intercept   : AIC=675.330, Time=0.60 sec\n",
      " ARIMA(4,1,1)(0,0,0)[0] intercept   : AIC=700.035, Time=0.24 sec\n",
      " ARIMA(5,1,2)(0,0,0)[0] intercept   : AIC=696.215, Time=0.48 sec\n",
      " ARIMA(5,1,1)(0,0,0)[0] intercept   : AIC=699.602, Time=0.27 sec\n",
      " ARIMA(5,1,3)(0,0,0)[0] intercept   : AIC=672.035, Time=0.81 sec\n",
      " ARIMA(5,1,4)(0,0,0)[0] intercept   : AIC=inf, Time=0.76 sec\n",
      " ARIMA(4,1,4)(0,0,0)[0] intercept   : AIC=inf, Time=0.65 sec\n",
      " ARIMA(5,1,3)(0,0,0)[0]             : AIC=inf, Time=0.61 sec\n",
      "\n",
      "Best model:  ARIMA(5,1,3)(0,0,0)[0] intercept\n",
      "Total fit time: 8.454 seconds\n",
      "672.0345711670509\n",
      "mean_squared_error: 21.505038998685286\n"
     ]
    }
   ],
   "source": [
    "model = auto_arima(train,\n",
    "                    start_p=1,\n",
    "                    start_q=1,\n",
    "                    max_d=3,\n",
    "                    max_p=5,\n",
    "                    max_q=5,\n",
    "                    trace=True,\n",
    "                    stepwise=True,\n",
    "                    random_state=42)\n",
    "\n",
    "print(model.aic())\n",
    "\n",
    "predictions = model.predict(20)\n",
    "print(\"mean_squared_error:\", mean_squared_error(test, predictions))"
   ]
  },
  {
   "cell_type": "code",
   "execution_count": 53,
   "metadata": {},
   "outputs": [
    {
     "name": "stdout",
     "output_type": "stream",
     "text": [
      "root mean_squared_error: 4.637352585116349\n"
     ]
    }
   ],
   "source": [
    "print(\"root mean_squared_error:\", np.sqrt(mean_squared_error(test, predictions)))"
   ]
  },
  {
   "cell_type": "markdown",
   "metadata": {},
   "source": [
    "Ahora le añadimos el componente seasonality mediante el parámetro `m`, que en este caso serán los 12 meses:"
   ]
  },
  {
   "cell_type": "code",
   "execution_count": 54,
   "metadata": {},
   "outputs": [
    {
     "name": "stdout",
     "output_type": "stream",
     "text": [
      "Performing stepwise search to minimize aic\n",
      " ARIMA(1,1,1)(1,1,1)[12]             : AIC=359.383, Time=0.58 sec\n",
      " ARIMA(0,1,0)(0,1,0)[12]             : AIC=480.967, Time=0.02 sec\n",
      " ARIMA(1,1,0)(1,1,0)[12]             : AIC=391.380, Time=0.14 sec\n",
      " ARIMA(0,1,1)(0,1,1)[12]             : AIC=366.538, Time=0.37 sec\n",
      " ARIMA(1,1,1)(0,1,1)[12]             : AIC=357.778, Time=0.39 sec\n",
      " ARIMA(1,1,1)(0,1,0)[12]             : AIC=367.053, Time=0.09 sec\n",
      " ARIMA(1,1,1)(0,1,2)[12]             : AIC=358.591, Time=1.46 sec\n",
      " ARIMA(1,1,1)(1,1,0)[12]             : AIC=361.813, Time=0.25 sec\n",
      " ARIMA(1,1,1)(1,1,2)[12]             : AIC=357.470, Time=2.70 sec\n",
      " ARIMA(1,1,1)(2,1,2)[12]             : AIC=356.290, Time=1.82 sec\n",
      " ARIMA(1,1,1)(2,1,1)[12]             : AIC=354.319, Time=1.32 sec\n",
      " ARIMA(1,1,1)(2,1,0)[12]             : AIC=353.117, Time=0.64 sec\n",
      " ARIMA(0,1,1)(2,1,0)[12]             : AIC=362.795, Time=0.80 sec\n",
      " ARIMA(1,1,0)(2,1,0)[12]             : AIC=378.264, Time=0.48 sec\n",
      " ARIMA(2,1,1)(2,1,0)[12]             : AIC=352.725, Time=1.51 sec\n",
      " ARIMA(2,1,1)(1,1,0)[12]             : AIC=362.720, Time=0.40 sec\n",
      " ARIMA(2,1,1)(2,1,1)[12]             : AIC=354.658, Time=2.71 sec\n",
      " ARIMA(2,1,1)(1,1,1)[12]             : AIC=359.203, Time=0.92 sec\n",
      " ARIMA(2,1,0)(2,1,0)[12]             : AIC=358.376, Time=0.49 sec\n",
      " ARIMA(3,1,1)(2,1,0)[12]             : AIC=350.112, Time=2.33 sec\n",
      " ARIMA(3,1,1)(1,1,0)[12]             : AIC=361.530, Time=0.69 sec\n",
      " ARIMA(3,1,1)(2,1,1)[12]             : AIC=350.928, Time=3.06 sec\n",
      " ARIMA(3,1,1)(1,1,1)[12]             : AIC=358.632, Time=1.44 sec\n",
      " ARIMA(3,1,0)(2,1,0)[12]             : AIC=359.972, Time=0.55 sec\n",
      " ARIMA(4,1,1)(2,1,0)[12]             : AIC=350.815, Time=2.40 sec\n",
      " ARIMA(3,1,2)(2,1,0)[12]             : AIC=346.048, Time=2.66 sec\n",
      " ARIMA(3,1,2)(1,1,0)[12]             : AIC=357.566, Time=0.87 sec\n",
      " ARIMA(3,1,2)(2,1,1)[12]             : AIC=347.241, Time=3.83 sec\n",
      " ARIMA(3,1,2)(1,1,1)[12]             : AIC=354.730, Time=1.42 sec\n",
      " ARIMA(2,1,2)(2,1,0)[12]             : AIC=352.984, Time=1.61 sec\n",
      " ARIMA(4,1,2)(2,1,0)[12]             : AIC=348.041, Time=3.66 sec\n",
      " ARIMA(3,1,3)(2,1,0)[12]             : AIC=348.038, Time=3.88 sec\n",
      " ARIMA(2,1,3)(2,1,0)[12]             : AIC=346.654, Time=3.06 sec\n",
      " ARIMA(4,1,3)(2,1,0)[12]             : AIC=346.443, Time=10.90 sec\n",
      " ARIMA(3,1,2)(2,1,0)[12] intercept   : AIC=342.976, Time=10.38 sec\n",
      " ARIMA(3,1,2)(1,1,0)[12] intercept   : AIC=355.919, Time=2.92 sec\n",
      " ARIMA(3,1,2)(2,1,1)[12] intercept   : AIC=inf, Time=11.07 sec\n",
      " ARIMA(3,1,2)(1,1,1)[12] intercept   : AIC=353.017, Time=3.36 sec\n",
      " ARIMA(2,1,2)(2,1,0)[12] intercept   : AIC=354.602, Time=4.21 sec\n",
      " ARIMA(3,1,1)(2,1,0)[12] intercept   : AIC=inf, Time=8.38 sec\n",
      " ARIMA(4,1,2)(2,1,0)[12] intercept   : AIC=inf, Time=12.80 sec\n",
      " ARIMA(3,1,3)(2,1,0)[12] intercept   : AIC=343.730, Time=9.28 sec\n",
      " ARIMA(2,1,1)(2,1,0)[12] intercept   : AIC=inf, Time=6.93 sec\n",
      " ARIMA(2,1,3)(2,1,0)[12] intercept   : AIC=347.843, Time=6.37 sec\n",
      " ARIMA(4,1,1)(2,1,0)[12] intercept   : AIC=inf, Time=9.49 sec\n",
      " ARIMA(4,1,3)(2,1,0)[12] intercept   : AIC=inf, Time=11.80 sec\n",
      "\n",
      "Best model:  ARIMA(3,1,2)(2,1,0)[12] intercept\n",
      "Total fit time: 156.515 seconds\n",
      "342.9763919957721\n",
      "mean_squared_error: 10.005862819740079\n"
     ]
    }
   ],
   "source": [
    "model = auto_arima(train,\n",
    "                    start_p=1,\n",
    "                    start_q=1,\n",
    "                    max_d=3,\n",
    "                    max_p=5,\n",
    "                    max_q=5,\n",
    "                    m=12,\n",
    "                    seasonal=True,\n",
    "                    trace=True,\n",
    "                    stepwise=True,\n",
    "                    random_state=42)\n",
    "\n",
    "\n",
    "print(model.aic())\n",
    "\n",
    "predictions = model.predict(20)\n",
    "print(\"mean_squared_error:\", mean_squared_error(test, predictions))"
   ]
  },
  {
   "cell_type": "code",
   "execution_count": 55,
   "metadata": {},
   "outputs": [
    {
     "name": "stdout",
     "output_type": "stream",
     "text": [
      "root mean_squared_error: 3.1632045175328263\n"
     ]
    }
   ],
   "source": [
    "print(\"root mean_squared_error:\", np.sqrt(mean_squared_error(test, predictions)))"
   ]
  },
  {
   "cell_type": "markdown",
   "metadata": {},
   "source": [
    "Como se puede comprobar, hemos conseguido mejorar el resultado respecto al resto de modelos."
   ]
  },
  {
   "cell_type": "code",
   "execution_count": null,
   "metadata": {},
   "outputs": [],
   "source": []
  }
 ],
 "metadata": {
  "kernelspec": {
   "display_name": "Python 3",
   "language": "python",
   "name": "python3"
  },
  "language_info": {
   "codemirror_mode": {
    "name": "ipython",
    "version": 3
   },
   "file_extension": ".py",
   "mimetype": "text/x-python",
   "name": "python",
   "nbconvert_exporter": "python",
   "pygments_lexer": "ipython3",
   "version": "3.8.3"
  }
 },
 "nbformat": 4,
 "nbformat_minor": 4
}
