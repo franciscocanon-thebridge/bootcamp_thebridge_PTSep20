{
 "cells": [
  {
   "cell_type": "markdown",
   "metadata": {},
   "source": [
    "# Series temporales: ¿Cuándo usar qué modelo?"
   ]
  },
  {
   "cell_type": "markdown",
   "metadata": {},
   "source": [
    "### AR, MA y ARMA\n",
    "\n",
    "  - **AR**: Es un modelo de regresión lineal basado en instantes anteriores de la misma variables que queremos predecir\n",
    "  - **MA**: Es un modelo de regresión lineal basado en errores anteriores de las predicciones de la misma variable que queremos predecir\n",
    "\n",
    "Si tenemos datos estacionarios, podemos utilizar alguno de estos 3 modelos, donde ARMA combina los 2 primeros\n",
    "\n",
    "\n",
    "### ARIMA\n",
    "\n",
    "Si tenemos series con tendencia pero no estacionalidad, utilizamos ARIMA, que se encarga de diferenciar para quitar la tendencia\n",
    "\n",
    "\n",
    "### SARIMA\n",
    "\n",
    "Si además tenemos estacionalidad, utilizamos el modelo SARIMA, que se crea como un modleo ARIMA con el parámetro ``m=n_periodos``\n",
    "\n",
    "\n",
    "### ARIMAX/SARIMAX\n",
    "\n",
    "Si además tenemos variables externas que nos puedan ayudar a predecir, utilizamos un modelo ARIMAX (si no tiene estacionalidad) o SARIMAX (si tiene estacionalidad)"
   ]
  },
  {
   "cell_type": "code",
   "execution_count": null,
   "metadata": {},
   "outputs": [],
   "source": []
  },
  {
   "cell_type": "code",
   "execution_count": null,
   "metadata": {},
   "outputs": [],
   "source": []
  }
 ],
 "metadata": {
  "kernelspec": {
   "display_name": "Python 3",
   "language": "python",
   "name": "python3"
  },
  "language_info": {
   "codemirror_mode": {
    "name": "ipython",
    "version": 3
   },
   "file_extension": ".py",
   "mimetype": "text/x-python",
   "name": "python",
   "nbconvert_exporter": "python",
   "pygments_lexer": "ipython3",
   "version": "3.8.3"
  }
 },
 "nbformat": 4,
 "nbformat_minor": 4
}
