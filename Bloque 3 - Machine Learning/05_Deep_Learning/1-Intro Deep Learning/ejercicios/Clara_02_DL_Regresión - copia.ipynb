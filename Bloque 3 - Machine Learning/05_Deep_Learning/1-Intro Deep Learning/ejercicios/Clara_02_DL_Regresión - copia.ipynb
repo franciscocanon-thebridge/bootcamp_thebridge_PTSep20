{
 "cells": [
  {
   "cell_type": "markdown",
   "metadata": {
    "id": "EIdT9iu_Z4Rb"
   },
   "source": [
    "# Regresión Básica: Predecir eficiencia de gasolina"
   ]
  },
  {
   "cell_type": "markdown",
   "metadata": {
    "id": "AHp3M9ZmrIxj"
   },
   "source": [
    "En este notebook, utilizaremos un dataset de coches [Auto MPG](https://archive.ics.uci.edu/ml/datasets/auto+mpg) para construir un modelo de redes neuronales con el que  predecir el consumo de vehículos de 1970 y 1980. En este dataset dispondremos de atributos como Cilindros, desplazamiento, potencia y peso. El objetivo de este ejercicio es predecir las millas por galón de combustible (MPG).\n",
    "\n",
    "El set de datos esta disponible de el siguiente repositorio [UCI Machine Learning Repository](https://archive.ics.uci.edu/ml/).\n",
    "\n",
    "\n",
    "Empezaremos importando las librerías principales:"
   ]
  },
  {
   "cell_type": "code",
   "execution_count": 1,
   "metadata": {
    "colab": {
     "base_uri": "https://localhost:8080/"
    },
    "id": "1rRo8oNqZ-Rj",
    "outputId": "e5ddf3ed-071c-4a53-e79b-80e5e5bdce23"
   },
   "outputs": [
    {
     "name": "stdout",
     "output_type": "stream",
     "text": [
      "2.4.1\n"
     ]
    }
   ],
   "source": [
    "import pathlib\n",
    "\n",
    "import matplotlib.pyplot as plt\n",
    "import pandas as pd\n",
    "import seaborn as sns\n",
    "\n",
    "import tensorflow as tf\n",
    "\n",
    "from tensorflow import keras\n",
    "from tensorflow.keras import layers\n",
    "\n",
    "print(tf.__version__)"
   ]
  },
  {
   "cell_type": "markdown",
   "metadata": {
    "id": "gFh9ne3FZ-On"
   },
   "source": [
    "### Leyendo los datos\n",
    "\n",
    "En primer lugar, lo que deberemos hacer es descargar el dataset:"
   ]
  },
  {
   "cell_type": "code",
   "execution_count": 2,
   "metadata": {
    "colab": {
     "base_uri": "https://localhost:8080/",
     "height": 35
    },
    "id": "p9kxxgzvzlyz",
    "outputId": "2eb5cbc2-fd20-4e00-8611-de4a44d8e803"
   },
   "outputs": [
    {
     "data": {
      "text/plain": [
       "'C:\\\\Users\\\\TheBridge\\\\.keras\\\\datasets\\\\auto-mpg.data'"
      ]
     },
     "execution_count": 2,
     "metadata": {},
     "output_type": "execute_result"
    }
   ],
   "source": [
    "dataset_path = keras.utils.get_file(\"auto-mpg.data\",\n",
    "                                    \"http://archive.ics.uci.edu/ml/machine-learning-databases/auto-mpg/auto-mpg.data\")\n",
    "dataset_path"
   ]
  },
  {
   "cell_type": "markdown",
   "metadata": {
    "id": "nslsRLh7Zss4"
   },
   "source": [
    "Y lo leemos con pandas:"
   ]
  },
  {
   "cell_type": "code",
   "execution_count": 3,
   "metadata": {
    "colab": {
     "base_uri": "https://localhost:8080/",
     "height": 204
    },
    "id": "CiX2FI4gZtTt",
    "outputId": "297528e0-63ff-4c67-eb7c-8ec1efa96f37"
   },
   "outputs": [
    {
     "data": {
      "text/html": [
       "<div>\n",
       "<style scoped>\n",
       "    .dataframe tbody tr th:only-of-type {\n",
       "        vertical-align: middle;\n",
       "    }\n",
       "\n",
       "    .dataframe tbody tr th {\n",
       "        vertical-align: top;\n",
       "    }\n",
       "\n",
       "    .dataframe thead th {\n",
       "        text-align: right;\n",
       "    }\n",
       "</style>\n",
       "<table border=\"1\" class=\"dataframe\">\n",
       "  <thead>\n",
       "    <tr style=\"text-align: right;\">\n",
       "      <th></th>\n",
       "      <th>MPG</th>\n",
       "      <th>Cylinders</th>\n",
       "      <th>Displacement</th>\n",
       "      <th>Horsepower</th>\n",
       "      <th>Weight</th>\n",
       "      <th>Acceleration</th>\n",
       "      <th>Model Year</th>\n",
       "      <th>Origin</th>\n",
       "    </tr>\n",
       "  </thead>\n",
       "  <tbody>\n",
       "    <tr>\n",
       "      <th>393</th>\n",
       "      <td>27.0</td>\n",
       "      <td>4</td>\n",
       "      <td>140.0</td>\n",
       "      <td>86.0</td>\n",
       "      <td>2790.0</td>\n",
       "      <td>15.6</td>\n",
       "      <td>82</td>\n",
       "      <td>1</td>\n",
       "    </tr>\n",
       "    <tr>\n",
       "      <th>394</th>\n",
       "      <td>44.0</td>\n",
       "      <td>4</td>\n",
       "      <td>97.0</td>\n",
       "      <td>52.0</td>\n",
       "      <td>2130.0</td>\n",
       "      <td>24.6</td>\n",
       "      <td>82</td>\n",
       "      <td>2</td>\n",
       "    </tr>\n",
       "    <tr>\n",
       "      <th>395</th>\n",
       "      <td>32.0</td>\n",
       "      <td>4</td>\n",
       "      <td>135.0</td>\n",
       "      <td>84.0</td>\n",
       "      <td>2295.0</td>\n",
       "      <td>11.6</td>\n",
       "      <td>82</td>\n",
       "      <td>1</td>\n",
       "    </tr>\n",
       "    <tr>\n",
       "      <th>396</th>\n",
       "      <td>28.0</td>\n",
       "      <td>4</td>\n",
       "      <td>120.0</td>\n",
       "      <td>79.0</td>\n",
       "      <td>2625.0</td>\n",
       "      <td>18.6</td>\n",
       "      <td>82</td>\n",
       "      <td>1</td>\n",
       "    </tr>\n",
       "    <tr>\n",
       "      <th>397</th>\n",
       "      <td>31.0</td>\n",
       "      <td>4</td>\n",
       "      <td>119.0</td>\n",
       "      <td>82.0</td>\n",
       "      <td>2720.0</td>\n",
       "      <td>19.4</td>\n",
       "      <td>82</td>\n",
       "      <td>1</td>\n",
       "    </tr>\n",
       "  </tbody>\n",
       "</table>\n",
       "</div>"
      ],
      "text/plain": [
       "      MPG  Cylinders  Displacement  Horsepower  Weight  Acceleration  \\\n",
       "393  27.0          4         140.0        86.0  2790.0          15.6   \n",
       "394  44.0          4          97.0        52.0  2130.0          24.6   \n",
       "395  32.0          4         135.0        84.0  2295.0          11.6   \n",
       "396  28.0          4         120.0        79.0  2625.0          18.6   \n",
       "397  31.0          4         119.0        82.0  2720.0          19.4   \n",
       "\n",
       "     Model Year  Origin  \n",
       "393          82       1  \n",
       "394          82       2  \n",
       "395          82       1  \n",
       "396          82       1  \n",
       "397          82       1  "
      ]
     },
     "execution_count": 3,
     "metadata": {},
     "output_type": "execute_result"
    }
   ],
   "source": [
    "column_names = ['MPG','Cylinders','Displacement','Horsepower','Weight',\n",
    "                'Acceleration', 'Model Year', 'Origin']\n",
    "\n",
    "raw_dataset = pd.read_csv(dataset_path, names=column_names,\n",
    "                      na_values = \"?\", comment='\\t',\n",
    "                      sep=\" \", skipinitialspace=True)\n",
    "\n",
    "dataset = raw_dataset.copy()\n",
    "dataset.tail()"
   ]
  },
  {
   "cell_type": "code",
   "execution_count": 4,
   "metadata": {
    "id": "GDqj0RGqwp_Q"
   },
   "outputs": [
    {
     "data": {
      "text/html": [
       "<div>\n",
       "<style scoped>\n",
       "    .dataframe tbody tr th:only-of-type {\n",
       "        vertical-align: middle;\n",
       "    }\n",
       "\n",
       "    .dataframe tbody tr th {\n",
       "        vertical-align: top;\n",
       "    }\n",
       "\n",
       "    .dataframe thead th {\n",
       "        text-align: right;\n",
       "    }\n",
       "</style>\n",
       "<table border=\"1\" class=\"dataframe\">\n",
       "  <thead>\n",
       "    <tr style=\"text-align: right;\">\n",
       "      <th></th>\n",
       "      <th>MPG</th>\n",
       "      <th>Cylinders</th>\n",
       "      <th>Displacement</th>\n",
       "      <th>Horsepower</th>\n",
       "      <th>Weight</th>\n",
       "      <th>Acceleration</th>\n",
       "      <th>Model Year</th>\n",
       "      <th>Origin</th>\n",
       "    </tr>\n",
       "  </thead>\n",
       "  <tbody>\n",
       "    <tr>\n",
       "      <th>0</th>\n",
       "      <td>False</td>\n",
       "      <td>False</td>\n",
       "      <td>False</td>\n",
       "      <td>False</td>\n",
       "      <td>False</td>\n",
       "      <td>False</td>\n",
       "      <td>False</td>\n",
       "      <td>False</td>\n",
       "    </tr>\n",
       "    <tr>\n",
       "      <th>1</th>\n",
       "      <td>False</td>\n",
       "      <td>False</td>\n",
       "      <td>False</td>\n",
       "      <td>False</td>\n",
       "      <td>False</td>\n",
       "      <td>False</td>\n",
       "      <td>False</td>\n",
       "      <td>False</td>\n",
       "    </tr>\n",
       "    <tr>\n",
       "      <th>2</th>\n",
       "      <td>False</td>\n",
       "      <td>False</td>\n",
       "      <td>False</td>\n",
       "      <td>False</td>\n",
       "      <td>False</td>\n",
       "      <td>False</td>\n",
       "      <td>False</td>\n",
       "      <td>False</td>\n",
       "    </tr>\n",
       "    <tr>\n",
       "      <th>3</th>\n",
       "      <td>False</td>\n",
       "      <td>False</td>\n",
       "      <td>False</td>\n",
       "      <td>False</td>\n",
       "      <td>False</td>\n",
       "      <td>False</td>\n",
       "      <td>False</td>\n",
       "      <td>False</td>\n",
       "    </tr>\n",
       "    <tr>\n",
       "      <th>4</th>\n",
       "      <td>False</td>\n",
       "      <td>False</td>\n",
       "      <td>False</td>\n",
       "      <td>False</td>\n",
       "      <td>False</td>\n",
       "      <td>False</td>\n",
       "      <td>False</td>\n",
       "      <td>False</td>\n",
       "    </tr>\n",
       "    <tr>\n",
       "      <th>...</th>\n",
       "      <td>...</td>\n",
       "      <td>...</td>\n",
       "      <td>...</td>\n",
       "      <td>...</td>\n",
       "      <td>...</td>\n",
       "      <td>...</td>\n",
       "      <td>...</td>\n",
       "      <td>...</td>\n",
       "    </tr>\n",
       "    <tr>\n",
       "      <th>393</th>\n",
       "      <td>False</td>\n",
       "      <td>False</td>\n",
       "      <td>False</td>\n",
       "      <td>False</td>\n",
       "      <td>False</td>\n",
       "      <td>False</td>\n",
       "      <td>False</td>\n",
       "      <td>False</td>\n",
       "    </tr>\n",
       "    <tr>\n",
       "      <th>394</th>\n",
       "      <td>False</td>\n",
       "      <td>False</td>\n",
       "      <td>False</td>\n",
       "      <td>False</td>\n",
       "      <td>False</td>\n",
       "      <td>False</td>\n",
       "      <td>False</td>\n",
       "      <td>False</td>\n",
       "    </tr>\n",
       "    <tr>\n",
       "      <th>395</th>\n",
       "      <td>False</td>\n",
       "      <td>False</td>\n",
       "      <td>False</td>\n",
       "      <td>False</td>\n",
       "      <td>False</td>\n",
       "      <td>False</td>\n",
       "      <td>False</td>\n",
       "      <td>False</td>\n",
       "    </tr>\n",
       "    <tr>\n",
       "      <th>396</th>\n",
       "      <td>False</td>\n",
       "      <td>False</td>\n",
       "      <td>False</td>\n",
       "      <td>False</td>\n",
       "      <td>False</td>\n",
       "      <td>False</td>\n",
       "      <td>False</td>\n",
       "      <td>False</td>\n",
       "    </tr>\n",
       "    <tr>\n",
       "      <th>397</th>\n",
       "      <td>False</td>\n",
       "      <td>False</td>\n",
       "      <td>False</td>\n",
       "      <td>False</td>\n",
       "      <td>False</td>\n",
       "      <td>False</td>\n",
       "      <td>False</td>\n",
       "      <td>False</td>\n",
       "    </tr>\n",
       "  </tbody>\n",
       "</table>\n",
       "<p>398 rows × 8 columns</p>\n",
       "</div>"
      ],
      "text/plain": [
       "       MPG  Cylinders  Displacement  Horsepower  Weight  Acceleration  \\\n",
       "0    False      False         False       False   False         False   \n",
       "1    False      False         False       False   False         False   \n",
       "2    False      False         False       False   False         False   \n",
       "3    False      False         False       False   False         False   \n",
       "4    False      False         False       False   False         False   \n",
       "..     ...        ...           ...         ...     ...           ...   \n",
       "393  False      False         False       False   False         False   \n",
       "394  False      False         False       False   False         False   \n",
       "395  False      False         False       False   False         False   \n",
       "396  False      False         False       False   False         False   \n",
       "397  False      False         False       False   False         False   \n",
       "\n",
       "     Model Year  Origin  \n",
       "0         False   False  \n",
       "1         False   False  \n",
       "2         False   False  \n",
       "3         False   False  \n",
       "4         False   False  \n",
       "..          ...     ...  \n",
       "393       False   False  \n",
       "394       False   False  \n",
       "395       False   False  \n",
       "396       False   False  \n",
       "397       False   False  \n",
       "\n",
       "[398 rows x 8 columns]"
      ]
     },
     "execution_count": 4,
     "metadata": {},
     "output_type": "execute_result"
    }
   ],
   "source": [
    "dataset.isnull()"
   ]
  },
  {
   "cell_type": "markdown",
   "metadata": {
    "id": "3MWuJTKEDM-f"
   },
   "source": [
    "### Limpiando los datos\n",
    "\n",
    "Trata los missings y variables categóricas:"
   ]
  },
  {
   "cell_type": "code",
   "execution_count": 5,
   "metadata": {
    "id": "JEJHhN65a2VV"
   },
   "outputs": [],
   "source": [
    "dataset = dataset.dropna()"
   ]
  },
  {
   "cell_type": "code",
   "execution_count": 6,
   "metadata": {
    "colab": {
     "base_uri": "https://localhost:8080/",
     "height": 419
    },
    "id": "z6rSnB0v12pv",
    "outputId": "a856c21f-5db5-4ac9-b97b-3824660a1eb4"
   },
   "outputs": [
    {
     "data": {
      "text/html": [
       "<div>\n",
       "<style scoped>\n",
       "    .dataframe tbody tr th:only-of-type {\n",
       "        vertical-align: middle;\n",
       "    }\n",
       "\n",
       "    .dataframe tbody tr th {\n",
       "        vertical-align: top;\n",
       "    }\n",
       "\n",
       "    .dataframe thead th {\n",
       "        text-align: right;\n",
       "    }\n",
       "</style>\n",
       "<table border=\"1\" class=\"dataframe\">\n",
       "  <thead>\n",
       "    <tr style=\"text-align: right;\">\n",
       "      <th></th>\n",
       "      <th>MPG</th>\n",
       "      <th>Cylinders</th>\n",
       "      <th>Displacement</th>\n",
       "      <th>Horsepower</th>\n",
       "      <th>Weight</th>\n",
       "      <th>Acceleration</th>\n",
       "      <th>Model Year</th>\n",
       "      <th>Origin</th>\n",
       "    </tr>\n",
       "  </thead>\n",
       "  <tbody>\n",
       "    <tr>\n",
       "      <th>0</th>\n",
       "      <td>18.0</td>\n",
       "      <td>8</td>\n",
       "      <td>307.0</td>\n",
       "      <td>130.0</td>\n",
       "      <td>3504.0</td>\n",
       "      <td>12.0</td>\n",
       "      <td>70</td>\n",
       "      <td>1</td>\n",
       "    </tr>\n",
       "    <tr>\n",
       "      <th>1</th>\n",
       "      <td>15.0</td>\n",
       "      <td>8</td>\n",
       "      <td>350.0</td>\n",
       "      <td>165.0</td>\n",
       "      <td>3693.0</td>\n",
       "      <td>11.5</td>\n",
       "      <td>70</td>\n",
       "      <td>1</td>\n",
       "    </tr>\n",
       "    <tr>\n",
       "      <th>2</th>\n",
       "      <td>18.0</td>\n",
       "      <td>8</td>\n",
       "      <td>318.0</td>\n",
       "      <td>150.0</td>\n",
       "      <td>3436.0</td>\n",
       "      <td>11.0</td>\n",
       "      <td>70</td>\n",
       "      <td>1</td>\n",
       "    </tr>\n",
       "    <tr>\n",
       "      <th>3</th>\n",
       "      <td>16.0</td>\n",
       "      <td>8</td>\n",
       "      <td>304.0</td>\n",
       "      <td>150.0</td>\n",
       "      <td>3433.0</td>\n",
       "      <td>12.0</td>\n",
       "      <td>70</td>\n",
       "      <td>1</td>\n",
       "    </tr>\n",
       "    <tr>\n",
       "      <th>4</th>\n",
       "      <td>17.0</td>\n",
       "      <td>8</td>\n",
       "      <td>302.0</td>\n",
       "      <td>140.0</td>\n",
       "      <td>3449.0</td>\n",
       "      <td>10.5</td>\n",
       "      <td>70</td>\n",
       "      <td>1</td>\n",
       "    </tr>\n",
       "    <tr>\n",
       "      <th>...</th>\n",
       "      <td>...</td>\n",
       "      <td>...</td>\n",
       "      <td>...</td>\n",
       "      <td>...</td>\n",
       "      <td>...</td>\n",
       "      <td>...</td>\n",
       "      <td>...</td>\n",
       "      <td>...</td>\n",
       "    </tr>\n",
       "    <tr>\n",
       "      <th>393</th>\n",
       "      <td>27.0</td>\n",
       "      <td>4</td>\n",
       "      <td>140.0</td>\n",
       "      <td>86.0</td>\n",
       "      <td>2790.0</td>\n",
       "      <td>15.6</td>\n",
       "      <td>82</td>\n",
       "      <td>1</td>\n",
       "    </tr>\n",
       "    <tr>\n",
       "      <th>394</th>\n",
       "      <td>44.0</td>\n",
       "      <td>4</td>\n",
       "      <td>97.0</td>\n",
       "      <td>52.0</td>\n",
       "      <td>2130.0</td>\n",
       "      <td>24.6</td>\n",
       "      <td>82</td>\n",
       "      <td>2</td>\n",
       "    </tr>\n",
       "    <tr>\n",
       "      <th>395</th>\n",
       "      <td>32.0</td>\n",
       "      <td>4</td>\n",
       "      <td>135.0</td>\n",
       "      <td>84.0</td>\n",
       "      <td>2295.0</td>\n",
       "      <td>11.6</td>\n",
       "      <td>82</td>\n",
       "      <td>1</td>\n",
       "    </tr>\n",
       "    <tr>\n",
       "      <th>396</th>\n",
       "      <td>28.0</td>\n",
       "      <td>4</td>\n",
       "      <td>120.0</td>\n",
       "      <td>79.0</td>\n",
       "      <td>2625.0</td>\n",
       "      <td>18.6</td>\n",
       "      <td>82</td>\n",
       "      <td>1</td>\n",
       "    </tr>\n",
       "    <tr>\n",
       "      <th>397</th>\n",
       "      <td>31.0</td>\n",
       "      <td>4</td>\n",
       "      <td>119.0</td>\n",
       "      <td>82.0</td>\n",
       "      <td>2720.0</td>\n",
       "      <td>19.4</td>\n",
       "      <td>82</td>\n",
       "      <td>1</td>\n",
       "    </tr>\n",
       "  </tbody>\n",
       "</table>\n",
       "<p>392 rows × 8 columns</p>\n",
       "</div>"
      ],
      "text/plain": [
       "      MPG  Cylinders  Displacement  Horsepower  Weight  Acceleration  \\\n",
       "0    18.0          8         307.0       130.0  3504.0          12.0   \n",
       "1    15.0          8         350.0       165.0  3693.0          11.5   \n",
       "2    18.0          8         318.0       150.0  3436.0          11.0   \n",
       "3    16.0          8         304.0       150.0  3433.0          12.0   \n",
       "4    17.0          8         302.0       140.0  3449.0          10.5   \n",
       "..    ...        ...           ...         ...     ...           ...   \n",
       "393  27.0          4         140.0        86.0  2790.0          15.6   \n",
       "394  44.0          4          97.0        52.0  2130.0          24.6   \n",
       "395  32.0          4         135.0        84.0  2295.0          11.6   \n",
       "396  28.0          4         120.0        79.0  2625.0          18.6   \n",
       "397  31.0          4         119.0        82.0  2720.0          19.4   \n",
       "\n",
       "     Model Year  Origin  \n",
       "0            70       1  \n",
       "1            70       1  \n",
       "2            70       1  \n",
       "3            70       1  \n",
       "4            70       1  \n",
       "..          ...     ...  \n",
       "393          82       1  \n",
       "394          82       2  \n",
       "395          82       1  \n",
       "396          82       1  \n",
       "397          82       1  \n",
       "\n",
       "[392 rows x 8 columns]"
      ]
     },
     "execution_count": 6,
     "metadata": {},
     "output_type": "execute_result"
    }
   ],
   "source": [
    "pd.get_dummies(dataset)"
   ]
  },
  {
   "cell_type": "code",
   "execution_count": null,
   "metadata": {
    "id": "pUaw6bHgyDrh"
   },
   "outputs": [],
   "source": [
    "\n"
   ]
  },
  {
   "cell_type": "markdown",
   "metadata": {
    "id": "Cuym4yvk76vU"
   },
   "source": [
    "### Divide los datos en train y test\n",
    "\n",
    "Ahora divide el dataset en train y test, donde este último sea del 80%.\n",
    "\n",
    "Llama a los datasets ``train_dataset`` y ``test_dataset``:"
   ]
  },
  {
   "cell_type": "code",
   "execution_count": 7,
   "metadata": {
    "id": "qn-IGhUE7_1H"
   },
   "outputs": [],
   "source": [
    "from sklearn.model_selection import train_test_split\n",
    "y_col = 'MPG'\n",
    "X_cols = [col for col in dataset.columns if col != y_col]\n",
    "X_cols\n",
    "\n",
    "X = dataset[X_cols]\n",
    "y = dataset[y_col]\n",
    "\n",
    "\n",
    "X_train, X_test, y_train, y_test = train_test_split(X, y, test_size=0.3, random_state = 42)\n",
    "\n"
   ]
  },
  {
   "cell_type": "code",
   "execution_count": 8,
   "metadata": {
    "id": "Xn0c29zHNg-_"
   },
   "outputs": [
    {
     "data": {
      "text/html": [
       "<div>\n",
       "<style scoped>\n",
       "    .dataframe tbody tr th:only-of-type {\n",
       "        vertical-align: middle;\n",
       "    }\n",
       "\n",
       "    .dataframe tbody tr th {\n",
       "        vertical-align: top;\n",
       "    }\n",
       "\n",
       "    .dataframe thead th {\n",
       "        text-align: right;\n",
       "    }\n",
       "</style>\n",
       "<table border=\"1\" class=\"dataframe\">\n",
       "  <thead>\n",
       "    <tr style=\"text-align: right;\">\n",
       "      <th></th>\n",
       "      <th>Cylinders</th>\n",
       "      <th>Displacement</th>\n",
       "      <th>Horsepower</th>\n",
       "      <th>Weight</th>\n",
       "      <th>Acceleration</th>\n",
       "      <th>Model Year</th>\n",
       "      <th>Origin</th>\n",
       "    </tr>\n",
       "  </thead>\n",
       "  <tbody>\n",
       "    <tr>\n",
       "      <th>79</th>\n",
       "      <td>4</td>\n",
       "      <td>96.0</td>\n",
       "      <td>69.0</td>\n",
       "      <td>2189.0</td>\n",
       "      <td>18.0</td>\n",
       "      <td>72</td>\n",
       "      <td>2</td>\n",
       "    </tr>\n",
       "    <tr>\n",
       "      <th>276</th>\n",
       "      <td>4</td>\n",
       "      <td>121.0</td>\n",
       "      <td>115.0</td>\n",
       "      <td>2795.0</td>\n",
       "      <td>15.7</td>\n",
       "      <td>78</td>\n",
       "      <td>2</td>\n",
       "    </tr>\n",
       "    <tr>\n",
       "      <th>248</th>\n",
       "      <td>4</td>\n",
       "      <td>91.0</td>\n",
       "      <td>60.0</td>\n",
       "      <td>1800.0</td>\n",
       "      <td>16.4</td>\n",
       "      <td>78</td>\n",
       "      <td>3</td>\n",
       "    </tr>\n",
       "    <tr>\n",
       "      <th>56</th>\n",
       "      <td>4</td>\n",
       "      <td>91.0</td>\n",
       "      <td>70.0</td>\n",
       "      <td>1955.0</td>\n",
       "      <td>20.5</td>\n",
       "      <td>71</td>\n",
       "      <td>1</td>\n",
       "    </tr>\n",
       "    <tr>\n",
       "      <th>393</th>\n",
       "      <td>4</td>\n",
       "      <td>140.0</td>\n",
       "      <td>86.0</td>\n",
       "      <td>2790.0</td>\n",
       "      <td>15.6</td>\n",
       "      <td>82</td>\n",
       "      <td>1</td>\n",
       "    </tr>\n",
       "    <tr>\n",
       "      <th>...</th>\n",
       "      <td>...</td>\n",
       "      <td>...</td>\n",
       "      <td>...</td>\n",
       "      <td>...</td>\n",
       "      <td>...</td>\n",
       "      <td>...</td>\n",
       "      <td>...</td>\n",
       "    </tr>\n",
       "    <tr>\n",
       "      <th>80</th>\n",
       "      <td>4</td>\n",
       "      <td>122.0</td>\n",
       "      <td>86.0</td>\n",
       "      <td>2395.0</td>\n",
       "      <td>16.0</td>\n",
       "      <td>72</td>\n",
       "      <td>1</td>\n",
       "    </tr>\n",
       "    <tr>\n",
       "      <th>312</th>\n",
       "      <td>4</td>\n",
       "      <td>86.0</td>\n",
       "      <td>65.0</td>\n",
       "      <td>2019.0</td>\n",
       "      <td>16.4</td>\n",
       "      <td>80</td>\n",
       "      <td>3</td>\n",
       "    </tr>\n",
       "    <tr>\n",
       "      <th>357</th>\n",
       "      <td>4</td>\n",
       "      <td>119.0</td>\n",
       "      <td>100.0</td>\n",
       "      <td>2615.0</td>\n",
       "      <td>14.8</td>\n",
       "      <td>81</td>\n",
       "      <td>3</td>\n",
       "    </tr>\n",
       "    <tr>\n",
       "      <th>250</th>\n",
       "      <td>8</td>\n",
       "      <td>318.0</td>\n",
       "      <td>140.0</td>\n",
       "      <td>3735.0</td>\n",
       "      <td>13.2</td>\n",
       "      <td>78</td>\n",
       "      <td>1</td>\n",
       "    </tr>\n",
       "    <tr>\n",
       "      <th>155</th>\n",
       "      <td>6</td>\n",
       "      <td>250.0</td>\n",
       "      <td>72.0</td>\n",
       "      <td>3158.0</td>\n",
       "      <td>19.5</td>\n",
       "      <td>75</td>\n",
       "      <td>1</td>\n",
       "    </tr>\n",
       "  </tbody>\n",
       "</table>\n",
       "<p>118 rows × 7 columns</p>\n",
       "</div>"
      ],
      "text/plain": [
       "     Cylinders  Displacement  Horsepower  Weight  Acceleration  Model Year  \\\n",
       "79           4          96.0        69.0  2189.0          18.0          72   \n",
       "276          4         121.0       115.0  2795.0          15.7          78   \n",
       "248          4          91.0        60.0  1800.0          16.4          78   \n",
       "56           4          91.0        70.0  1955.0          20.5          71   \n",
       "393          4         140.0        86.0  2790.0          15.6          82   \n",
       "..         ...           ...         ...     ...           ...         ...   \n",
       "80           4         122.0        86.0  2395.0          16.0          72   \n",
       "312          4          86.0        65.0  2019.0          16.4          80   \n",
       "357          4         119.0       100.0  2615.0          14.8          81   \n",
       "250          8         318.0       140.0  3735.0          13.2          78   \n",
       "155          6         250.0        72.0  3158.0          19.5          75   \n",
       "\n",
       "     Origin  \n",
       "79        2  \n",
       "276       2  \n",
       "248       3  \n",
       "56        1  \n",
       "393       1  \n",
       "..      ...  \n",
       "80        1  \n",
       "312       3  \n",
       "357       3  \n",
       "250       1  \n",
       "155       1  \n",
       "\n",
       "[118 rows x 7 columns]"
      ]
     },
     "execution_count": 8,
     "metadata": {},
     "output_type": "execute_result"
    }
   ],
   "source": [
    "X_test"
   ]
  },
  {
   "cell_type": "markdown",
   "metadata": {
    "id": "J4ubs136WLNp"
   },
   "source": [
    "### Inspecciona los datos\n",
    "\n",
    "Revisa rápidamente la distribucion conjunta del dataset de entrenamiento mediante un grid de gráficos. Repasa los gráficos de seaborn para ver cuál nos puede ofrecer esta visión, donde la diagonal principal muestre el *kernel density estimate*:"
   ]
  },
  {
   "cell_type": "code",
   "execution_count": 17,
   "metadata": {
    "colab": {
     "base_uri": "https://localhost:8080/",
     "height": 951
    },
    "id": "oRKO_x8gWKv-",
    "outputId": "b5c8deec-3882-4e98-c230-75f349d0de25"
   },
   "outputs": [],
   "source": [
    "# import seaborn as sns\n",
    "\n",
    "# sns.set_style('whitegrid')\n",
    "# sns.pairplot(dataset);"
   ]
  },
  {
   "cell_type": "markdown",
   "metadata": {
    "id": "gavKO_6DWRMP"
   },
   "source": [
    "Muestra también los estadísticos principales del dataset:"
   ]
  },
  {
   "cell_type": "markdown",
   "metadata": {
    "id": "Db7Auq1yXUvh"
   },
   "source": [
    "### Separa las features del target\n",
    "\n",
    "En este momento, tenemos juntos tanto las variables independientes como el target. Sepáralos para tener ``train_dataset`` y ``test_dataset`` con las variables independientes, y ``train_labels`` y ``test_labels`` como target:"
   ]
  },
  {
   "cell_type": "code",
   "execution_count": null,
   "metadata": {
    "id": "t2sluJdCW7jN"
   },
   "outputs": [],
   "source": []
  },
  {
   "cell_type": "markdown",
   "metadata": {
    "id": "mRklxK5s388r"
   },
   "source": [
    "### Estandariza los datos"
   ]
  },
  {
   "cell_type": "markdown",
   "metadata": {
    "id": "-ywmerQ6dSox"
   },
   "source": [
    "Es una buena práctica estandarizar los datasets con variables de diferentes escalas y rangos. Aunque el modelo podría converger sin estandarizar, dificulta el entrenamiento y hace que el modelo resultante dependa de la elección de las unidades utilizadas en la entrada. Estandariza los datos sobreescribiendo los datos ``train_dataset`` y ``test_dataset``:"
   ]
  },
  {
   "cell_type": "code",
   "execution_count": 18,
   "metadata": {
    "id": "JlC5ooJrgjQF"
   },
   "outputs": [],
   "source": [
    "from sklearn.preprocessing import StandardScaler\n",
    "\n",
    "scaler = StandardScaler()\n",
    "scaler.fit(X_train)\n",
    "X_train = scaler.transform(X_train)\n",
    "X_test = scaler.transform(X_test)"
   ]
  },
  {
   "cell_type": "code",
   "execution_count": 19,
   "metadata": {
    "colab": {
     "base_uri": "https://localhost:8080/"
    },
    "id": "xTqoW1KSNycg",
    "outputId": "2d0ffb96-cbc0-4620-e134-f0fcc7746a20"
   },
   "outputs": [
    {
     "data": {
      "text/plain": [
       "array([[-0.87326597, -0.85486343, -0.28591285, ...,  0.34274942,\n",
       "        -0.86872055,  1.76704713],\n",
       "       [ 0.29392855,  0.03135952, -0.52235185, ...,  0.16747256,\n",
       "        -1.69905578, -0.69067324],\n",
       "       [-0.87326597, -0.74890199, -0.33845485, ..., -0.18308116,\n",
       "         1.06872831,  1.76704713],\n",
       "       ...,\n",
       "       [-0.87326597, -0.44065053, -0.52235185, ...,  0.72835851,\n",
       "         0.51517149, -0.69067324],\n",
       "       [-0.87326597, -0.95119201, -1.04777185, ...,  1.81507503,\n",
       "         1.34550671, -0.69067324],\n",
       "       [ 1.46112306,  1.95793117,  1.18526314, ..., -0.53363487,\n",
       "        -0.86872055, -0.69067324]])"
      ]
     },
     "execution_count": 19,
     "metadata": {},
     "output_type": "execute_result"
    }
   ],
   "source": [
    "X_train"
   ]
  },
  {
   "cell_type": "markdown",
   "metadata": {
    "id": "SmjdzxKzEu1-"
   },
   "source": [
    "# Modelo"
   ]
  },
  {
   "cell_type": "markdown",
   "metadata": {
    "id": "6SWtkIjhrZwa"
   },
   "source": [
    "### Construye el modelo\n",
    "\n",
    "Construyamos nuestro modelo. Aquí, utilizaremos un modelo `secuencial` con dos capas ocultas densamente conectadas y una capa de salida que devuelva un único valor continuo.\n",
    "\n",
    "Por tanto, necesitamos construir un modelo con tres capas:\n",
    "  * **Entrada**: con activación relu.\n",
    "  * **Hidden layer**: con activación relu\n",
    "  * **Salida**: será de regresión, por lo que se compondrá de una única neurona.\n",
    "  \n",
    "Pon las neuronas que consideres para las dos primeras capas, por ejemplo, 64. Después iteraremos con diferentes combinaciones.\n",
    "\n",
    "Para el compile utiliza un ``loss='mse'``, un ``optimizer = `tf.keras.optimizers.RMSprop(0.001)` ``, y en ``metrics`` utiliza una lista con el `mae` y `mse`."
   ]
  },
  {
   "cell_type": "code",
   "execution_count": 20,
   "metadata": {
    "id": "c26juK7ZG8j-"
   },
   "outputs": [],
   "source": [
    "model = keras.models.Sequential([\n",
    "    keras.layers.Dense(64, activation='relu', input_shape= X_train.shape[1:]),\n",
    "    keras.layers.Dense(64, activation='relu'),\n",
    "    keras.layers.Dense(1)\n",
    "])\n"
   ]
  },
  {
   "cell_type": "code",
   "execution_count": 21,
   "metadata": {
    "id": "_E4hjUmX-qhx"
   },
   "outputs": [],
   "source": [
    "model.compile(loss='mse',\n",
    "              optimizer=keras.optimizers.RMSprop(0.001),\n",
    "              metrics=['mae','mse'])"
   ]
  },
  {
   "cell_type": "markdown",
   "metadata": {
    "id": "Sj49Og4YGULr"
   },
   "source": [
    "### Inspecciona el modelo\n",
    "\n",
    "Utiliza uno de los métodos que hemos visto para obtener una descripción simple del modelo:"
   ]
  },
  {
   "cell_type": "code",
   "execution_count": 22,
   "metadata": {
    "colab": {
     "base_uri": "https://localhost:8080/"
    },
    "id": "ReAD0n6MsFK-",
    "outputId": "c80ea4c6-9d8e-4811-a99c-ffa56cf6889d"
   },
   "outputs": [
    {
     "name": "stdout",
     "output_type": "stream",
     "text": [
      "Model: \"sequential_1\"\n",
      "_________________________________________________________________\n",
      "Layer (type)                 Output Shape              Param #   \n",
      "=================================================================\n",
      "dense_3 (Dense)              (None, 64)                512       \n",
      "_________________________________________________________________\n",
      "dense_4 (Dense)              (None, 64)                4160      \n",
      "_________________________________________________________________\n",
      "dense_5 (Dense)              (None, 1)                 65        \n",
      "=================================================================\n",
      "Total params: 4,737\n",
      "Trainable params: 4,737\n",
      "Non-trainable params: 0\n",
      "_________________________________________________________________\n"
     ]
    }
   ],
   "source": [
    "model.summary()"
   ]
  },
  {
   "cell_type": "markdown",
   "metadata": {
    "id": "0-qWCsh6DlyH"
   },
   "source": [
    "### Entrenar el modelo\n",
    "\n",
    "Entrena el modelo para 1000 epochs y guarda los resultados del entrenamiento en una variable llamada `history`.\n",
    "Emplea en el entrenamiento un 20% de los datos para validación, mediante el argumento `validation_split`."
   ]
  },
  {
   "cell_type": "code",
   "execution_count": 23,
   "metadata": {
    "colab": {
     "base_uri": "https://localhost:8080/"
    },
    "id": "sD7qHCmNIOY0",
    "outputId": "9d06bebf-bb9d-44de-bd38-aa16846ecd9b"
   },
   "outputs": [
    {
     "name": "stdout",
     "output_type": "stream",
     "text": [
      "Epoch 1/200\n",
      "7/7 [==============================] - 1s 69ms/step - loss: 614.0755 - mae: 23.3870 - mse: 614.0755 - val_loss: 650.5386 - val_mae: 24.3832 - val_mse: 650.5386\n",
      "Epoch 2/200\n",
      "7/7 [==============================] - 0s 10ms/step - loss: 540.5399 - mae: 21.9984 - mse: 540.5399 - val_loss: 601.4291 - val_mae: 23.4200 - val_mse: 601.4291\n",
      "Epoch 3/200\n",
      "7/7 [==============================] - 0s 12ms/step - loss: 495.0499 - mae: 20.8953 - mse: 495.0499 - val_loss: 550.0751 - val_mae: 22.3726 - val_mse: 550.0751\n",
      "Epoch 4/200\n",
      "7/7 [==============================] - 0s 11ms/step - loss: 444.4197 - mae: 19.8551 - mse: 444.4197 - val_loss: 495.5753 - val_mae: 21.2044 - val_mse: 495.5753\n",
      "Epoch 5/200\n",
      "7/7 [==============================] - 0s 12ms/step - loss: 408.2754 - mae: 18.8680 - mse: 408.2754 - val_loss: 438.9476 - val_mae: 19.9104 - val_mse: 438.9476\n",
      "Epoch 6/200\n",
      "7/7 [==============================] - 0s 11ms/step - loss: 344.8936 - mae: 17.3806 - mse: 344.8936 - val_loss: 380.0100 - val_mae: 18.4598 - val_mse: 380.0100\n",
      "Epoch 7/200\n",
      "7/7 [==============================] - 0s 11ms/step - loss: 301.2146 - mae: 16.1757 - mse: 301.2146 - val_loss: 319.4501 - val_mae: 16.8313 - val_mse: 319.4501\n",
      "Epoch 8/200\n",
      "7/7 [==============================] - 0s 13ms/step - loss: 251.6961 - mae: 14.6227 - mse: 251.6961 - val_loss: 260.7362 - val_mae: 15.0671 - val_mse: 260.7362\n",
      "Epoch 9/200\n",
      "7/7 [==============================] - 0s 13ms/step - loss: 185.3867 - mae: 12.3308 - mse: 185.3867 - val_loss: 204.6841 - val_mae: 13.1512 - val_mse: 204.6841\n",
      "Epoch 10/200\n",
      "7/7 [==============================] - 0s 16ms/step - loss: 155.2543 - mae: 11.2017 - mse: 155.2543 - val_loss: 156.5021 - val_mae: 11.3496 - val_mse: 156.5021\n",
      "Epoch 11/200\n",
      "7/7 [==============================] - 0s 16ms/step - loss: 111.0382 - mae: 9.2419 - mse: 111.0382 - val_loss: 116.9646 - val_mae: 9.5543 - val_mse: 116.9646\n",
      "Epoch 12/200\n",
      "7/7 [==============================] - 0s 16ms/step - loss: 84.6785 - mae: 7.7192 - mse: 84.6785 - val_loss: 87.9207 - val_mae: 7.8947 - val_mse: 87.9207\n",
      "Epoch 13/200\n",
      "7/7 [==============================] - 0s 13ms/step - loss: 66.2149 - mae: 6.6919 - mse: 66.2149 - val_loss: 68.6509 - val_mae: 6.8010 - val_mse: 68.6509\n",
      "Epoch 14/200\n",
      "7/7 [==============================] - 0s 15ms/step - loss: 44.0606 - mae: 5.5510 - mse: 44.0606 - val_loss: 56.7892 - val_mae: 6.1179 - val_mse: 56.7892\n",
      "Epoch 15/200\n",
      "7/7 [==============================] - 0s 16ms/step - loss: 40.8494 - mae: 5.2328 - mse: 40.8494 - val_loss: 49.0356 - val_mae: 5.5958 - val_mse: 49.0356\n",
      "Epoch 16/200\n",
      "7/7 [==============================] - 0s 15ms/step - loss: 34.4857 - mae: 4.7925 - mse: 34.4857 - val_loss: 43.2929 - val_mae: 5.1864 - val_mse: 43.2929\n",
      "Epoch 17/200\n",
      "7/7 [==============================] - 0s 14ms/step - loss: 32.6830 - mae: 4.6505 - mse: 32.6830 - val_loss: 38.1237 - val_mae: 4.8008 - val_mse: 38.1237\n",
      "Epoch 18/200\n",
      "7/7 [==============================] - 0s 16ms/step - loss: 26.9246 - mae: 4.1446 - mse: 26.9246 - val_loss: 33.4400 - val_mae: 4.4482 - val_mse: 33.4400\n",
      "Epoch 19/200\n",
      "7/7 [==============================] - 0s 15ms/step - loss: 26.1433 - mae: 4.0140 - mse: 26.1433 - val_loss: 29.7614 - val_mae: 4.1819 - val_mse: 29.7614\n",
      "Epoch 20/200\n",
      "7/7 [==============================] - 0s 14ms/step - loss: 21.0698 - mae: 3.5893 - mse: 21.0698 - val_loss: 26.2866 - val_mae: 3.8840 - val_mse: 26.2866\n",
      "Epoch 21/200\n",
      "7/7 [==============================] - 0s 13ms/step - loss: 22.0600 - mae: 3.7205 - mse: 22.0600 - val_loss: 23.4607 - val_mae: 3.6240 - val_mse: 23.4607\n",
      "Epoch 22/200\n",
      "7/7 [==============================] - 0s 13ms/step - loss: 19.1157 - mae: 3.4349 - mse: 19.1157 - val_loss: 21.2734 - val_mae: 3.4393 - val_mse: 21.2734\n",
      "Epoch 23/200\n",
      "7/7 [==============================] - 0s 13ms/step - loss: 15.8661 - mae: 3.1338 - mse: 15.8661 - val_loss: 19.6282 - val_mae: 3.3124 - val_mse: 19.6282\n",
      "Epoch 24/200\n",
      "7/7 [==============================] - 0s 11ms/step - loss: 15.3304 - mae: 3.0079 - mse: 15.3304 - val_loss: 18.0388 - val_mae: 3.1556 - val_mse: 18.0388\n",
      "Epoch 25/200\n",
      "7/7 [==============================] - 0s 11ms/step - loss: 15.8759 - mae: 3.0104 - mse: 15.8759 - val_loss: 16.7993 - val_mae: 3.0459 - val_mse: 16.7993\n",
      "Epoch 26/200\n",
      "7/7 [==============================] - 0s 13ms/step - loss: 15.2169 - mae: 2.9898 - mse: 15.2169 - val_loss: 16.3172 - val_mae: 3.0630 - val_mse: 16.3172\n",
      "Epoch 27/200\n",
      "7/7 [==============================] - 0s 11ms/step - loss: 13.8707 - mae: 2.9401 - mse: 13.8707 - val_loss: 15.9393 - val_mae: 2.9776 - val_mse: 15.9393\n",
      "Epoch 28/200\n",
      "7/7 [==============================] - 0s 12ms/step - loss: 14.3382 - mae: 2.8601 - mse: 14.3382 - val_loss: 14.5231 - val_mae: 2.8050 - val_mse: 14.5231\n",
      "Epoch 29/200\n",
      "7/7 [==============================] - 0s 26ms/step - loss: 12.9075 - mae: 2.7980 - mse: 12.9075 - val_loss: 13.8754 - val_mae: 2.7303 - val_mse: 13.8754\n",
      "Epoch 30/200\n",
      "7/7 [==============================] - 0s 19ms/step - loss: 9.9826 - mae: 2.4782 - mse: 9.9826 - val_loss: 13.3662 - val_mae: 2.6817 - val_mse: 13.3662\n",
      "Epoch 31/200\n",
      "7/7 [==============================] - 0s 16ms/step - loss: 12.5693 - mae: 2.7212 - mse: 12.5693 - val_loss: 13.1337 - val_mae: 2.6616 - val_mse: 13.1337\n",
      "Epoch 32/200\n",
      "7/7 [==============================] - 0s 15ms/step - loss: 12.5459 - mae: 2.6583 - mse: 12.5459 - val_loss: 12.5509 - val_mae: 2.5957 - val_mse: 12.5509\n",
      "Epoch 33/200\n",
      "7/7 [==============================] - 0s 15ms/step - loss: 11.4527 - mae: 2.5334 - mse: 11.4527 - val_loss: 12.1749 - val_mae: 2.5524 - val_mse: 12.1749\n",
      "Epoch 34/200\n",
      "7/7 [==============================] - 0s 17ms/step - loss: 12.3860 - mae: 2.6506 - mse: 12.3860 - val_loss: 11.7346 - val_mae: 2.4919 - val_mse: 11.7346\n",
      "Epoch 35/200\n",
      "7/7 [==============================] - 0s 16ms/step - loss: 11.1142 - mae: 2.4498 - mse: 11.1142 - val_loss: 11.6084 - val_mae: 2.5110 - val_mse: 11.6084\n",
      "Epoch 36/200\n",
      "7/7 [==============================] - 0s 14ms/step - loss: 10.3085 - mae: 2.4157 - mse: 10.3085 - val_loss: 11.0607 - val_mae: 2.4330 - val_mse: 11.0607\n",
      "Epoch 37/200\n",
      "7/7 [==============================] - 0s 17ms/step - loss: 11.0291 - mae: 2.4305 - mse: 11.0291 - val_loss: 11.2652 - val_mae: 2.4807 - val_mse: 11.2652\n",
      "Epoch 38/200\n",
      "7/7 [==============================] - 0s 14ms/step - loss: 11.1158 - mae: 2.4902 - mse: 11.1158 - val_loss: 10.8867 - val_mae: 2.3800 - val_mse: 10.8867\n",
      "Epoch 39/200\n",
      "7/7 [==============================] - 0s 13ms/step - loss: 10.7434 - mae: 2.3756 - mse: 10.7434 - val_loss: 10.6046 - val_mae: 2.3544 - val_mse: 10.6046\n",
      "Epoch 40/200\n",
      "7/7 [==============================] - 0s 14ms/step - loss: 11.2558 - mae: 2.5026 - mse: 11.2558 - val_loss: 10.3930 - val_mae: 2.3464 - val_mse: 10.3930\n",
      "Epoch 41/200\n",
      "7/7 [==============================] - 0s 12ms/step - loss: 11.3391 - mae: 2.4889 - mse: 11.3391 - val_loss: 10.2939 - val_mae: 2.3116 - val_mse: 10.2939\n",
      "Epoch 42/200\n",
      "7/7 [==============================] - 0s 12ms/step - loss: 11.4526 - mae: 2.4222 - mse: 11.4526 - val_loss: 10.1364 - val_mae: 2.3122 - val_mse: 10.1364\n",
      "Epoch 43/200\n",
      "7/7 [==============================] - 0s 13ms/step - loss: 10.3807 - mae: 2.4000 - mse: 10.3807 - val_loss: 9.9426 - val_mae: 2.2758 - val_mse: 9.9426\n",
      "Epoch 44/200\n",
      "7/7 [==============================] - 0s 15ms/step - loss: 10.0196 - mae: 2.2656 - mse: 10.0196 - val_loss: 9.8504 - val_mae: 2.2834 - val_mse: 9.8504\n",
      "Epoch 45/200\n",
      "7/7 [==============================] - 0s 16ms/step - loss: 9.0150 - mae: 2.2619 - mse: 9.0150 - val_loss: 9.6730 - val_mae: 2.2389 - val_mse: 9.6730\n",
      "Epoch 46/200\n",
      "7/7 [==============================] - 0s 15ms/step - loss: 9.8000 - mae: 2.3676 - mse: 9.8000 - val_loss: 10.0644 - val_mae: 2.3960 - val_mse: 10.0644\n",
      "Epoch 47/200\n",
      "7/7 [==============================] - 0s 15ms/step - loss: 8.9562 - mae: 2.2537 - mse: 8.9562 - val_loss: 9.6573 - val_mae: 2.3036 - val_mse: 9.6573\n",
      "Epoch 48/200\n",
      "7/7 [==============================] - 0s 14ms/step - loss: 9.4717 - mae: 2.2408 - mse: 9.4717 - val_loss: 9.4892 - val_mae: 2.2399 - val_mse: 9.4892\n",
      "Epoch 49/200\n",
      "7/7 [==============================] - 0s 16ms/step - loss: 9.5999 - mae: 2.3080 - mse: 9.5999 - val_loss: 9.3425 - val_mae: 2.2046 - val_mse: 9.3425\n",
      "Epoch 50/200\n",
      "7/7 [==============================] - 0s 15ms/step - loss: 9.8044 - mae: 2.3122 - mse: 9.8044 - val_loss: 9.1191 - val_mae: 2.1913 - val_mse: 9.1191\n",
      "Epoch 51/200\n",
      "7/7 [==============================] - 0s 16ms/step - loss: 9.2026 - mae: 2.2176 - mse: 9.2026 - val_loss: 9.1173 - val_mae: 2.1785 - val_mse: 9.1173\n",
      "Epoch 52/200\n",
      "7/7 [==============================] - 0s 15ms/step - loss: 9.6278 - mae: 2.3090 - mse: 9.6278 - val_loss: 9.2889 - val_mae: 2.2769 - val_mse: 9.2889\n",
      "Epoch 53/200\n",
      "7/7 [==============================] - 0s 15ms/step - loss: 7.8226 - mae: 2.1011 - mse: 7.8226 - val_loss: 8.8300 - val_mae: 2.1484 - val_mse: 8.8300\n",
      "Epoch 54/200\n",
      "7/7 [==============================] - 0s 14ms/step - loss: 8.8035 - mae: 2.0864 - mse: 8.8035 - val_loss: 8.8927 - val_mae: 2.1820 - val_mse: 8.8927\n",
      "Epoch 55/200\n",
      "7/7 [==============================] - 0s 13ms/step - loss: 8.5390 - mae: 2.1438 - mse: 8.5390 - val_loss: 8.7473 - val_mae: 2.1532 - val_mse: 8.7473\n",
      "Epoch 56/200\n",
      "7/7 [==============================] - 0s 12ms/step - loss: 10.6026 - mae: 2.3767 - mse: 10.6026 - val_loss: 8.7021 - val_mae: 2.1540 - val_mse: 8.7021\n",
      "Epoch 57/200\n",
      "7/7 [==============================] - 0s 12ms/step - loss: 9.3335 - mae: 2.2347 - mse: 9.3335 - val_loss: 8.7591 - val_mae: 2.1719 - val_mse: 8.7591\n",
      "Epoch 58/200\n",
      "7/7 [==============================] - 0s 13ms/step - loss: 7.8333 - mae: 2.0784 - mse: 7.8333 - val_loss: 8.5584 - val_mae: 2.1433 - val_mse: 8.5584\n",
      "Epoch 59/200\n",
      "7/7 [==============================] - 0s 13ms/step - loss: 10.4859 - mae: 2.3060 - mse: 10.4859 - val_loss: 8.6413 - val_mae: 2.1855 - val_mse: 8.6413\n",
      "Epoch 60/200\n",
      "7/7 [==============================] - 0s 14ms/step - loss: 9.6425 - mae: 2.2527 - mse: 9.6425 - val_loss: 8.3160 - val_mae: 2.1045 - val_mse: 8.3160\n",
      "Epoch 61/200\n",
      "7/7 [==============================] - 0s 14ms/step - loss: 8.6563 - mae: 2.1747 - mse: 8.6563 - val_loss: 8.5064 - val_mae: 2.1442 - val_mse: 8.5064\n",
      "Epoch 62/200\n",
      "7/7 [==============================] - 0s 13ms/step - loss: 8.0522 - mae: 2.0985 - mse: 8.0522 - val_loss: 8.8896 - val_mae: 2.1874 - val_mse: 8.8896\n",
      "Epoch 63/200\n",
      "7/7 [==============================] - 0s 14ms/step - loss: 8.4522 - mae: 2.1573 - mse: 8.4522 - val_loss: 8.4333 - val_mae: 2.1149 - val_mse: 8.4333\n",
      "Epoch 64/200\n",
      "7/7 [==============================] - 0s 14ms/step - loss: 8.1424 - mae: 2.0565 - mse: 8.1424 - val_loss: 8.2942 - val_mae: 2.1139 - val_mse: 8.2942\n",
      "Epoch 65/200\n",
      "7/7 [==============================] - 0s 13ms/step - loss: 7.8568 - mae: 2.0837 - mse: 7.8568 - val_loss: 8.4022 - val_mae: 2.1142 - val_mse: 8.4022\n",
      "Epoch 66/200\n",
      "7/7 [==============================] - 0s 13ms/step - loss: 6.5209 - mae: 1.8702 - mse: 6.5209 - val_loss: 8.1922 - val_mae: 2.0862 - val_mse: 8.1922\n",
      "Epoch 67/200\n",
      "7/7 [==============================] - 0s 14ms/step - loss: 8.1888 - mae: 2.0744 - mse: 8.1888 - val_loss: 8.5627 - val_mae: 2.1362 - val_mse: 8.5627\n",
      "Epoch 68/200\n",
      "7/7 [==============================] - 0s 12ms/step - loss: 7.7202 - mae: 1.9797 - mse: 7.7202 - val_loss: 8.1391 - val_mae: 2.0868 - val_mse: 8.1391\n",
      "Epoch 69/200\n",
      "7/7 [==============================] - 0s 13ms/step - loss: 7.7553 - mae: 2.0613 - mse: 7.7553 - val_loss: 8.3228 - val_mae: 2.1075 - val_mse: 8.3228\n",
      "Epoch 70/200\n",
      "7/7 [==============================] - 0s 13ms/step - loss: 7.5330 - mae: 2.0234 - mse: 7.5330 - val_loss: 8.0130 - val_mae: 2.0873 - val_mse: 8.0130\n",
      "Epoch 71/200\n",
      "7/7 [==============================] - 0s 14ms/step - loss: 8.9625 - mae: 2.1594 - mse: 8.9625 - val_loss: 8.1316 - val_mae: 2.0840 - val_mse: 8.1316\n",
      "Epoch 72/200\n",
      "7/7 [==============================] - 0s 13ms/step - loss: 9.1004 - mae: 2.1547 - mse: 9.1004 - val_loss: 8.0362 - val_mae: 2.0778 - val_mse: 8.0362\n",
      "Epoch 73/200\n",
      "7/7 [==============================] - 0s 13ms/step - loss: 8.1499 - mae: 2.0313 - mse: 8.1499 - val_loss: 8.4980 - val_mae: 2.2060 - val_mse: 8.4980\n",
      "Epoch 74/200\n",
      "7/7 [==============================] - 0s 13ms/step - loss: 8.4892 - mae: 2.1017 - mse: 8.4892 - val_loss: 7.9212 - val_mae: 2.0752 - val_mse: 7.9212\n",
      "Epoch 75/200\n",
      "7/7 [==============================] - 0s 12ms/step - loss: 7.5520 - mae: 1.9786 - mse: 7.5520 - val_loss: 8.0234 - val_mae: 2.1187 - val_mse: 8.0234\n",
      "Epoch 76/200\n",
      "7/7 [==============================] - 0s 11ms/step - loss: 7.5804 - mae: 1.9694 - mse: 7.5804 - val_loss: 8.0293 - val_mae: 2.1277 - val_mse: 8.0293\n",
      "Epoch 77/200\n",
      "7/7 [==============================] - 0s 13ms/step - loss: 7.2129 - mae: 1.9442 - mse: 7.2129 - val_loss: 8.1188 - val_mae: 2.1493 - val_mse: 8.1188\n",
      "Epoch 78/200\n",
      "7/7 [==============================] - 0s 12ms/step - loss: 6.8241 - mae: 1.9369 - mse: 6.8241 - val_loss: 7.9462 - val_mae: 2.0584 - val_mse: 7.9462\n",
      "Epoch 79/200\n",
      "7/7 [==============================] - 0s 12ms/step - loss: 7.6667 - mae: 2.0150 - mse: 7.6667 - val_loss: 7.8877 - val_mae: 2.0524 - val_mse: 7.8877\n",
      "Epoch 80/200\n",
      "7/7 [==============================] - 0s 11ms/step - loss: 6.8726 - mae: 1.9164 - mse: 6.8726 - val_loss: 7.7476 - val_mae: 2.0336 - val_mse: 7.7476\n",
      "Epoch 81/200\n",
      "7/7 [==============================] - 0s 11ms/step - loss: 8.2778 - mae: 2.0753 - mse: 8.2778 - val_loss: 7.7014 - val_mae: 2.0232 - val_mse: 7.7014\n",
      "Epoch 82/200\n",
      "7/7 [==============================] - 0s 13ms/step - loss: 8.0015 - mae: 1.9540 - mse: 8.0015 - val_loss: 7.7327 - val_mae: 2.0278 - val_mse: 7.7327\n",
      "Epoch 83/200\n",
      "7/7 [==============================] - 0s 12ms/step - loss: 7.5685 - mae: 1.9675 - mse: 7.5685 - val_loss: 7.6087 - val_mae: 2.0407 - val_mse: 7.6087\n",
      "Epoch 84/200\n",
      "7/7 [==============================] - 0s 12ms/step - loss: 7.7301 - mae: 2.0140 - mse: 7.7301 - val_loss: 7.5199 - val_mae: 2.0123 - val_mse: 7.5199\n",
      "Epoch 85/200\n",
      "7/7 [==============================] - 0s 12ms/step - loss: 7.9669 - mae: 1.9757 - mse: 7.9669 - val_loss: 7.6680 - val_mae: 2.0700 - val_mse: 7.6680\n",
      "Epoch 86/200\n",
      "7/7 [==============================] - 0s 12ms/step - loss: 6.6714 - mae: 1.9127 - mse: 6.6714 - val_loss: 7.5219 - val_mae: 2.0204 - val_mse: 7.5219\n",
      "Epoch 87/200\n",
      "7/7 [==============================] - 0s 13ms/step - loss: 9.2416 - mae: 2.1421 - mse: 9.2416 - val_loss: 7.5237 - val_mae: 2.0051 - val_mse: 7.5237\n",
      "Epoch 88/200\n",
      "7/7 [==============================] - 0s 13ms/step - loss: 6.7557 - mae: 1.8181 - mse: 6.7557 - val_loss: 7.5033 - val_mae: 2.0205 - val_mse: 7.5033\n",
      "Epoch 89/200\n",
      "7/7 [==============================] - 0s 12ms/step - loss: 7.4315 - mae: 1.9358 - mse: 7.4315 - val_loss: 7.4514 - val_mae: 2.0080 - val_mse: 7.4514\n",
      "Epoch 90/200\n",
      "7/7 [==============================] - 0s 14ms/step - loss: 7.0507 - mae: 1.8959 - mse: 7.0507 - val_loss: 7.4880 - val_mae: 1.9986 - val_mse: 7.4880\n",
      "Epoch 91/200\n",
      "7/7 [==============================] - 0s 14ms/step - loss: 7.3625 - mae: 1.9327 - mse: 7.3625 - val_loss: 7.3955 - val_mae: 2.0192 - val_mse: 7.3955\n",
      "Epoch 92/200\n",
      "7/7 [==============================] - 0s 13ms/step - loss: 7.2077 - mae: 1.9388 - mse: 7.2077 - val_loss: 7.5360 - val_mae: 2.0538 - val_mse: 7.5360\n",
      "Epoch 93/200\n",
      "7/7 [==============================] - 0s 14ms/step - loss: 8.1028 - mae: 2.0379 - mse: 8.1028 - val_loss: 7.5490 - val_mae: 1.9995 - val_mse: 7.5490\n",
      "Epoch 94/200\n",
      "7/7 [==============================] - 0s 11ms/step - loss: 8.9290 - mae: 2.1569 - mse: 8.9290 - val_loss: 7.3969 - val_mae: 2.0271 - val_mse: 7.3969\n",
      "Epoch 95/200\n",
      "7/7 [==============================] - 0s 12ms/step - loss: 8.1263 - mae: 2.0421 - mse: 8.1263 - val_loss: 7.3850 - val_mae: 2.0292 - val_mse: 7.3850\n",
      "Epoch 96/200\n",
      "7/7 [==============================] - 0s 13ms/step - loss: 7.0257 - mae: 1.8919 - mse: 7.0257 - val_loss: 7.4668 - val_mae: 2.0471 - val_mse: 7.4668\n",
      "Epoch 97/200\n",
      "7/7 [==============================] - 0s 13ms/step - loss: 6.8316 - mae: 1.8444 - mse: 6.8316 - val_loss: 7.7827 - val_mae: 2.1268 - val_mse: 7.7827\n",
      "Epoch 98/200\n",
      "7/7 [==============================] - 0s 12ms/step - loss: 7.6805 - mae: 1.9963 - mse: 7.6805 - val_loss: 7.6228 - val_mae: 2.0973 - val_mse: 7.6228\n",
      "Epoch 99/200\n",
      "7/7 [==============================] - 0s 12ms/step - loss: 6.5731 - mae: 1.8615 - mse: 6.5731 - val_loss: 7.2968 - val_mae: 1.9704 - val_mse: 7.2968\n",
      "Epoch 100/200\n",
      "7/7 [==============================] - 0s 16ms/step - loss: 6.7957 - mae: 1.8800 - mse: 6.7957 - val_loss: 7.3695 - val_mae: 1.9740 - val_mse: 7.3695\n",
      "Epoch 101/200\n",
      "7/7 [==============================] - 0s 12ms/step - loss: 8.3880 - mae: 2.0768 - mse: 8.3880 - val_loss: 7.3128 - val_mae: 2.0263 - val_mse: 7.3128\n",
      "Epoch 102/200\n",
      "7/7 [==============================] - 0s 20ms/step - loss: 7.3541 - mae: 1.9330 - mse: 7.3541 - val_loss: 7.2307 - val_mae: 1.9981 - val_mse: 7.2307\n",
      "Epoch 103/200\n",
      "7/7 [==============================] - 0s 14ms/step - loss: 6.8831 - mae: 1.9032 - mse: 6.8831 - val_loss: 7.2382 - val_mae: 1.9602 - val_mse: 7.2382\n",
      "Epoch 104/200\n",
      "7/7 [==============================] - 0s 16ms/step - loss: 6.0654 - mae: 1.7791 - mse: 6.0654 - val_loss: 7.1735 - val_mae: 1.9662 - val_mse: 7.1735\n",
      "Epoch 105/200\n",
      "7/7 [==============================] - 0s 14ms/step - loss: 9.0466 - mae: 2.1108 - mse: 9.0466 - val_loss: 7.2274 - val_mae: 1.9911 - val_mse: 7.2274\n",
      "Epoch 106/200\n",
      "7/7 [==============================] - 0s 18ms/step - loss: 7.4002 - mae: 1.9527 - mse: 7.4002 - val_loss: 7.2765 - val_mae: 1.9580 - val_mse: 7.2765\n",
      "Epoch 107/200\n",
      "7/7 [==============================] - 0s 17ms/step - loss: 7.3092 - mae: 1.9337 - mse: 7.3092 - val_loss: 7.1444 - val_mae: 1.9484 - val_mse: 7.1444\n",
      "Epoch 108/200\n",
      "7/7 [==============================] - 0s 17ms/step - loss: 7.9509 - mae: 1.9782 - mse: 7.9509 - val_loss: 7.1869 - val_mae: 2.0223 - val_mse: 7.1869\n",
      "Epoch 109/200\n",
      "7/7 [==============================] - 0s 16ms/step - loss: 5.6645 - mae: 1.7826 - mse: 5.6645 - val_loss: 7.1034 - val_mae: 1.9474 - val_mse: 7.1034\n",
      "Epoch 110/200\n",
      "7/7 [==============================] - 0s 20ms/step - loss: 7.9122 - mae: 1.9751 - mse: 7.9122 - val_loss: 7.2077 - val_mae: 1.9533 - val_mse: 7.2077\n",
      "Epoch 111/200\n",
      "7/7 [==============================] - 0s 26ms/step - loss: 6.1891 - mae: 1.7576 - mse: 6.1891 - val_loss: 7.6627 - val_mae: 2.0084 - val_mse: 7.6627\n",
      "Epoch 112/200\n",
      "7/7 [==============================] - 0s 16ms/step - loss: 8.3457 - mae: 2.0388 - mse: 8.3457 - val_loss: 7.0823 - val_mae: 1.9384 - val_mse: 7.0823\n",
      "Epoch 113/200\n",
      "7/7 [==============================] - 0s 17ms/step - loss: 6.3389 - mae: 1.7520 - mse: 6.3389 - val_loss: 7.1784 - val_mae: 1.9470 - val_mse: 7.1784\n",
      "Epoch 114/200\n",
      "7/7 [==============================] - 0s 15ms/step - loss: 6.9759 - mae: 1.8737 - mse: 6.9759 - val_loss: 7.5154 - val_mae: 2.0935 - val_mse: 7.5154\n",
      "Epoch 115/200\n",
      "7/7 [==============================] - 0s 14ms/step - loss: 6.6638 - mae: 1.9015 - mse: 6.6638 - val_loss: 6.9101 - val_mae: 1.9492 - val_mse: 6.9101\n",
      "Epoch 116/200\n",
      "7/7 [==============================] - 0s 15ms/step - loss: 6.6386 - mae: 1.8777 - mse: 6.6386 - val_loss: 7.2184 - val_mae: 1.9534 - val_mse: 7.2184\n",
      "Epoch 117/200\n",
      "7/7 [==============================] - 0s 16ms/step - loss: 6.3382 - mae: 1.8104 - mse: 6.3382 - val_loss: 7.2198 - val_mae: 1.9492 - val_mse: 7.2198\n",
      "Epoch 118/200\n",
      "7/7 [==============================] - 0s 18ms/step - loss: 6.6362 - mae: 1.8532 - mse: 6.6362 - val_loss: 7.0363 - val_mae: 1.9985 - val_mse: 7.0363\n",
      "Epoch 119/200\n",
      "7/7 [==============================] - 0s 15ms/step - loss: 5.7573 - mae: 1.7620 - mse: 5.7573 - val_loss: 6.8914 - val_mae: 1.9394 - val_mse: 6.8914\n",
      "Epoch 120/200\n",
      "7/7 [==============================] - 0s 14ms/step - loss: 6.8634 - mae: 1.8503 - mse: 6.8634 - val_loss: 6.9466 - val_mae: 1.9308 - val_mse: 6.9466\n",
      "Epoch 121/200\n",
      "7/7 [==============================] - 0s 18ms/step - loss: 7.6143 - mae: 1.9770 - mse: 7.6143 - val_loss: 7.0563 - val_mae: 1.9367 - val_mse: 7.0563\n",
      "Epoch 122/200\n",
      "7/7 [==============================] - 0s 15ms/step - loss: 6.9761 - mae: 1.8494 - mse: 6.9761 - val_loss: 7.3779 - val_mae: 2.0619 - val_mse: 7.3779\n",
      "Epoch 123/200\n",
      "7/7 [==============================] - 0s 17ms/step - loss: 8.0124 - mae: 2.0571 - mse: 8.0124 - val_loss: 6.8897 - val_mae: 1.9297 - val_mse: 6.8897\n",
      "Epoch 124/200\n",
      "7/7 [==============================] - 0s 15ms/step - loss: 6.1034 - mae: 1.8260 - mse: 6.1034 - val_loss: 6.9003 - val_mae: 1.9317 - val_mse: 6.9003\n",
      "Epoch 125/200\n",
      "7/7 [==============================] - 0s 14ms/step - loss: 7.0807 - mae: 1.9201 - mse: 7.0807 - val_loss: 6.8319 - val_mae: 1.9650 - val_mse: 6.8319\n",
      "Epoch 126/200\n",
      "7/7 [==============================] - 0s 13ms/step - loss: 7.8602 - mae: 1.9560 - mse: 7.8602 - val_loss: 6.8992 - val_mae: 1.9175 - val_mse: 6.8992\n",
      "Epoch 127/200\n",
      "7/7 [==============================] - 0s 14ms/step - loss: 6.8402 - mae: 1.8668 - mse: 6.8402 - val_loss: 6.9485 - val_mae: 2.0168 - val_mse: 6.9485\n",
      "Epoch 128/200\n",
      "7/7 [==============================] - 0s 13ms/step - loss: 5.5315 - mae: 1.7050 - mse: 5.5315 - val_loss: 6.7441 - val_mae: 1.9324 - val_mse: 6.7441\n",
      "Epoch 129/200\n",
      "7/7 [==============================] - 0s 15ms/step - loss: 7.6927 - mae: 2.0212 - mse: 7.6927 - val_loss: 7.1890 - val_mae: 1.9355 - val_mse: 7.1890\n",
      "Epoch 130/200\n",
      "7/7 [==============================] - 0s 17ms/step - loss: 8.1270 - mae: 2.0223 - mse: 8.1270 - val_loss: 6.9907 - val_mae: 2.0004 - val_mse: 6.9907\n",
      "Epoch 131/200\n",
      "7/7 [==============================] - 0s 16ms/step - loss: 6.9018 - mae: 1.8844 - mse: 6.9018 - val_loss: 6.8528 - val_mae: 1.9130 - val_mse: 6.8528\n",
      "Epoch 132/200\n",
      "7/7 [==============================] - 0s 14ms/step - loss: 8.0137 - mae: 2.0022 - mse: 8.0137 - val_loss: 7.2373 - val_mae: 1.9518 - val_mse: 7.2373\n",
      "Epoch 133/200\n",
      "7/7 [==============================] - 0s 13ms/step - loss: 7.3854 - mae: 1.9665 - mse: 7.3854 - val_loss: 6.7995 - val_mae: 1.9130 - val_mse: 6.7995\n",
      "Epoch 134/200\n",
      "7/7 [==============================] - 0s 14ms/step - loss: 6.2223 - mae: 1.8081 - mse: 6.2223 - val_loss: 6.9495 - val_mae: 1.9772 - val_mse: 6.9495\n",
      "Epoch 135/200\n",
      "7/7 [==============================] - 0s 15ms/step - loss: 7.0230 - mae: 1.8819 - mse: 7.0230 - val_loss: 7.0614 - val_mae: 2.0109 - val_mse: 7.0614\n",
      "Epoch 136/200\n",
      "7/7 [==============================] - 0s 14ms/step - loss: 7.5081 - mae: 1.9480 - mse: 7.5081 - val_loss: 6.8747 - val_mae: 1.9265 - val_mse: 6.8747\n",
      "Epoch 137/200\n",
      "7/7 [==============================] - 0s 13ms/step - loss: 7.9964 - mae: 1.9346 - mse: 7.9964 - val_loss: 6.8025 - val_mae: 1.9245 - val_mse: 6.8025\n",
      "Epoch 138/200\n",
      "7/7 [==============================] - 0s 14ms/step - loss: 6.8667 - mae: 1.8774 - mse: 6.8667 - val_loss: 6.8094 - val_mae: 1.9062 - val_mse: 6.8094\n",
      "Epoch 139/200\n",
      "7/7 [==============================] - 0s 14ms/step - loss: 7.2056 - mae: 1.8714 - mse: 7.2056 - val_loss: 7.0117 - val_mae: 1.9267 - val_mse: 7.0117\n",
      "Epoch 140/200\n",
      "7/7 [==============================] - 0s 15ms/step - loss: 6.1191 - mae: 1.7454 - mse: 6.1191 - val_loss: 6.7754 - val_mae: 1.9490 - val_mse: 6.7754\n",
      "Epoch 141/200\n",
      "7/7 [==============================] - 0s 13ms/step - loss: 6.7779 - mae: 1.8457 - mse: 6.7779 - val_loss: 6.8237 - val_mae: 1.9590 - val_mse: 6.8237\n",
      "Epoch 142/200\n",
      "7/7 [==============================] - 0s 14ms/step - loss: 6.7071 - mae: 1.8600 - mse: 6.7071 - val_loss: 7.0943 - val_mae: 2.0173 - val_mse: 7.0943\n",
      "Epoch 143/200\n",
      "7/7 [==============================] - 0s 12ms/step - loss: 6.7874 - mae: 1.8703 - mse: 6.7874 - val_loss: 6.7834 - val_mae: 1.9234 - val_mse: 6.7834\n",
      "Epoch 144/200\n",
      "7/7 [==============================] - 0s 13ms/step - loss: 6.7851 - mae: 1.8383 - mse: 6.7851 - val_loss: 6.8243 - val_mae: 1.9231 - val_mse: 6.8243\n",
      "Epoch 145/200\n",
      "7/7 [==============================] - 0s 15ms/step - loss: 6.6348 - mae: 1.8008 - mse: 6.6348 - val_loss: 6.8474 - val_mae: 1.9115 - val_mse: 6.8474\n",
      "Epoch 146/200\n",
      "7/7 [==============================] - 0s 14ms/step - loss: 5.8608 - mae: 1.7400 - mse: 5.8608 - val_loss: 6.7105 - val_mae: 1.9271 - val_mse: 6.7105\n",
      "Epoch 147/200\n",
      "7/7 [==============================] - 0s 18ms/step - loss: 5.7726 - mae: 1.7169 - mse: 5.7726 - val_loss: 6.7631 - val_mae: 1.8913 - val_mse: 6.7631\n",
      "Epoch 148/200\n",
      "7/7 [==============================] - 0s 16ms/step - loss: 6.5873 - mae: 1.8048 - mse: 6.5873 - val_loss: 7.0197 - val_mae: 2.0157 - val_mse: 7.0197\n",
      "Epoch 149/200\n",
      "7/7 [==============================] - 0s 15ms/step - loss: 6.6629 - mae: 1.8436 - mse: 6.6629 - val_loss: 6.8074 - val_mae: 1.9105 - val_mse: 6.8074\n",
      "Epoch 150/200\n",
      "7/7 [==============================] - 0s 15ms/step - loss: 6.3745 - mae: 1.7774 - mse: 6.3745 - val_loss: 6.6804 - val_mae: 1.9268 - val_mse: 6.6804\n",
      "Epoch 151/200\n",
      "7/7 [==============================] - 0s 12ms/step - loss: 6.2733 - mae: 1.7872 - mse: 6.2733 - val_loss: 6.7779 - val_mae: 1.9076 - val_mse: 6.7779\n",
      "Epoch 152/200\n",
      "7/7 [==============================] - ETA: 0s - loss: 11.2037 - mae: 2.4065 - mse: 11.203 - 0s 14ms/step - loss: 7.6804 - mae: 1.9668 - mse: 7.6804 - val_loss: 6.6886 - val_mae: 1.8889 - val_mse: 6.6886\n",
      "Epoch 153/200\n",
      "7/7 [==============================] - 0s 14ms/step - loss: 6.5819 - mae: 1.7673 - mse: 6.5819 - val_loss: 6.6626 - val_mae: 1.9099 - val_mse: 6.6626\n",
      "Epoch 154/200\n",
      "7/7 [==============================] - 0s 14ms/step - loss: 5.6839 - mae: 1.6626 - mse: 5.6839 - val_loss: 7.1547 - val_mae: 2.0493 - val_mse: 7.1547\n",
      "Epoch 155/200\n",
      "7/7 [==============================] - 0s 13ms/step - loss: 6.7757 - mae: 1.8680 - mse: 6.7757 - val_loss: 6.7074 - val_mae: 1.9218 - val_mse: 6.7074\n",
      "Epoch 156/200\n",
      "7/7 [==============================] - 0s 13ms/step - loss: 5.7042 - mae: 1.7102 - mse: 5.7042 - val_loss: 6.7221 - val_mae: 1.8948 - val_mse: 6.7221\n",
      "Epoch 157/200\n",
      "7/7 [==============================] - 0s 14ms/step - loss: 6.9692 - mae: 1.8057 - mse: 6.9692 - val_loss: 6.7085 - val_mae: 1.9327 - val_mse: 6.7085\n",
      "Epoch 158/200\n",
      "7/7 [==============================] - 0s 18ms/step - loss: 5.9917 - mae: 1.7026 - mse: 5.9917 - val_loss: 6.7123 - val_mae: 1.8825 - val_mse: 6.7123\n",
      "Epoch 159/200\n",
      "7/7 [==============================] - 0s 15ms/step - loss: 5.5866 - mae: 1.6602 - mse: 5.5866 - val_loss: 6.8097 - val_mae: 1.8983 - val_mse: 6.8097\n",
      "Epoch 160/200\n",
      "7/7 [==============================] - 0s 16ms/step - loss: 6.5727 - mae: 1.8158 - mse: 6.5727 - val_loss: 6.9627 - val_mae: 1.9182 - val_mse: 6.9627\n",
      "Epoch 161/200\n",
      "7/7 [==============================] - 0s 14ms/step - loss: 6.6428 - mae: 1.8346 - mse: 6.6428 - val_loss: 6.7361 - val_mae: 1.9072 - val_mse: 6.7361\n",
      "Epoch 162/200\n",
      "7/7 [==============================] - 0s 15ms/step - loss: 6.3818 - mae: 1.7543 - mse: 6.3818 - val_loss: 6.7501 - val_mae: 1.8954 - val_mse: 6.7501\n",
      "Epoch 163/200\n",
      "7/7 [==============================] - 0s 14ms/step - loss: 6.2356 - mae: 1.7894 - mse: 6.2356 - val_loss: 6.6511 - val_mae: 1.9008 - val_mse: 6.6511\n",
      "Epoch 164/200\n",
      "7/7 [==============================] - 0s 15ms/step - loss: 6.0241 - mae: 1.7443 - mse: 6.0241 - val_loss: 6.6289 - val_mae: 1.9069 - val_mse: 6.6289\n",
      "Epoch 165/200\n",
      "7/7 [==============================] - 0s 15ms/step - loss: 6.3285 - mae: 1.7285 - mse: 6.3285 - val_loss: 6.8467 - val_mae: 1.8979 - val_mse: 6.8467\n",
      "Epoch 166/200\n",
      "7/7 [==============================] - 0s 13ms/step - loss: 7.3115 - mae: 1.8534 - mse: 7.3115 - val_loss: 6.7835 - val_mae: 1.9047 - val_mse: 6.7835\n",
      "Epoch 167/200\n",
      "7/7 [==============================] - 0s 12ms/step - loss: 6.4845 - mae: 1.7778 - mse: 6.4845 - val_loss: 6.7907 - val_mae: 1.9763 - val_mse: 6.7907\n",
      "Epoch 168/200\n",
      "7/7 [==============================] - 0s 14ms/step - loss: 6.0236 - mae: 1.7197 - mse: 6.0236 - val_loss: 6.6692 - val_mae: 1.9127 - val_mse: 6.6692\n",
      "Epoch 169/200\n",
      "7/7 [==============================] - 0s 18ms/step - loss: 5.5734 - mae: 1.6593 - mse: 5.5734 - val_loss: 6.7675 - val_mae: 1.8986 - val_mse: 6.7675\n",
      "Epoch 170/200\n",
      "7/7 [==============================] - 0s 16ms/step - loss: 6.5415 - mae: 1.7661 - mse: 6.5415 - val_loss: 6.6949 - val_mae: 1.9460 - val_mse: 6.6949\n",
      "Epoch 171/200\n",
      "7/7 [==============================] - 0s 12ms/step - loss: 6.2114 - mae: 1.6742 - mse: 6.2114 - val_loss: 6.8012 - val_mae: 1.9128 - val_mse: 6.8012\n",
      "Epoch 172/200\n",
      "7/7 [==============================] - 0s 14ms/step - loss: 6.0159 - mae: 1.6910 - mse: 6.0159 - val_loss: 7.0121 - val_mae: 1.9181 - val_mse: 7.0121\n",
      "Epoch 173/200\n",
      "7/7 [==============================] - 0s 14ms/step - loss: 5.2943 - mae: 1.6931 - mse: 5.2943 - val_loss: 7.1304 - val_mae: 1.9270 - val_mse: 7.1304\n",
      "Epoch 174/200\n",
      "7/7 [==============================] - 0s 13ms/step - loss: 6.5761 - mae: 1.7744 - mse: 6.5761 - val_loss: 6.7562 - val_mae: 1.9229 - val_mse: 6.7562\n",
      "Epoch 175/200\n",
      "7/7 [==============================] - 0s 14ms/step - loss: 7.4465 - mae: 1.8713 - mse: 7.4465 - val_loss: 6.7861 - val_mae: 1.9214 - val_mse: 6.7861\n",
      "Epoch 176/200\n",
      "7/7 [==============================] - 0s 15ms/step - loss: 5.0690 - mae: 1.5786 - mse: 5.0690 - val_loss: 6.6631 - val_mae: 1.8996 - val_mse: 6.6631\n",
      "Epoch 177/200\n",
      "7/7 [==============================] - 0s 14ms/step - loss: 5.7534 - mae: 1.6903 - mse: 5.7534 - val_loss: 6.6387 - val_mae: 1.8975 - val_mse: 6.6387\n",
      "Epoch 178/200\n",
      "7/7 [==============================] - 0s 12ms/step - loss: 5.7473 - mae: 1.6708 - mse: 5.7473 - val_loss: 6.7432 - val_mae: 1.9154 - val_mse: 6.7432\n",
      "Epoch 179/200\n",
      "7/7 [==============================] - 0s 13ms/step - loss: 7.4769 - mae: 1.8813 - mse: 7.4769 - val_loss: 6.7086 - val_mae: 1.9059 - val_mse: 6.7086\n",
      "Epoch 180/200\n",
      "7/7 [==============================] - 0s 13ms/step - loss: 5.1717 - mae: 1.6181 - mse: 5.1717 - val_loss: 6.7129 - val_mae: 1.8932 - val_mse: 6.7129\n",
      "Epoch 181/200\n",
      "7/7 [==============================] - 0s 14ms/step - loss: 7.3245 - mae: 1.8949 - mse: 7.3245 - val_loss: 6.7658 - val_mae: 1.9127 - val_mse: 6.7658\n",
      "Epoch 182/200\n",
      "7/7 [==============================] - 0s 14ms/step - loss: 7.4569 - mae: 1.8369 - mse: 7.4569 - val_loss: 6.7599 - val_mae: 1.9043 - val_mse: 6.7599\n",
      "Epoch 183/200\n",
      "7/7 [==============================] - 0s 20ms/step - loss: 6.0038 - mae: 1.7299 - mse: 6.0038 - val_loss: 6.6184 - val_mae: 1.9476 - val_mse: 6.6184\n",
      "Epoch 184/200\n",
      "7/7 [==============================] - 0s 17ms/step - loss: 5.1336 - mae: 1.6060 - mse: 5.1336 - val_loss: 6.6750 - val_mae: 1.9644 - val_mse: 6.6750\n",
      "Epoch 185/200\n",
      "7/7 [==============================] - 0s 15ms/step - loss: 6.3978 - mae: 1.7531 - mse: 6.3978 - val_loss: 6.7689 - val_mae: 1.9570 - val_mse: 6.7689\n",
      "Epoch 186/200\n",
      "7/7 [==============================] - 0s 14ms/step - loss: 6.0340 - mae: 1.7079 - mse: 6.0340 - val_loss: 6.8918 - val_mae: 1.9076 - val_mse: 6.8918\n",
      "Epoch 187/200\n",
      "7/7 [==============================] - 0s 15ms/step - loss: 6.4793 - mae: 1.8057 - mse: 6.4793 - val_loss: 6.6709 - val_mae: 1.9346 - val_mse: 6.6709\n",
      "Epoch 188/200\n",
      "7/7 [==============================] - 0s 15ms/step - loss: 5.4882 - mae: 1.6334 - mse: 5.4882 - val_loss: 6.7530 - val_mae: 1.9552 - val_mse: 6.7530\n",
      "Epoch 189/200\n",
      "7/7 [==============================] - 0s 15ms/step - loss: 5.3724 - mae: 1.6485 - mse: 5.3724 - val_loss: 6.7458 - val_mae: 1.9701 - val_mse: 6.7458\n",
      "Epoch 190/200\n",
      "7/7 [==============================] - 0s 13ms/step - loss: 7.1806 - mae: 1.8501 - mse: 7.1806 - val_loss: 6.6372 - val_mae: 1.9250 - val_mse: 6.6372\n",
      "Epoch 191/200\n",
      "7/7 [==============================] - 0s 14ms/step - loss: 6.1587 - mae: 1.7450 - mse: 6.1587 - val_loss: 6.6114 - val_mae: 1.9511 - val_mse: 6.6114\n",
      "Epoch 192/200\n",
      "7/7 [==============================] - 0s 13ms/step - loss: 6.7993 - mae: 1.8185 - mse: 6.7993 - val_loss: 6.7349 - val_mae: 1.8990 - val_mse: 6.7349\n",
      "Epoch 193/200\n",
      "7/7 [==============================] - 0s 14ms/step - loss: 5.0606 - mae: 1.6392 - mse: 5.0606 - val_loss: 6.6755 - val_mae: 1.9216 - val_mse: 6.6755\n",
      "Epoch 194/200\n",
      "7/7 [==============================] - 0s 39ms/step - loss: 6.4260 - mae: 1.7760 - mse: 6.4260 - val_loss: 6.6438 - val_mae: 1.8996 - val_mse: 6.6438\n",
      "Epoch 195/200\n",
      "7/7 [==============================] - 0s 22ms/step - loss: 6.4069 - mae: 1.7723 - mse: 6.4069 - val_loss: 6.6601 - val_mae: 1.9061 - val_mse: 6.6601\n",
      "Epoch 196/200\n",
      "7/7 [==============================] - 0s 14ms/step - loss: 5.0983 - mae: 1.5652 - mse: 5.0983 - val_loss: 6.5589 - val_mae: 1.9259 - val_mse: 6.5589\n",
      "Epoch 197/200\n",
      "7/7 [==============================] - 0s 19ms/step - loss: 5.1575 - mae: 1.6389 - mse: 5.1575 - val_loss: 6.5320 - val_mae: 1.9467 - val_mse: 6.5320\n",
      "Epoch 198/200\n",
      "7/7 [==============================] - 0s 14ms/step - loss: 5.4513 - mae: 1.6719 - mse: 5.4513 - val_loss: 6.9699 - val_mae: 2.0163 - val_mse: 6.9699\n",
      "Epoch 199/200\n",
      "7/7 [==============================] - 0s 15ms/step - loss: 4.4462 - mae: 1.5448 - mse: 4.4462 - val_loss: 6.7389 - val_mae: 1.9187 - val_mse: 6.7389\n",
      "Epoch 200/200\n",
      "7/7 [==============================] - 0s 14ms/step - loss: 5.4698 - mae: 1.6872 - mse: 5.4698 - val_loss: 6.7284 - val_mae: 1.8973 - val_mse: 6.7284\n"
     ]
    }
   ],
   "source": [
    "history = model.fit(X_train,\n",
    "                   y_train,\n",
    "                   epochs=200,\n",
    "                   validation_split =0.2)"
   ]
  },
  {
   "cell_type": "code",
   "execution_count": null,
   "metadata": {
    "id": "3lI8ICYTCdti"
   },
   "outputs": [],
   "source": [
    "history.history"
   ]
  },
  {
   "cell_type": "markdown",
   "metadata": {
    "id": "tQm3pc0FYPQB"
   },
   "source": [
    "Visualiza el progreso de entrenamiento del modelo usando las estadísticas almacenadas en el objeto `history.history`, donde representes el error de train con el de validación:"
   ]
  },
  {
   "cell_type": "code",
   "execution_count": 17,
   "metadata": {
    "id": "4Xj91b-dymEy"
   },
   "outputs": [
    {
     "data": {
      "image/png": "[encoded data removed]",
      "text/plain": [
       "<Figure size 576x360 with 1 Axes>"
      ]
     },
     "metadata": {},
     "output_type": "display_data"
    }
   ],
   "source": [
    "import pandas as pd\n",
    "import matplotlib.pyplot as plt\n",
    "\n",
    "pd.DataFrame(history.history).plot(figsize=(8, 5))\n",
    "plt.grid(True)\n",
    "plt.gca().set_ylim(0, 1) \n",
    "plt.show()"
   ]
  },
  {
   "cell_type": "markdown",
   "metadata": {
    "id": "gzifO80qwp_S"
   },
   "source": [
    "¿Alguna conclusión respecto a este gráfico?"
   ]
  },
  {
   "cell_type": "code",
   "execution_count": 18,
   "metadata": {
    "colab": {
     "base_uri": "https://localhost:8080/",
     "height": 282
    },
    "id": "B6XriGbVPh2t",
    "outputId": "3edbc8ee-c30f-4697-f1fb-3b4b7396efe0"
   },
   "outputs": [
    {
     "data": {
      "text/plain": [
       "[<matplotlib.lines.Line2D at 0x18110640ee0>]"
      ]
     },
     "execution_count": 18,
     "metadata": {},
     "output_type": "execute_result"
    },
    {
     "data": {
      "image/png": "[encoded data removed]",
      "text/plain": [
       "<Figure size 432x288 with 1 Axes>"
      ]
     },
     "metadata": {},
     "output_type": "display_data"
    }
   ],
   "source": [
    "plt.plot(history.history['loss'][-500:])\n",
    "plt.plot(history.history['val_loss'][-500:])"
   ]
  },
  {
   "cell_type": "markdown",
   "metadata": {
    "id": "RBCgKv3sI76t"
   },
   "source": [
    "Añade un early stopping al modelo. Ya hemos visto cómo hacerlo mediante el parámetro callback. En este caso, pon un patience de 10.\n"
   ]
  },
  {
   "cell_type": "code",
   "execution_count": 19,
   "metadata": {
    "colab": {
     "base_uri": "https://localhost:8080/"
    },
    "id": "9Cwau4BgFTXE",
    "outputId": "ad3de2f0-07fe-4fb5-d709-ff4620c26e33"
   },
   "outputs": [
    {
     "name": "stdout",
     "output_type": "stream",
     "text": [
      "Epoch 1/1000\n",
      "7/7 [==============================] - 1s 36ms/step - loss: 560.1117 - mae: 22.3913 - mse: 560.1117 - val_loss: 588.1499 - val_mae: 23.2155 - val_mse: 588.1499\n",
      "Epoch 2/1000\n",
      "7/7 [==============================] - 0s 8ms/step - loss: 459.2270 - mae: 20.2857 - mse: 459.2270 - val_loss: 519.2086 - val_mae: 21.7847 - val_mse: 519.2086\n",
      "Epoch 3/1000\n",
      "7/7 [==============================] - 0s 8ms/step - loss: 420.2208 - mae: 19.2759 - mse: 420.2208 - val_loss: 452.4884 - val_mae: 20.2816 - val_mse: 452.4884\n",
      "Epoch 4/1000\n",
      "7/7 [==============================] - 0s 8ms/step - loss: 353.2082 - mae: 17.6823 - mse: 353.2082 - val_loss: 382.2176 - val_mae: 18.5591 - val_mse: 382.2176\n",
      "Epoch 5/1000\n",
      "7/7 [==============================] - 0s 9ms/step - loss: 292.9497 - mae: 15.8193 - mse: 292.9497 - val_loss: 315.4436 - val_mae: 16.7195 - val_mse: 315.4436\n",
      "Epoch 6/1000\n",
      "7/7 [==============================] - 0s 8ms/step - loss: 245.8886 - mae: 14.3753 - mse: 245.8886 - val_loss: 251.9644 - val_mae: 14.7369 - val_mse: 251.9644\n",
      "Epoch 7/1000\n",
      "7/7 [==============================] - 0s 8ms/step - loss: 176.9652 - mae: 12.0296 - mse: 176.9652 - val_loss: 192.9250 - val_mae: 12.6132 - val_mse: 192.9250\n",
      "Epoch 8/1000\n",
      "7/7 [==============================] - 0s 9ms/step - loss: 128.7295 - mae: 9.8194 - mse: 128.7295 - val_loss: 144.1937 - val_mae: 10.6100 - val_mse: 144.1937\n",
      "Epoch 9/1000\n",
      "7/7 [==============================] - 0s 8ms/step - loss: 95.2653 - mae: 8.4250 - mse: 95.2653 - val_loss: 108.2680 - val_mae: 8.8320 - val_mse: 108.2680\n",
      "Epoch 10/1000\n",
      "7/7 [==============================] - 0s 8ms/step - loss: 72.5550 - mae: 6.9519 - mse: 72.5550 - val_loss: 83.9312 - val_mae: 7.5724 - val_mse: 83.9312\n",
      "Epoch 11/1000\n",
      "7/7 [==============================] - 0s 8ms/step - loss: 57.0756 - mae: 6.0602 - mse: 57.0756 - val_loss: 68.1552 - val_mae: 6.8549 - val_mse: 68.1552\n",
      "Epoch 12/1000\n",
      "7/7 [==============================] - 0s 8ms/step - loss: 48.0850 - mae: 5.6307 - mse: 48.0850 - val_loss: 58.0455 - val_mae: 6.3343 - val_mse: 58.0455\n",
      "Epoch 13/1000\n",
      "7/7 [==============================] - 0s 8ms/step - loss: 41.2812 - mae: 5.2672 - mse: 41.2812 - val_loss: 50.2401 - val_mae: 5.8578 - val_mse: 50.2401\n",
      "Epoch 14/1000\n",
      "7/7 [==============================] - 0s 7ms/step - loss: 35.4106 - mae: 4.7782 - mse: 35.4106 - val_loss: 43.0145 - val_mae: 5.3826 - val_mse: 43.0145\n",
      "Epoch 15/1000\n",
      "7/7 [==============================] - 0s 8ms/step - loss: 28.9471 - mae: 4.2462 - mse: 28.9471 - val_loss: 37.0574 - val_mae: 4.9043 - val_mse: 37.0574\n",
      "Epoch 16/1000\n",
      "7/7 [==============================] - 0s 9ms/step - loss: 30.3323 - mae: 4.4077 - mse: 30.3323 - val_loss: 32.1455 - val_mae: 4.5021 - val_mse: 32.1455\n",
      "Epoch 17/1000\n",
      "7/7 [==============================] - 0s 8ms/step - loss: 22.8426 - mae: 3.8238 - mse: 22.8426 - val_loss: 27.8833 - val_mae: 4.0944 - val_mse: 27.8833\n",
      "Epoch 18/1000\n",
      "7/7 [==============================] - 0s 7ms/step - loss: 22.7966 - mae: 3.7322 - mse: 22.7966 - val_loss: 24.8024 - val_mae: 3.7918 - val_mse: 24.8024\n",
      "Epoch 19/1000\n",
      "7/7 [==============================] - 0s 9ms/step - loss: 20.9665 - mae: 3.5790 - mse: 20.9665 - val_loss: 21.9345 - val_mae: 3.5417 - val_mse: 21.9345\n",
      "Epoch 20/1000\n",
      "7/7 [==============================] - 0s 9ms/step - loss: 15.9169 - mae: 3.0907 - mse: 15.9169 - val_loss: 19.6953 - val_mae: 3.3280 - val_mse: 19.6953\n",
      "Epoch 21/1000\n",
      "7/7 [==============================] - 0s 8ms/step - loss: 16.5948 - mae: 3.2302 - mse: 16.5948 - val_loss: 18.0547 - val_mae: 3.1867 - val_mse: 18.0547\n",
      "Epoch 22/1000\n",
      "7/7 [==============================] - 0s 8ms/step - loss: 18.0534 - mae: 3.2181 - mse: 18.0534 - val_loss: 16.6283 - val_mae: 3.0304 - val_mse: 16.6283\n",
      "Epoch 23/1000\n",
      "7/7 [==============================] - 0s 9ms/step - loss: 14.7843 - mae: 2.9743 - mse: 14.7843 - val_loss: 15.4368 - val_mae: 2.9148 - val_mse: 15.4368\n",
      "Epoch 24/1000\n",
      "7/7 [==============================] - 0s 9ms/step - loss: 15.1440 - mae: 2.9307 - mse: 15.1440 - val_loss: 14.8196 - val_mae: 2.8499 - val_mse: 14.8196\n",
      "Epoch 25/1000\n",
      "7/7 [==============================] - 0s 8ms/step - loss: 14.9410 - mae: 2.8068 - mse: 14.9410 - val_loss: 13.7806 - val_mae: 2.7291 - val_mse: 13.7806\n",
      "Epoch 26/1000\n",
      "7/7 [==============================] - 0s 9ms/step - loss: 12.2208 - mae: 2.5949 - mse: 12.2208 - val_loss: 13.1831 - val_mae: 2.6492 - val_mse: 13.1831\n",
      "Epoch 27/1000\n",
      "7/7 [==============================] - 0s 11ms/step - loss: 14.3063 - mae: 2.8264 - mse: 14.3063 - val_loss: 12.4949 - val_mae: 2.5704 - val_mse: 12.4949\n",
      "Epoch 28/1000\n",
      "7/7 [==============================] - 0s 9ms/step - loss: 12.2935 - mae: 2.6364 - mse: 12.2935 - val_loss: 11.7874 - val_mae: 2.4993 - val_mse: 11.7874\n",
      "Epoch 29/1000\n",
      "7/7 [==============================] - 0s 9ms/step - loss: 12.4019 - mae: 2.5170 - mse: 12.4019 - val_loss: 11.3523 - val_mae: 2.4408 - val_mse: 11.3523\n",
      "Epoch 30/1000\n",
      "7/7 [==============================] - 0s 10ms/step - loss: 10.9423 - mae: 2.5195 - mse: 10.9423 - val_loss: 11.0137 - val_mae: 2.3988 - val_mse: 11.0137\n",
      "Epoch 31/1000\n",
      "7/7 [==============================] - 0s 10ms/step - loss: 10.0418 - mae: 2.3303 - mse: 10.0418 - val_loss: 10.6405 - val_mae: 2.3352 - val_mse: 10.6405\n",
      "Epoch 32/1000\n",
      "7/7 [==============================] - 0s 9ms/step - loss: 10.5884 - mae: 2.3794 - mse: 10.5884 - val_loss: 10.3542 - val_mae: 2.3064 - val_mse: 10.3542\n",
      "Epoch 33/1000\n",
      "7/7 [==============================] - 0s 9ms/step - loss: 11.8423 - mae: 2.5862 - mse: 11.8423 - val_loss: 10.2313 - val_mae: 2.2831 - val_mse: 10.2313\n",
      "Epoch 34/1000\n",
      "7/7 [==============================] - 0s 9ms/step - loss: 9.4726 - mae: 2.2553 - mse: 9.4726 - val_loss: 10.0548 - val_mae: 2.2654 - val_mse: 10.0548\n",
      "Epoch 35/1000\n",
      "7/7 [==============================] - 0s 9ms/step - loss: 9.8005 - mae: 2.2033 - mse: 9.8005 - val_loss: 9.9297 - val_mae: 2.2486 - val_mse: 9.9297\n",
      "Epoch 36/1000\n",
      "7/7 [==============================] - 0s 10ms/step - loss: 9.3220 - mae: 2.2133 - mse: 9.3220 - val_loss: 9.7054 - val_mae: 2.2070 - val_mse: 9.7054\n",
      "Epoch 37/1000\n",
      "7/7 [==============================] - 0s 10ms/step - loss: 9.0032 - mae: 2.1875 - mse: 9.0032 - val_loss: 9.4228 - val_mae: 2.1970 - val_mse: 9.4228\n",
      "Epoch 38/1000\n",
      "7/7 [==============================] - 0s 9ms/step - loss: 11.1638 - mae: 2.4909 - mse: 11.1638 - val_loss: 9.2739 - val_mae: 2.1759 - val_mse: 9.2739\n",
      "Epoch 39/1000\n",
      "7/7 [==============================] - 0s 9ms/step - loss: 9.6151 - mae: 2.3408 - mse: 9.6151 - val_loss: 9.1824 - val_mae: 2.1505 - val_mse: 9.1824\n",
      "Epoch 40/1000\n",
      "7/7 [==============================] - 0s 8ms/step - loss: 9.8007 - mae: 2.2533 - mse: 9.8007 - val_loss: 9.2168 - val_mae: 2.1889 - val_mse: 9.2168\n",
      "Epoch 41/1000\n",
      "7/7 [==============================] - 0s 8ms/step - loss: 11.8363 - mae: 2.4759 - mse: 11.8363 - val_loss: 9.0431 - val_mae: 2.1287 - val_mse: 9.0431\n",
      "Epoch 42/1000\n",
      "7/7 [==============================] - 0s 8ms/step - loss: 10.8647 - mae: 2.5058 - mse: 10.8647 - val_loss: 9.3831 - val_mae: 2.1906 - val_mse: 9.3831\n",
      "Epoch 43/1000\n",
      "7/7 [==============================] - 0s 8ms/step - loss: 10.5449 - mae: 2.4014 - mse: 10.5449 - val_loss: 8.9432 - val_mae: 2.1229 - val_mse: 8.9432\n",
      "Epoch 44/1000\n",
      "7/7 [==============================] - 0s 9ms/step - loss: 10.8279 - mae: 2.3951 - mse: 10.8279 - val_loss: 9.2471 - val_mae: 2.1874 - val_mse: 9.2471\n",
      "Epoch 45/1000\n",
      "7/7 [==============================] - 0s 8ms/step - loss: 9.7067 - mae: 2.2986 - mse: 9.7067 - val_loss: 8.7088 - val_mae: 2.0721 - val_mse: 8.7088\n",
      "Epoch 46/1000\n",
      "7/7 [==============================] - 0s 8ms/step - loss: 10.4753 - mae: 2.3585 - mse: 10.4753 - val_loss: 8.5273 - val_mae: 2.0591 - val_mse: 8.5273\n",
      "Epoch 47/1000\n",
      "7/7 [==============================] - 0s 7ms/step - loss: 9.6074 - mae: 2.2445 - mse: 9.6074 - val_loss: 9.0484 - val_mae: 2.2173 - val_mse: 9.0484\n",
      "Epoch 48/1000\n",
      "7/7 [==============================] - 0s 9ms/step - loss: 8.5401 - mae: 2.2406 - mse: 8.5401 - val_loss: 8.8591 - val_mae: 2.1914 - val_mse: 8.8591\n",
      "Epoch 49/1000\n",
      "7/7 [==============================] - 0s 8ms/step - loss: 8.8791 - mae: 2.1618 - mse: 8.8791 - val_loss: 8.4804 - val_mae: 2.0715 - val_mse: 8.4804\n",
      "Epoch 50/1000\n",
      "7/7 [==============================] - 0s 8ms/step - loss: 9.5032 - mae: 2.2981 - mse: 9.5032 - val_loss: 9.1127 - val_mae: 2.2475 - val_mse: 9.1127\n",
      "Epoch 51/1000\n",
      "7/7 [==============================] - 0s 8ms/step - loss: 9.3873 - mae: 2.2615 - mse: 9.3873 - val_loss: 8.5939 - val_mae: 2.1068 - val_mse: 8.5939\n",
      "Epoch 52/1000\n",
      "7/7 [==============================] - 0s 10ms/step - loss: 10.2668 - mae: 2.3286 - mse: 10.2668 - val_loss: 8.5878 - val_mae: 2.1605 - val_mse: 8.5878\n",
      "Epoch 53/1000\n",
      "7/7 [==============================] - 0s 9ms/step - loss: 8.6793 - mae: 2.1978 - mse: 8.6793 - val_loss: 8.4787 - val_mae: 2.1364 - val_mse: 8.4787\n",
      "Epoch 54/1000\n",
      "7/7 [==============================] - 0s 8ms/step - loss: 8.8827 - mae: 2.2242 - mse: 8.8827 - val_loss: 8.7538 - val_mae: 2.1989 - val_mse: 8.7538\n",
      "Epoch 55/1000\n",
      "7/7 [==============================] - 0s 8ms/step - loss: 10.7587 - mae: 2.3950 - mse: 10.7587 - val_loss: 8.5431 - val_mae: 2.1612 - val_mse: 8.5431\n",
      "Epoch 56/1000\n",
      "7/7 [==============================] - 0s 7ms/step - loss: 10.9547 - mae: 2.4027 - mse: 10.9547 - val_loss: 8.0517 - val_mae: 1.9981 - val_mse: 8.0517\n",
      "Epoch 57/1000\n",
      "7/7 [==============================] - 0s 8ms/step - loss: 10.9999 - mae: 2.4348 - mse: 10.9999 - val_loss: 8.0605 - val_mae: 2.0069 - val_mse: 8.0605\n",
      "Epoch 58/1000\n",
      "7/7 [==============================] - 0s 8ms/step - loss: 9.2083 - mae: 2.2100 - mse: 9.2083 - val_loss: 8.1062 - val_mae: 2.0188 - val_mse: 8.1062\n",
      "Epoch 59/1000\n",
      "7/7 [==============================] - 0s 8ms/step - loss: 11.5814 - mae: 2.4320 - mse: 11.5814 - val_loss: 7.8842 - val_mae: 1.9932 - val_mse: 7.8842\n",
      "Epoch 60/1000\n",
      "7/7 [==============================] - 0s 9ms/step - loss: 9.2040 - mae: 2.2463 - mse: 9.2040 - val_loss: 7.8832 - val_mae: 2.0000 - val_mse: 7.8832\n",
      "Epoch 61/1000\n",
      "7/7 [==============================] - 0s 9ms/step - loss: 9.2457 - mae: 2.2102 - mse: 9.2457 - val_loss: 8.0711 - val_mae: 2.0565 - val_mse: 8.0711\n",
      "Epoch 62/1000\n",
      "7/7 [==============================] - 0s 8ms/step - loss: 8.3395 - mae: 2.0916 - mse: 8.3395 - val_loss: 7.8261 - val_mae: 2.0110 - val_mse: 7.8261\n",
      "Epoch 63/1000\n",
      "7/7 [==============================] - 0s 9ms/step - loss: 9.2034 - mae: 2.2240 - mse: 9.2034 - val_loss: 8.1188 - val_mae: 2.0290 - val_mse: 8.1188\n",
      "Epoch 64/1000\n",
      "7/7 [==============================] - 0s 8ms/step - loss: 8.1441 - mae: 2.0988 - mse: 8.1441 - val_loss: 8.1899 - val_mae: 2.1366 - val_mse: 8.1899\n",
      "Epoch 65/1000\n",
      "7/7 [==============================] - 0s 8ms/step - loss: 8.2872 - mae: 2.1097 - mse: 8.2872 - val_loss: 7.8295 - val_mae: 1.9856 - val_mse: 7.8295\n",
      "Epoch 66/1000\n",
      "7/7 [==============================] - 0s 8ms/step - loss: 8.0520 - mae: 2.1238 - mse: 8.0520 - val_loss: 7.5542 - val_mae: 1.9560 - val_mse: 7.5542\n",
      "Epoch 67/1000\n",
      "7/7 [==============================] - 0s 8ms/step - loss: 8.3511 - mae: 2.0994 - mse: 8.3511 - val_loss: 7.6204 - val_mae: 1.9617 - val_mse: 7.6204\n",
      "Epoch 68/1000\n",
      "7/7 [==============================] - 0s 8ms/step - loss: 7.9946 - mae: 2.0558 - mse: 7.9946 - val_loss: 7.4800 - val_mae: 1.9549 - val_mse: 7.4800\n",
      "Epoch 69/1000\n",
      "7/7 [==============================] - 0s 8ms/step - loss: 9.3734 - mae: 2.2133 - mse: 9.3734 - val_loss: 7.7632 - val_mae: 2.0573 - val_mse: 7.7632\n",
      "Epoch 70/1000\n",
      "7/7 [==============================] - 0s 8ms/step - loss: 8.3515 - mae: 2.0922 - mse: 8.3515 - val_loss: 7.5634 - val_mae: 1.9480 - val_mse: 7.5634\n",
      "Epoch 71/1000\n",
      "7/7 [==============================] - 0s 8ms/step - loss: 8.8761 - mae: 2.1291 - mse: 8.8761 - val_loss: 7.4800 - val_mae: 1.9371 - val_mse: 7.4800\n",
      "Epoch 72/1000\n",
      "7/7 [==============================] - 0s 8ms/step - loss: 10.6826 - mae: 2.3849 - mse: 10.6826 - val_loss: 7.7736 - val_mae: 1.9935 - val_mse: 7.7736\n",
      "Epoch 73/1000\n",
      "7/7 [==============================] - 0s 8ms/step - loss: 9.2968 - mae: 2.1971 - mse: 9.2968 - val_loss: 7.8136 - val_mae: 1.9881 - val_mse: 7.8136\n",
      "Epoch 74/1000\n",
      "7/7 [==============================] - 0s 8ms/step - loss: 7.8196 - mae: 2.0585 - mse: 7.8196 - val_loss: 7.3881 - val_mae: 1.9247 - val_mse: 7.3881\n",
      "Epoch 75/1000\n",
      "7/7 [==============================] - 0s 8ms/step - loss: 8.1224 - mae: 2.0601 - mse: 8.1224 - val_loss: 7.4559 - val_mae: 1.9353 - val_mse: 7.4559\n",
      "Epoch 76/1000\n",
      "7/7 [==============================] - 0s 8ms/step - loss: 8.3697 - mae: 2.0816 - mse: 8.3697 - val_loss: 8.0304 - val_mae: 2.0178 - val_mse: 8.0304\n",
      "Epoch 77/1000\n",
      "7/7 [==============================] - 0s 7ms/step - loss: 9.1573 - mae: 2.1433 - mse: 9.1573 - val_loss: 7.5734 - val_mae: 2.0328 - val_mse: 7.5734\n",
      "Epoch 78/1000\n",
      "7/7 [==============================] - 0s 8ms/step - loss: 8.0372 - mae: 2.0780 - mse: 8.0372 - val_loss: 7.3440 - val_mae: 1.9302 - val_mse: 7.3440\n",
      "Epoch 79/1000\n",
      "7/7 [==============================] - 0s 8ms/step - loss: 8.8630 - mae: 2.0937 - mse: 8.8630 - val_loss: 7.3560 - val_mae: 1.9698 - val_mse: 7.3560\n",
      "Epoch 80/1000\n",
      "7/7 [==============================] - 0s 8ms/step - loss: 9.5684 - mae: 2.2338 - mse: 9.5684 - val_loss: 7.4073 - val_mae: 1.9400 - val_mse: 7.4073\n",
      "Epoch 81/1000\n",
      "7/7 [==============================] - 0s 8ms/step - loss: 8.1075 - mae: 2.0459 - mse: 8.1075 - val_loss: 7.2281 - val_mae: 1.9136 - val_mse: 7.2281\n",
      "Epoch 82/1000\n",
      "7/7 [==============================] - 0s 9ms/step - loss: 8.9569 - mae: 2.0802 - mse: 8.9569 - val_loss: 7.3045 - val_mae: 1.9220 - val_mse: 7.3045\n",
      "Epoch 83/1000\n",
      "7/7 [==============================] - 0s 11ms/step - loss: 8.1865 - mae: 2.0055 - mse: 8.1865 - val_loss: 7.1866 - val_mae: 1.9177 - val_mse: 7.1866\n",
      "Epoch 84/1000\n",
      "7/7 [==============================] - 0s 9ms/step - loss: 7.9955 - mae: 2.0042 - mse: 7.9955 - val_loss: 7.2625 - val_mae: 1.9165 - val_mse: 7.2625\n",
      "Epoch 85/1000\n",
      "7/7 [==============================] - 0s 8ms/step - loss: 7.2437 - mae: 1.9105 - mse: 7.2437 - val_loss: 7.1627 - val_mae: 1.8972 - val_mse: 7.1627\n",
      "Epoch 86/1000\n",
      "7/7 [==============================] - 0s 9ms/step - loss: 9.0445 - mae: 2.1635 - mse: 9.0445 - val_loss: 7.1942 - val_mae: 1.9054 - val_mse: 7.1942\n",
      "Epoch 87/1000\n",
      "7/7 [==============================] - 0s 8ms/step - loss: 9.4050 - mae: 2.1404 - mse: 9.4050 - val_loss: 7.4036 - val_mae: 2.0143 - val_mse: 7.4036\n",
      "Epoch 88/1000\n",
      "7/7 [==============================] - 0s 8ms/step - loss: 8.6293 - mae: 2.1736 - mse: 8.6293 - val_loss: 7.0831 - val_mae: 1.9136 - val_mse: 7.0831\n",
      "Epoch 89/1000\n",
      "7/7 [==============================] - 0s 8ms/step - loss: 6.8324 - mae: 1.8806 - mse: 6.8324 - val_loss: 7.0854 - val_mae: 1.9045 - val_mse: 7.0854\n",
      "Epoch 90/1000\n",
      "7/7 [==============================] - 0s 9ms/step - loss: 7.6993 - mae: 1.9737 - mse: 7.6993 - val_loss: 7.2322 - val_mae: 1.9160 - val_mse: 7.2322\n",
      "Epoch 91/1000\n",
      "7/7 [==============================] - 0s 9ms/step - loss: 8.1233 - mae: 2.0659 - mse: 8.1233 - val_loss: 6.9459 - val_mae: 1.8736 - val_mse: 6.9459\n",
      "Epoch 92/1000\n",
      "7/7 [==============================] - 0s 10ms/step - loss: 8.4234 - mae: 2.0884 - mse: 8.4234 - val_loss: 6.9860 - val_mae: 1.9127 - val_mse: 6.9860\n",
      "Epoch 93/1000\n",
      "7/7 [==============================] - 0s 11ms/step - loss: 8.1002 - mae: 2.0621 - mse: 8.1002 - val_loss: 7.1394 - val_mae: 1.9041 - val_mse: 7.1394\n",
      "Epoch 94/1000\n",
      "7/7 [==============================] - 0s 9ms/step - loss: 7.4547 - mae: 1.9849 - mse: 7.4547 - val_loss: 7.1082 - val_mae: 1.9614 - val_mse: 7.1082\n",
      "Epoch 95/1000\n",
      "7/7 [==============================] - 0s 8ms/step - loss: 9.3817 - mae: 2.1845 - mse: 9.3817 - val_loss: 7.1231 - val_mae: 1.9650 - val_mse: 7.1231\n",
      "Epoch 96/1000\n",
      "7/7 [==============================] - 0s 8ms/step - loss: 7.5034 - mae: 1.9931 - mse: 7.5034 - val_loss: 7.0734 - val_mae: 1.8933 - val_mse: 7.0734\n",
      "Epoch 97/1000\n",
      "7/7 [==============================] - 0s 8ms/step - loss: 6.7609 - mae: 1.8559 - mse: 6.7609 - val_loss: 7.1814 - val_mae: 1.9767 - val_mse: 7.1814\n",
      "Epoch 98/1000\n",
      "7/7 [==============================] - 0s 9ms/step - loss: 7.0496 - mae: 1.8758 - mse: 7.0496 - val_loss: 7.6350 - val_mae: 2.0980 - val_mse: 7.6350\n",
      "Epoch 99/1000\n",
      "7/7 [==============================] - 0s 8ms/step - loss: 7.9074 - mae: 2.1034 - mse: 7.9074 - val_loss: 7.1099 - val_mae: 1.8912 - val_mse: 7.1099\n",
      "Epoch 100/1000\n",
      "7/7 [==============================] - 0s 8ms/step - loss: 6.4102 - mae: 1.8299 - mse: 6.4102 - val_loss: 7.0346 - val_mae: 1.9578 - val_mse: 7.0346\n",
      "Epoch 101/1000\n",
      "7/7 [==============================] - 0s 8ms/step - loss: 7.2635 - mae: 1.9392 - mse: 7.2635 - val_loss: 6.9890 - val_mae: 1.9376 - val_mse: 6.9890\n"
     ]
    }
   ],
   "source": [
    "model_1 = keras.models.Sequential([\n",
    "    keras.layers.Dense(64, activation='relu', input_shape= X_train.shape[1:]),\n",
    "    keras.layers.Dense(64, activation='relu'),\n",
    "    keras.layers.Dense(1)\n",
    "])\n",
    "model_1.compile(loss='mse',\n",
    "              optimizer=keras.optimizers.RMSprop(0.001),\n",
    "              metrics=['mae','mse'])\n",
    "\n",
    "early_stopping = keras.callbacks.EarlyStopping(patience=10, restore_best_weights=True)\n",
    "\n",
    "history_1 = model_1.fit(X_train,\n",
    "                   y_train,\n",
    "                   epochs=1000,\n",
    "                   validation_split =0.2,\n",
    "                   callbacks=(early_stopping))"
   ]
  },
  {
   "cell_type": "markdown",
   "metadata": {
    "id": "S8sjsj12wp_T"
   },
   "source": [
    "Añade un early stopping al modelo. Ya hemos visto cómo hacerlo mediante el parámetro ``callback``. En este caso, pon un ``patience`` de 10."
   ]
  },
  {
   "cell_type": "markdown",
   "metadata": {
    "id": "t-K1I7igI45x"
   },
   "source": []
  },
  {
   "cell_type": "markdown",
   "metadata": {
    "id": "3St8-DmrX8P4"
   },
   "source": [
    "Evalúa el rendimiento del modelo mediante el estudio de los 3 valores que te devuelve el método que hemos visto para ello, que son: ``loss``, ``mae`` y ``mse``:"
   ]
  },
  {
   "cell_type": "code",
   "execution_count": 20,
   "metadata": {
    "colab": {
     "base_uri": "https://localhost:8080/"
    },
    "id": "jl_yNr5n1kms",
    "outputId": "f7e1b388-f45b-4602-9d31-277f59ea9efd"
   },
   "outputs": [
    {
     "name": "stdout",
     "output_type": "stream",
     "text": [
      "4/4 [==============================] - 0s 1ms/step - loss: 6.8632 - mae: 1.9426 - mse: 6.8632\n"
     ]
    }
   ],
   "source": [
    "v_loss, v_mae, v_mse = model_1.evaluate(X_test, y_test)\n",
    "\n"
   ]
  },
  {
   "cell_type": "code",
   "execution_count": 21,
   "metadata": {
    "colab": {
     "base_uri": "https://localhost:8080/"
    },
    "id": "tEgawICHJnLR",
    "outputId": "9ddf9b8b-4360-45ac-8527-a73dc6d0c9cc"
   },
   "outputs": [
    {
     "name": "stdout",
     "output_type": "stream",
     "text": [
      "4/4 [==============================] - 0s 2ms/step - loss: 6.8632 - mae: 1.9426 - mse: 6.8632\n"
     ]
    }
   ],
   "source": [
    "v_loss_1, v_mae_1, v_mse_1 = model_1.evaluate(X_test, y_test)"
   ]
  },
  {
   "cell_type": "markdown",
   "metadata": {
    "id": "Vt6W50qGsJAL"
   },
   "source": [
    "### Prediciendo\n",
    "\n",
    "Ahora, probemos el modelo realizando una predicción de los primeros 10 valores y represéntalos en una gráfica frente a sus valores reales, es decir, uno en cada eje:"
   ]
  },
  {
   "cell_type": "code",
   "execution_count": 22,
   "metadata": {
    "colab": {
     "base_uri": "https://localhost:8080/"
    },
    "id": "nvVCRXKuwp_T",
    "outputId": "c5eb9769-b1af-46d4-d746-cffb84642de5"
   },
   "outputs": [
    {
     "data": {
      "text/plain": [
       "array([[25.43418 ],\n",
       "       [20.53971 ],\n",
       "       [35.62841 ],\n",
       "       [27.07286 ],\n",
       "       [29.367144],\n",
       "       [29.498962],\n",
       "       [13.356874],\n",
       "       [30.338188],\n",
       "       [17.61961 ],\n",
       "       [31.25231 ]], dtype=float32)"
      ]
     },
     "execution_count": 22,
     "metadata": {},
     "output_type": "execute_result"
    }
   ],
   "source": [
    "X_new = X_test[:10]\n",
    "y_pred = model_1.predict(X_new)\n",
    "y_pred"
   ]
  },
  {
   "cell_type": "code",
   "execution_count": null,
   "metadata": {
    "colab": {
     "base_uri": "https://localhost:8080/"
    },
    "id": "f-OHX4DiXd8x",
    "outputId": "d80ba201-3105-4987-9206-57c7bb4b8458"
   },
   "outputs": [
    {
     "data": {
      "text/plain": [
       "79     26.0\n",
       "276    21.6\n",
       "248    36.1\n",
       "56     26.0\n",
       "393    27.0\n",
       "205    28.0\n",
       "43     13.0\n",
       "235    26.0\n",
       "152    19.0\n",
       "117    29.0\n",
       "Name: MPG, dtype: float64"
      ]
     },
     "execution_count": 93,
     "metadata": {
      "tags": []
     },
     "output_type": "execute_result"
    }
   ],
   "source": [
    "y_test[:10]"
   ]
  },
  {
   "cell_type": "markdown",
   "metadata": {
    "id": "9_jM4VnEwp_T"
   },
   "source": [
    "### EXTRA: Mejora el modelo\n",
    "\n",
    "Aunque estemos ante muy pocas muestras, y el verdadero poder de las redes neuronales se observa con grandes volúmenes de datos, vamos a tratar de mejorar los resultados.\n",
    "\n",
    "Modifica algunos de los parámetros utilizados en este modelo para intentar mejorar los resultados. Hay muchas posibilidades, pero empieza tocando un parámtro hasta encontrar un valor adecuado y luego modiica otros hasta obtener algo que sea suficientemente bueno.\n",
    "\n",
    "También podrías crear nuevas variables para ver si mejora el modelo."
   ]
  },
  {
   "cell_type": "code",
   "execution_count": null,
   "metadata": {
    "id": "58z0vs1Jwp_T"
   },
   "outputs": [],
   "source": []
  },
  {
   "cell_type": "code",
   "execution_count": null,
   "metadata": {
    "id": "lcAUv-UYwp_T"
   },
   "outputs": [],
   "source": []
  },
  {
   "cell_type": "code",
   "execution_count": null,
   "metadata": {
    "id": "ap_cth8Ewp_T"
   },
   "outputs": [],
   "source": []
  }
 ],
 "metadata": {
  "colab": {
   "collapsed_sections": [],
   "name": "Copia de 02_DL_Regresión.ipynb",
   "provenance": [],
   "toc_visible": true
  },
  "kernelspec": {
   "display_name": "Python 3",
   "language": "python",
   "name": "python3"
  },
  "language_info": {
   "codemirror_mode": {
    "name": "ipython",
    "version": 3
   },
   "file_extension": ".py",
   "mimetype": "text/x-python",
   "name": "python",
   "nbconvert_exporter": "python",
   "pygments_lexer": "ipython3",
   "version": "3.8.3"
  }
 },
 "nbformat": 4,
 "nbformat_minor": 4
}
